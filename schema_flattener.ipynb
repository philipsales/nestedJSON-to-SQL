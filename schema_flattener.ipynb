{
 "cells": [
  {
   "cell_type": "code",
   "execution_count": 326,
   "metadata": {},
   "outputs": [],
   "source": [
    "import logging\n",
    "import json\n",
    "import csv\n",
    "import numpy as np\n",
    "import pandas as pd\n",
    "from pandas.io.json import json_normalize \n",
    "from pandas import read_csv\n",
    "from functools import reduce\n",
    "from collections import defaultdict"
   ]
  },
  {
   "cell_type": "markdown",
   "metadata": {},
   "source": [
    "## Configuration "
   ]
  },
  {
   "cell_type": "code",
   "execution_count": 327,
   "metadata": {},
   "outputs": [],
   "source": [
    "#etl = 'kobo2elastic'\n",
    "#etl = 'curis2elastic'\n",
    "#etl = 'oldcuris2newcuris'\n",
    "etl = 'isabela2newaqm'\n",
    "\n",
    "input_schema_file = ''\n",
    "input_data_file = ''\n",
    "mapping_file = ''\n",
    "\n",
    "root_object = 'resident'\n",
    "\n",
    "if etl == 'curis2elastic':\n",
    "    #old curis to elasticsearch\n",
    "    input_schema_file = 'schema/input/curisSchema.1-item.json'\n",
    "    output_dir = 'file/curisSchema/'\n",
    "    \n",
    "elif etl == 'kobo2elastic':\n",
    "    #kobo to elasticsearch\n",
    "    input_schema_file = 'schema/input/koboSchema.1-item.json'\n",
    "    output_dir = 'file/koboSchema/'\n",
    "    \n",
    "elif etl == 'oldcuris2newcuris':\n",
    "    #kobo to elasticsearch\n",
    "    input_schema_file = 'schema/input/curisSchema.1-item.json'\n",
    "    output_dir = 'file/curisSchema/'\n",
    "    \n",
    "elif etl == 'cambodia2newaqm':\n",
    "    #kobo to elasticsearch\n",
    "    input_schema_file = 'schema/input/KHMSchema.json'\n",
    "    output_dir = 'file/KHMSchema/'\n",
    "\n",
    "elif etl == 'isabela2newaqm':\n",
    "    #kobo to elasticsearch\n",
    "    input_schema_file = 'schema/input/curisSchema.1-item.json'\n",
    "    output_dir = 'data/processed/couchbase-curis-2019-06-21/'"
   ]
  },
  {
   "cell_type": "markdown",
   "metadata": {},
   "source": [
    "### BUGS LIST: \n",
    "### 1. unique identifier must be defined\n",
    "### 2. fields starting with underscore are discareded"
   ]
  },
  {
   "cell_type": "markdown",
   "metadata": {},
   "source": [
    "### TODO LIST\n",
    "### 1. Include all primitives: Boolean, integer, array\n",
    "### 2. Create a _meta file"
   ]
  },
  {
   "cell_type": "markdown",
   "metadata": {},
   "source": [
    "## Get input JSON Schema (draft 07)"
   ]
  },
  {
   "cell_type": "code",
   "execution_count": 328,
   "metadata": {},
   "outputs": [],
   "source": [
    "def _get_schema():\n",
    "    _data_df = pd.DataFrame()\n",
    "    \n",
    "    with open(input_schema_file) as f:\n",
    "        _data_df = json_normalize(json.load(f))\n",
    "    \n",
    "    return _data_df"
   ]
  },
  {
   "cell_type": "code",
   "execution_count": 329,
   "metadata": {},
   "outputs": [],
   "source": [
    "def _get_json_schema_properties(schema_df):\n",
    "    _required_properties = []\n",
    "    _required_fields = pd.DataFrame()\n",
    "\n",
    "    for prop in list(schema_df):\n",
    "        if \"._\" not in prop:\n",
    "            if len(prop.split(sep='.')) > 2:\n",
    "                if prop.split(sep='.')[-1] == 'type' or prop.split(sep='.')[-1] == 'title':\n",
    "                    _required_properties.append(prop)\n",
    "    \n",
    "    _required_fields = schema_df[_required_properties]\n",
    "    \n",
    "    return _required_fields"
   ]
  },
  {
   "cell_type": "code",
   "execution_count": 330,
   "metadata": {},
   "outputs": [],
   "source": [
    "def _get_avro_schema_properties(schema_df):\n",
    "    pass"
   ]
  },
  {
   "cell_type": "code",
   "execution_count": 331,
   "metadata": {},
   "outputs": [],
   "source": [
    "def _clean_value(value):\n",
    "    return value.lower().replace(\"/\", \".\").replace(\"the\", \"\").replace(\"schema\", \"\").strip()\n",
    "\n",
    "def _clean_index(index):\n",
    "    return index.lower().replace(\"/\", \".\").replace(\"properties.\", \"\").replace(\"items.\", \"\").strip()"
   ]
  },
  {
   "cell_type": "code",
   "execution_count": 332,
   "metadata": {},
   "outputs": [],
   "source": [
    "def _clean_schema(required_fields_df):\n",
    "    _newSchema_df = pd.DataFrame()\n",
    "    _required_fields_df = required_fields_df\n",
    "\n",
    "    _newSchema_df['value'] = _required_fields_df.T[0].apply(_clean_value)\n",
    "    _newSchema_df.reset_index(level=0, inplace=True)\n",
    "    _newSchema_df['index'] = _newSchema_df['index'].apply(_clean_index)\n",
    "    _newSchema_df.sort_values(['index'])\n",
    "    \n",
    "    return _newSchema_df"
   ]
  },
  {
   "cell_type": "code",
   "execution_count": 333,
   "metadata": {},
   "outputs": [],
   "source": [
    "def _get_key_type(newSchema_df):\n",
    "    _valueSchema_df = pd.DataFrame()\n",
    "    _newSchema_df = newSchema_df\n",
    "\n",
    "    schema_length = len(_newSchema_df)\n",
    "    title_counter = 0\n",
    "    type_counter = 1\n",
    "    skip = 2\n",
    "\n",
    "    title_property = []\n",
    "    type_property = []\n",
    "\n",
    "    while (title_counter < schema_length):\n",
    "        title_property.append(_newSchema_df.iloc[title_counter]['index'].replace('.title',''))\n",
    "        title_counter += skip\n",
    "\n",
    "    while (type_counter < schema_length):\n",
    "        type_property.append(_newSchema_df.iloc[type_counter]['value'])\n",
    "        type_counter += skip\n",
    "\n",
    "    _valueSchema_df['source_key'] = title_property\n",
    "    _valueSchema_df['source_type'] = type_property\n",
    "\n",
    "    _valueSchema_df = _valueSchema_df.sort_values(['source_key']).reset_index(drop=True)\n",
    "    _valueSchema_df.loc[_valueSchema_df['source_type'] == 'array']\n",
    "\n",
    "    return _valueSchema_df"
   ]
  },
  {
   "cell_type": "markdown",
   "metadata": {},
   "source": [
    "## Create root or default file (e.g. main, resident)"
   ]
  },
  {
   "cell_type": "code",
   "execution_count": 334,
   "metadata": {},
   "outputs": [],
   "source": [
    "def _get_type_array(kv_schema_df):\n",
    "    _type_array_df = pd.DataFrame()\n",
    "    _type_array_list = []\n",
    "    \n",
    "    _type_array_df = kv_schema_df.loc[kv_schema_df['source_type'] == 'array']\n",
    "    _type_array_df = _type_array_df.reset_index(drop=True)\n",
    "\n",
    "    _type_array_list = list(_type_array_df['source_key']) #array type\n",
    "    \n",
    "    return _type_array_list"
   ]
  },
  {
   "cell_type": "markdown",
   "metadata": {},
   "source": [
    "## TODO: Include all primitives: Boolean, integer, array"
   ]
  },
  {
   "cell_type": "code",
   "execution_count": 335,
   "metadata": {},
   "outputs": [],
   "source": [
    "def _get_type_primitive(kv_schema_df):\n",
    "    _type_primitive_df = pd.DataFrame()\n",
    "    _type_primitive_df = kv_schema_df.loc[kv_schema_df['source_type'] == 'string' ]\n",
    "\n",
    "    _type_primitive_list = []\n",
    "    _type_primitive_list = list(_type_primitive_df['source_key']) \n",
    "    return _type_primitive_list"
   ]
  },
  {
   "cell_type": "code",
   "execution_count": 336,
   "metadata": {},
   "outputs": [],
   "source": [
    "def _get_type_list(property_type_primitives, property_type_array):\n",
    "    list_fields = []\n",
    "\n",
    "    for primitive_field in property_type_primitives:\n",
    "        for array_field in property_type_array:\n",
    "\n",
    "            tmp_array = primitive_field.split(sep='.')\n",
    "\n",
    "            if(len(tmp_array)) > 1:\n",
    "                if primitive_field == array_field: #for array list\n",
    "                    list_fields.append(primitive_field)\n",
    "            elif(len(tmp_array)) == 1:\n",
    "                if primitive_field == array_field:\n",
    "                    list_fields.append(primitive_field)\n",
    "\n",
    "    return list_fields"
   ]
  },
  {
   "cell_type": "code",
   "execution_count": 337,
   "metadata": {},
   "outputs": [],
   "source": [
    "def _get_type_primitive_root(property_type_primitives, property_type_array):\n",
    "    root_primitive_fields = []\n",
    "\n",
    "    for primitive_field in property_type_primitives:\n",
    "        for array_field in property_type_array:\n",
    "\n",
    "            tmp_array = primitive_field.split(sep='.')\n",
    "        \n",
    "            if(len(tmp_array)) == 1:\n",
    "                \n",
    "                if primitive_field != array_field:\n",
    "                    root_primitive_fields.append(primitive_field)\n",
    "\n",
    "    root_primitive_fields = list(dict.fromkeys(root_primitive_fields))\n",
    "    root_primitive_fields = list(set(root_primitive_fields) - set(property_type_array))\n",
    "    \n",
    "    return root_primitive_fields"
   ]
  },
  {
   "cell_type": "code",
   "execution_count": 338,
   "metadata": {},
   "outputs": [],
   "source": [
    "def _segregate_fields(property_type_primitives, property_type_array):\n",
    "    property_types_dd = defaultdict(list)\n",
    "\n",
    "    primitive_fields = []\n",
    "    list_fields = []\n",
    "\n",
    "    for primitive_field in property_type_primitives:\n",
    "        for array_field in property_type_array:\n",
    "\n",
    "            tmp_array = primitive_field.split(sep='.')\n",
    "\n",
    "            if(len(tmp_array)) > 1:\n",
    "\n",
    "                if primitive_field == array_field: #for array list\n",
    "                    list_fields.append(primitive_field)\n",
    "\n",
    "            elif(len(tmp_array)) == 1:\n",
    "\n",
    "                if primitive_field == array_field:\n",
    "                    list_fields.append(primitive_field)\n",
    "                else:\n",
    "                    primitive_fields.append(primitive_field)\n",
    "\n",
    "    property_types_dd['root_primitive']  = list(dict.fromkeys(primitive_fields))\n",
    "    property_types_dd['list']  = list_fields\n",
    "    #print(list(property_types_dd['root_primitive']))\n",
    "    return property_types_dd"
   ]
  },
  {
   "cell_type": "code",
   "execution_count": 339,
   "metadata": {},
   "outputs": [],
   "source": [
    "def _write_main_file():\n",
    "    with open(output_dir + root_object + '.csv', 'w'):\n",
    "        pass"
   ]
  },
  {
   "cell_type": "code",
   "execution_count": 340,
   "metadata": {},
   "outputs": [],
   "source": [
    "def _write_non_main_file(array_type_field):\n",
    "\n",
    "    for field_name in list(array_type_field):\n",
    "        with open(output_dir + field_name + '.csv', 'w'):\n",
    "            pass\n",
    "        \n",
    "    return"
   ]
  },
  {
   "cell_type": "code",
   "execution_count": 341,
   "metadata": {},
   "outputs": [],
   "source": [
    "def _write_type_list_header(lists):\n",
    "\n",
    "    for list_field in lists:\n",
    "        _columns_list = []\n",
    "        _columns_list.append('_id')\n",
    "        _columns_list.append('_index_map')\n",
    "        _columns_list.append(list_field)\n",
    "        \n",
    "        list_type_fields  = pd.DataFrame(columns = _columns_list)\n",
    "        list_type_fields.to_csv(output_dir + list_field + '.csv', encoding='utf-8', mode='a', index=False)\n",
    "    return "
   ]
  },
  {
   "cell_type": "markdown",
   "metadata": {},
   "source": [
    "## Create headers for type: array of objects and primitive type (int, str) @object level"
   ]
  },
  {
   "cell_type": "code",
   "execution_count": 342,
   "metadata": {},
   "outputs": [],
   "source": [
    "def _get_type_object(property_type_array, property_type_primitives, property_type_primitive_root):\n",
    "    _array_objects = set()\n",
    "    _array_objects = set(property_type_primitives) - set(property_type_array) - set(property_type_primitive_root)\n",
    "    _array_objects_list = list(_array_objects)\n",
    "\n",
    "    object_type_dd = defaultdict(list)\n",
    "    non_root_header_object = []\n",
    "    root_header_object = []\n",
    "\n",
    "    for name in _array_objects_list:\n",
    "        str1 = name.split('.')\n",
    "        str2 = '.'.join(str1[0:-1])\n",
    "        \n",
    "\n",
    "        if str2 in property_type_array:\n",
    "            non_root_header_object.append(name)\n",
    "        else:\n",
    "            root_header_object.append(name)\n",
    "\n",
    "    object_type_dd['non_root_objects']  = non_root_header_object\n",
    "    object_type_dd['root_objects']  = root_header_object\n",
    "    \n",
    "    #print(object_type_dd['non_root_objects'])\n",
    "    \n",
    "    _dd_objects = defaultdict(list)\n",
    "    _dd_non_root = defaultdict(list)\n",
    "    _dd_root = defaultdict(list)\n",
    "    \n",
    "    for header in object_type_dd['non_root_objects']:\n",
    "        \n",
    "        filenames = header.split(sep=\".\")[0:-1]\n",
    "        filenames = '.'.join(filenames)\n",
    "        \n",
    "        _dd_non_root[filenames].append(header)\n",
    "    \n",
    "    for header in object_type_dd['root_objects']:\n",
    "        filenames = header.split(sep=\".\")[0:1]\n",
    "        filenames = '.'.join(filenames)\n",
    "\n",
    "        if filenames in property_type_array:\n",
    "            #print(filenames)\n",
    "            _dd_non_root[filenames].append(header)\n",
    "        else:\n",
    "            _dd_root[root_object].append(header)\n",
    "    \n",
    "    _dd_objects['_dd_non_root_objects'] = _dd_non_root\n",
    "    _dd_objects['_dd_root_objects'] = _dd_root\n",
    "    \n",
    "    #print(list(_dd_objects))\n",
    "    return _dd_objects"
   ]
  },
  {
   "cell_type": "markdown",
   "metadata": {},
   "source": [
    "## Write headers for type: array of object"
   ]
  },
  {
   "cell_type": "code",
   "execution_count": 343,
   "metadata": {},
   "outputs": [],
   "source": [
    "def _write_type_array_object_header(dd_non_root):\n",
    "    for header in dd_non_root:\n",
    "        _columns_list = []\n",
    "        _columns_list.append('_id')\n",
    "        _columns_list.append('_index_map')\n",
    "        _columns_list += list(dd_non_root[header])\n",
    "\n",
    "        object_array_csv_df  = pd.DataFrame(columns = _columns_list)\n",
    "        object_array_csv_df.to_csv(output_dir + header + '.csv', encoding='utf-8', mode='a', index=False)"
   ]
  },
  {
   "cell_type": "code",
   "execution_count": 344,
   "metadata": {},
   "outputs": [],
   "source": [
    "def _write_type_main_header(root_primitive, root_object):\n",
    "    \n",
    "    _main_header_list = []\n",
    "    _main_header_list.append('_id')\n",
    "    _main_header_list.append('_index_map')\n",
    "    \n",
    "    #include root primitives\n",
    "    _main_header_list += root_primitive\n",
    "    #include root objects\n",
    "    _main_header_list += root_object\n",
    "    \n",
    "    \n",
    "    print(_main_header_list)\n",
    "    main_resident_df  = pd.DataFrame(columns = _main_header_list)\n",
    "    main_resident_df.to_csv(output_dir + 'resident' + '.csv', encoding='utf-8', mode='a', index=False)\n",
    "    main_resident_df"
   ]
  },
  {
   "cell_type": "code",
   "execution_count": 345,
   "metadata": {},
   "outputs": [],
   "source": [
    "def _write_schema_definition(property_type_array):\n",
    "    \n",
    "    filenames_list = property_type_array \n",
    "  \n",
    "    filenames_list.append('resident')\n",
    "\n",
    "    filenames_str = \",\".join(filenames_list)\n",
    "\n",
    "    schema_desc_df = pd.DataFrame() \n",
    "    schema_desc_df['file_name'] = [filenames_str]\n",
    "    schema_desc_df['file_count']  = len(filenames_list)\n",
    "    schema_desc_df['date'] = pd.to_datetime('today')\n",
    "    schema_desc_df['source_schema'] = input_schema_file \n",
    "    schema_desc_df['version'] = '1.0'\n",
    "    schema_desc_df.to_csv(output_dir + 'schema.csv', encoding='utf-8', mode='w', index=False)\n",
    "    return schema_desc_df"
   ]
  },
  {
   "cell_type": "code",
   "execution_count": 346,
   "metadata": {},
   "outputs": [],
   "source": [
    "schema_df = _get_schema()"
   ]
  },
  {
   "cell_type": "code",
   "execution_count": 347,
   "metadata": {},
   "outputs": [],
   "source": [
    "required_fields_df = _get_json_schema_properties(schema_df)"
   ]
  },
  {
   "cell_type": "code",
   "execution_count": 348,
   "metadata": {},
   "outputs": [],
   "source": [
    "clean_schema_df = _clean_schema(required_fields_df)"
   ]
  },
  {
   "cell_type": "code",
   "execution_count": 349,
   "metadata": {},
   "outputs": [],
   "source": [
    "kv_schema_df = _get_key_type(clean_schema_df)"
   ]
  },
  {
   "cell_type": "code",
   "execution_count": 350,
   "metadata": {},
   "outputs": [],
   "source": [
    "property_type_array = _get_type_array(kv_schema_df)"
   ]
  },
  {
   "cell_type": "code",
   "execution_count": 351,
   "metadata": {},
   "outputs": [],
   "source": [
    "property_type_primitives = _get_type_primitive(kv_schema_df)"
   ]
  },
  {
   "cell_type": "code",
   "execution_count": 352,
   "metadata": {},
   "outputs": [],
   "source": [
    "property_type_list = _get_type_list(property_type_primitives, property_type_array)"
   ]
  },
  {
   "cell_type": "code",
   "execution_count": 353,
   "metadata": {},
   "outputs": [],
   "source": [
    "property_type_primitive_root = _get_type_primitive_root(property_type_primitives, property_type_array)"
   ]
  },
  {
   "cell_type": "code",
   "execution_count": 354,
   "metadata": {},
   "outputs": [],
   "source": [
    "#property_type_dd = _segregate_fields(property_type_primitives ,property_type_array)"
   ]
  },
  {
   "cell_type": "code",
   "execution_count": 355,
   "metadata": {},
   "outputs": [],
   "source": [
    "_write_main_file()"
   ]
  },
  {
   "cell_type": "code",
   "execution_count": 356,
   "metadata": {},
   "outputs": [],
   "source": [
    "_write_non_main_file(property_type_array)"
   ]
  },
  {
   "cell_type": "code",
   "execution_count": 357,
   "metadata": {},
   "outputs": [],
   "source": [
    "_write_type_list_header(property_type_list)"
   ]
  },
  {
   "cell_type": "code",
   "execution_count": 358,
   "metadata": {},
   "outputs": [],
   "source": [
    "type_object_dd = _get_type_object(property_type_array, property_type_primitives, property_type_primitive_root)"
   ]
  },
  {
   "cell_type": "code",
   "execution_count": 359,
   "metadata": {},
   "outputs": [],
   "source": [
    "_write_type_array_object_header(type_object_dd['_dd_non_root_objects'])"
   ]
  },
  {
   "cell_type": "code",
   "execution_count": 360,
   "metadata": {},
   "outputs": [
    {
     "name": "stdout",
     "output_type": "stream",
     "text": [
      "['_id', '_index_map', 'organization', 'gender', 'last_name_suffix', 'first_name', 'type', 'last_name', 'middle_name', 'registered_at', 'nhid', 'birthdate', 'id', 'identification.id2.type', 'address.lot_or_house_number', 'profile_picture.path', 'address.province', 'address.barangay', 'profile_picture.name', 'address.postal_code', 'user-cam.id', 'identification.id3.type', 'contact_number.country_code', 'identification.id1.identifier', 'identification.id3.identifier', 'identification.id1.type', 'identification.id2.identifier', 'address.country', 'user-cam.owner', 'contact_number.number']\n"
     ]
    }
   ],
   "source": [
    "root_primitive = []\n",
    "root_object = []\n",
    "root_primitive = property_type_primitive_root\n",
    "root_object = type_object_dd['_dd_root_objects']['resident']\n",
    "_write_type_main_header(root_primitive, root_object)"
   ]
  },
  {
   "cell_type": "code",
   "execution_count": 361,
   "metadata": {},
   "outputs": [
    {
     "data": {
      "text/html": [
       "<div>\n",
       "<style scoped>\n",
       "    .dataframe tbody tr th:only-of-type {\n",
       "        vertical-align: middle;\n",
       "    }\n",
       "\n",
       "    .dataframe tbody tr th {\n",
       "        vertical-align: top;\n",
       "    }\n",
       "\n",
       "    .dataframe thead th {\n",
       "        text-align: right;\n",
       "    }\n",
       "</style>\n",
       "<table border=\"1\" class=\"dataframe\">\n",
       "  <thead>\n",
       "    <tr style=\"text-align: right;\">\n",
       "      <th></th>\n",
       "      <th>file_name</th>\n",
       "      <th>file_count</th>\n",
       "      <th>date</th>\n",
       "      <th>source_schema</th>\n",
       "      <th>version</th>\n",
       "    </tr>\n",
       "  </thead>\n",
       "  <tbody>\n",
       "    <tr>\n",
       "      <th>0</th>\n",
       "      <td>child_healths,child_healths.child.following_ex...</td>\n",
       "      <td>59</td>\n",
       "      <td>2019-07-20 10:21:14.563737</td>\n",
       "      <td>schema/input/curisSchema.1-item.json</td>\n",
       "      <td>1.0</td>\n",
       "    </tr>\n",
       "  </tbody>\n",
       "</table>\n",
       "</div>"
      ],
      "text/plain": [
       "                                           file_name  file_count  \\\n",
       "0  child_healths,child_healths.child.following_ex...          59   \n",
       "\n",
       "                        date                         source_schema version  \n",
       "0 2019-07-20 10:21:14.563737  schema/input/curisSchema.1-item.json     1.0  "
      ]
     },
     "execution_count": 361,
     "metadata": {},
     "output_type": "execute_result"
    }
   ],
   "source": [
    "_write_schema_definition(property_type_array)"
   ]
  },
  {
   "cell_type": "code",
   "execution_count": null,
   "metadata": {},
   "outputs": [],
   "source": []
  },
  {
   "cell_type": "code",
   "execution_count": null,
   "metadata": {},
   "outputs": [],
   "source": []
  },
  {
   "cell_type": "code",
   "execution_count": null,
   "metadata": {},
   "outputs": [],
   "source": []
  },
  {
   "cell_type": "code",
   "execution_count": null,
   "metadata": {},
   "outputs": [],
   "source": []
  },
  {
   "cell_type": "code",
   "execution_count": null,
   "metadata": {},
   "outputs": [],
   "source": []
  },
  {
   "cell_type": "code",
   "execution_count": null,
   "metadata": {},
   "outputs": [],
   "source": []
  },
  {
   "cell_type": "code",
   "execution_count": null,
   "metadata": {},
   "outputs": [],
   "source": []
  },
  {
   "cell_type": "code",
   "execution_count": null,
   "metadata": {},
   "outputs": [],
   "source": []
  },
  {
   "cell_type": "code",
   "execution_count": null,
   "metadata": {},
   "outputs": [],
   "source": []
  },
  {
   "cell_type": "code",
   "execution_count": null,
   "metadata": {},
   "outputs": [],
   "source": []
  },
  {
   "cell_type": "code",
   "execution_count": null,
   "metadata": {},
   "outputs": [],
   "source": []
  },
  {
   "cell_type": "code",
   "execution_count": null,
   "metadata": {},
   "outputs": [],
   "source": []
  },
  {
   "cell_type": "code",
   "execution_count": null,
   "metadata": {},
   "outputs": [],
   "source": []
  },
  {
   "cell_type": "code",
   "execution_count": null,
   "metadata": {},
   "outputs": [],
   "source": []
  },
  {
   "cell_type": "code",
   "execution_count": null,
   "metadata": {},
   "outputs": [],
   "source": []
  },
  {
   "cell_type": "code",
   "execution_count": null,
   "metadata": {},
   "outputs": [],
   "source": []
  },
  {
   "cell_type": "code",
   "execution_count": null,
   "metadata": {},
   "outputs": [],
   "source": []
  },
  {
   "cell_type": "code",
   "execution_count": null,
   "metadata": {},
   "outputs": [],
   "source": []
  },
  {
   "cell_type": "code",
   "execution_count": null,
   "metadata": {},
   "outputs": [],
   "source": []
  },
  {
   "cell_type": "code",
   "execution_count": null,
   "metadata": {},
   "outputs": [],
   "source": []
  },
  {
   "cell_type": "code",
   "execution_count": null,
   "metadata": {},
   "outputs": [],
   "source": []
  },
  {
   "cell_type": "code",
   "execution_count": null,
   "metadata": {},
   "outputs": [],
   "source": []
  },
  {
   "cell_type": "code",
   "execution_count": null,
   "metadata": {},
   "outputs": [],
   "source": []
  },
  {
   "cell_type": "code",
   "execution_count": null,
   "metadata": {},
   "outputs": [],
   "source": []
  },
  {
   "cell_type": "code",
   "execution_count": null,
   "metadata": {},
   "outputs": [],
   "source": []
  },
  {
   "cell_type": "code",
   "execution_count": null,
   "metadata": {},
   "outputs": [],
   "source": []
  },
  {
   "cell_type": "code",
   "execution_count": null,
   "metadata": {},
   "outputs": [],
   "source": []
  },
  {
   "cell_type": "code",
   "execution_count": null,
   "metadata": {},
   "outputs": [],
   "source": []
  },
  {
   "cell_type": "code",
   "execution_count": null,
   "metadata": {},
   "outputs": [],
   "source": []
  },
  {
   "cell_type": "code",
   "execution_count": null,
   "metadata": {},
   "outputs": [],
   "source": []
  },
  {
   "cell_type": "code",
   "execution_count": null,
   "metadata": {},
   "outputs": [],
   "source": []
  },
  {
   "cell_type": "code",
   "execution_count": null,
   "metadata": {},
   "outputs": [],
   "source": []
  },
  {
   "cell_type": "code",
   "execution_count": null,
   "metadata": {},
   "outputs": [],
   "source": []
  },
  {
   "cell_type": "code",
   "execution_count": null,
   "metadata": {},
   "outputs": [],
   "source": []
  },
  {
   "cell_type": "code",
   "execution_count": null,
   "metadata": {},
   "outputs": [],
   "source": []
  },
  {
   "cell_type": "code",
   "execution_count": null,
   "metadata": {},
   "outputs": [],
   "source": []
  },
  {
   "cell_type": "code",
   "execution_count": null,
   "metadata": {},
   "outputs": [],
   "source": []
  },
  {
   "cell_type": "code",
   "execution_count": null,
   "metadata": {},
   "outputs": [],
   "source": []
  },
  {
   "cell_type": "code",
   "execution_count": null,
   "metadata": {},
   "outputs": [],
   "source": []
  },
  {
   "cell_type": "code",
   "execution_count": null,
   "metadata": {},
   "outputs": [],
   "source": []
  },
  {
   "cell_type": "code",
   "execution_count": null,
   "metadata": {},
   "outputs": [],
   "source": []
  },
  {
   "cell_type": "code",
   "execution_count": null,
   "metadata": {},
   "outputs": [],
   "source": []
  },
  {
   "cell_type": "code",
   "execution_count": null,
   "metadata": {},
   "outputs": [],
   "source": []
  },
  {
   "cell_type": "code",
   "execution_count": null,
   "metadata": {},
   "outputs": [],
   "source": []
  },
  {
   "cell_type": "code",
   "execution_count": null,
   "metadata": {},
   "outputs": [],
   "source": []
  },
  {
   "cell_type": "code",
   "execution_count": null,
   "metadata": {},
   "outputs": [],
   "source": []
  },
  {
   "cell_type": "code",
   "execution_count": null,
   "metadata": {},
   "outputs": [],
   "source": []
  },
  {
   "cell_type": "code",
   "execution_count": null,
   "metadata": {},
   "outputs": [],
   "source": []
  },
  {
   "cell_type": "code",
   "execution_count": null,
   "metadata": {},
   "outputs": [],
   "source": []
  },
  {
   "cell_type": "code",
   "execution_count": null,
   "metadata": {},
   "outputs": [],
   "source": []
  },
  {
   "cell_type": "code",
   "execution_count": null,
   "metadata": {},
   "outputs": [],
   "source": []
  },
  {
   "cell_type": "code",
   "execution_count": null,
   "metadata": {},
   "outputs": [],
   "source": []
  },
  {
   "cell_type": "code",
   "execution_count": null,
   "metadata": {},
   "outputs": [],
   "source": []
  },
  {
   "cell_type": "code",
   "execution_count": null,
   "metadata": {},
   "outputs": [],
   "source": []
  },
  {
   "cell_type": "code",
   "execution_count": null,
   "metadata": {},
   "outputs": [],
   "source": []
  },
  {
   "cell_type": "code",
   "execution_count": null,
   "metadata": {},
   "outputs": [],
   "source": []
  },
  {
   "cell_type": "code",
   "execution_count": null,
   "metadata": {},
   "outputs": [],
   "source": []
  },
  {
   "cell_type": "code",
   "execution_count": null,
   "metadata": {},
   "outputs": [],
   "source": []
  },
  {
   "cell_type": "code",
   "execution_count": null,
   "metadata": {},
   "outputs": [],
   "source": []
  },
  {
   "cell_type": "code",
   "execution_count": null,
   "metadata": {},
   "outputs": [],
   "source": []
  },
  {
   "cell_type": "code",
   "execution_count": null,
   "metadata": {},
   "outputs": [],
   "source": []
  },
  {
   "cell_type": "code",
   "execution_count": null,
   "metadata": {},
   "outputs": [],
   "source": []
  },
  {
   "cell_type": "code",
   "execution_count": null,
   "metadata": {},
   "outputs": [],
   "source": []
  },
  {
   "cell_type": "code",
   "execution_count": null,
   "metadata": {},
   "outputs": [],
   "source": []
  },
  {
   "cell_type": "code",
   "execution_count": null,
   "metadata": {},
   "outputs": [],
   "source": []
  },
  {
   "cell_type": "code",
   "execution_count": null,
   "metadata": {},
   "outputs": [],
   "source": []
  },
  {
   "cell_type": "code",
   "execution_count": null,
   "metadata": {},
   "outputs": [],
   "source": []
  },
  {
   "cell_type": "code",
   "execution_count": null,
   "metadata": {},
   "outputs": [],
   "source": []
  },
  {
   "cell_type": "code",
   "execution_count": null,
   "metadata": {},
   "outputs": [],
   "source": []
  },
  {
   "cell_type": "code",
   "execution_count": null,
   "metadata": {},
   "outputs": [],
   "source": []
  },
  {
   "cell_type": "code",
   "execution_count": null,
   "metadata": {},
   "outputs": [],
   "source": []
  },
  {
   "cell_type": "code",
   "execution_count": null,
   "metadata": {},
   "outputs": [],
   "source": [
    " "
   ]
  },
  {
   "cell_type": "code",
   "execution_count": null,
   "metadata": {},
   "outputs": [],
   "source": []
  },
  {
   "cell_type": "code",
   "execution_count": null,
   "metadata": {},
   "outputs": [],
   "source": []
  },
  {
   "cell_type": "code",
   "execution_count": null,
   "metadata": {},
   "outputs": [],
   "source": []
  },
  {
   "cell_type": "code",
   "execution_count": null,
   "metadata": {},
   "outputs": [],
   "source": []
  },
  {
   "cell_type": "code",
   "execution_count": null,
   "metadata": {},
   "outputs": [],
   "source": []
  },
  {
   "cell_type": "code",
   "execution_count": null,
   "metadata": {},
   "outputs": [],
   "source": []
  },
  {
   "cell_type": "code",
   "execution_count": null,
   "metadata": {},
   "outputs": [],
   "source": []
  },
  {
   "cell_type": "code",
   "execution_count": null,
   "metadata": {},
   "outputs": [],
   "source": []
  }
 ],
 "metadata": {
  "kernelspec": {
   "display_name": "Python 3",
   "language": "python",
   "name": "python3"
  },
  "language_info": {
   "codemirror_mode": {
    "name": "ipython",
    "version": 3
   },
   "file_extension": ".py",
   "mimetype": "text/x-python",
   "name": "python",
   "nbconvert_exporter": "python",
   "pygments_lexer": "ipython3",
   "version": "3.6.2"
  }
 },
 "nbformat": 4,
 "nbformat_minor": 2
}
