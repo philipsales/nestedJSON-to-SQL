{
 "cells": [
  {
   "cell_type": "code",
   "execution_count": 551,
   "metadata": {},
   "outputs": [],
   "source": [
    "import numpy as np\n",
    "import pandas as pd\n",
    "import json\n",
    "from pandas.io.json import json_normalize \n",
    "import logging\n",
    "from functools import reduce"
   ]
  },
  {
   "cell_type": "markdown",
   "metadata": {},
   "source": [
    "## Configuration "
   ]
  },
  {
   "cell_type": "code",
   "execution_count": 552,
   "metadata": {},
   "outputs": [],
   "source": [
    "#etl = 'kobo2elastic'\n",
    "etl = 'curis2elastic'\n",
    "\n",
    "input_schema_file = ''\n",
    "input_data_file = ''\n",
    "mapping_file = ''\n",
    "    \n",
    "if etl == 'curis2elastic':\n",
    "    #old curis to elasticsearch\n",
    "    input_schema_file = 'schema/input/curisSchema.partial.json'\n",
    "    input_data_file = 'data/curisData.2-items.json'\n",
    "    mapping_file = 'schema/map/couchbase2elastic.map.csv'\n",
    "elif etl == 'kobo2elastic':\n",
    "    #kobo to elasticsearch\n",
    "    input_schema_file = 'schema/input/aqmSchema.complete.json'\n",
    "    input_data_file = 'data/aqmData.2-items.json'\n",
    "    mapping_file = 'schema/map/kobo2elastic.map.csv'"
   ]
  },
  {
   "cell_type": "markdown",
   "metadata": {},
   "source": [
    "## Get input JSON SChema"
   ]
  },
  {
   "cell_type": "code",
   "execution_count": 553,
   "metadata": {},
   "outputs": [
    {
     "data": {
      "text/html": [
       "<div>\n",
       "<style scoped>\n",
       "    .dataframe tbody tr th:only-of-type {\n",
       "        vertical-align: middle;\n",
       "    }\n",
       "\n",
       "    .dataframe tbody tr th {\n",
       "        vertical-align: top;\n",
       "    }\n",
       "\n",
       "    .dataframe thead th {\n",
       "        text-align: right;\n",
       "    }\n",
       "</style>\n",
       "<table border=\"1\" class=\"dataframe\">\n",
       "  <thead>\n",
       "    <tr style=\"text-align: right;\">\n",
       "      <th></th>\n",
       "      <th>$id</th>\n",
       "      <th>$schema</th>\n",
       "      <th>items.$id</th>\n",
       "      <th>items.properties.demographics.$id</th>\n",
       "      <th>items.properties.demographics.properties.active.$id</th>\n",
       "      <th>items.properties.demographics.properties.active.title</th>\n",
       "      <th>items.properties.demographics.properties.active.type</th>\n",
       "      <th>items.properties.demographics.properties.address.$id</th>\n",
       "      <th>items.properties.demographics.properties.address.items.$id</th>\n",
       "      <th>items.properties.demographics.properties.address.items.properties.add_date.$id</th>\n",
       "      <th>...</th>\n",
       "      <th>items.properties.demographics.properties.deceased.properties.year.title</th>\n",
       "      <th>items.properties.demographics.properties.deceased.properties.year.type</th>\n",
       "      <th>items.properties.demographics.properties.deceased.title</th>\n",
       "      <th>items.properties.demographics.properties.deceased.type</th>\n",
       "      <th>items.properties.demographics.title</th>\n",
       "      <th>items.properties.demographics.type</th>\n",
       "      <th>items.title</th>\n",
       "      <th>items.type</th>\n",
       "      <th>title</th>\n",
       "      <th>type</th>\n",
       "    </tr>\n",
       "  </thead>\n",
       "  <tbody>\n",
       "    <tr>\n",
       "      <th>0</th>\n",
       "      <td>http://example.com/root.json</td>\n",
       "      <td>http://json-schema.org/draft-07/schema#</td>\n",
       "      <td>#/items</td>\n",
       "      <td>#/items/properties/demographics</td>\n",
       "      <td>#/items/properties/demographics/properties/active</td>\n",
       "      <td>The Active Schema</td>\n",
       "      <td>boolean</td>\n",
       "      <td>#/items/properties/demographics/properties/add...</td>\n",
       "      <td>#/items/properties/demographics/properties/add...</td>\n",
       "      <td>#/items/properties/demographics/properties/add...</td>\n",
       "      <td>...</td>\n",
       "      <td>The Year Schema</td>\n",
       "      <td>string</td>\n",
       "      <td>The Deceased Schema</td>\n",
       "      <td>object</td>\n",
       "      <td>The Demographics Schema</td>\n",
       "      <td>object</td>\n",
       "      <td>The Items Schema</td>\n",
       "      <td>object</td>\n",
       "      <td>The Root Schema</td>\n",
       "      <td>array</td>\n",
       "    </tr>\n",
       "  </tbody>\n",
       "</table>\n",
       "<p>1 rows × 51 columns</p>\n",
       "</div>"
      ],
      "text/plain": [
       "                            $id                                  $schema  \\\n",
       "0  http://example.com/root.json  http://json-schema.org/draft-07/schema#   \n",
       "\n",
       "  items.$id items.properties.demographics.$id  \\\n",
       "0   #/items   #/items/properties/demographics   \n",
       "\n",
       "  items.properties.demographics.properties.active.$id  \\\n",
       "0  #/items/properties/demographics/properties/active    \n",
       "\n",
       "  items.properties.demographics.properties.active.title  \\\n",
       "0                                  The Active Schema      \n",
       "\n",
       "  items.properties.demographics.properties.active.type  \\\n",
       "0                                            boolean     \n",
       "\n",
       "  items.properties.demographics.properties.address.$id  \\\n",
       "0  #/items/properties/demographics/properties/add...     \n",
       "\n",
       "  items.properties.demographics.properties.address.items.$id  \\\n",
       "0  #/items/properties/demographics/properties/add...           \n",
       "\n",
       "  items.properties.demographics.properties.address.items.properties.add_date.$id  \\\n",
       "0  #/items/properties/demographics/properties/add...                               \n",
       "\n",
       "   ...    \\\n",
       "0  ...     \n",
       "\n",
       "  items.properties.demographics.properties.deceased.properties.year.title  \\\n",
       "0                                    The Year Schema                        \n",
       "\n",
       "  items.properties.demographics.properties.deceased.properties.year.type  \\\n",
       "0                                             string                       \n",
       "\n",
       "  items.properties.demographics.properties.deceased.title  \\\n",
       "0                                The Deceased Schema        \n",
       "\n",
       "  items.properties.demographics.properties.deceased.type  \\\n",
       "0                                             object       \n",
       "\n",
       "  items.properties.demographics.title items.properties.demographics.type  \\\n",
       "0             The Demographics Schema                             object   \n",
       "\n",
       "        items.title items.type            title   type  \n",
       "0  The Items Schema     object  The Root Schema  array  \n",
       "\n",
       "[1 rows x 51 columns]"
      ]
     },
     "execution_count": 553,
     "metadata": {},
     "output_type": "execute_result"
    }
   ],
   "source": [
    "with open(input_schema_file) as f:\n",
    "    d = json.load(f)\n",
    "\n",
    "schema_df = pd.DataFrame()\n",
    "schema_df = json_normalize(d)\n",
    "schema_df"
   ]
  },
  {
   "cell_type": "markdown",
   "metadata": {},
   "source": [
    "## Get valid index List only"
   ]
  },
  {
   "cell_type": "code",
   "execution_count": 554,
   "metadata": {},
   "outputs": [],
   "source": [
    "validIndexLists = []\n",
    "for indexList in list(schema_df):\n",
    "    if \"._\" not in indexList:\n",
    "        if len(indexList.split(sep='.')) > 2:\n",
    "            if indexList.split(sep='.')[-1] == 'type' or indexList.split(sep='.')[-1] == 'title':\n",
    "                validIndexLists.append(indexList)"
   ]
  },
  {
   "cell_type": "code",
   "execution_count": 555,
   "metadata": {},
   "outputs": [
    {
     "data": {
      "text/html": [
       "<div>\n",
       "<style scoped>\n",
       "    .dataframe tbody tr th:only-of-type {\n",
       "        vertical-align: middle;\n",
       "    }\n",
       "\n",
       "    .dataframe tbody tr th {\n",
       "        vertical-align: top;\n",
       "    }\n",
       "\n",
       "    .dataframe thead th {\n",
       "        text-align: right;\n",
       "    }\n",
       "</style>\n",
       "<table border=\"1\" class=\"dataframe\">\n",
       "  <thead>\n",
       "    <tr style=\"text-align: right;\">\n",
       "      <th></th>\n",
       "      <th>0</th>\n",
       "    </tr>\n",
       "  </thead>\n",
       "  <tbody>\n",
       "    <tr>\n",
       "      <th>items.properties.demographics.properties.active.title</th>\n",
       "      <td>The Active Schema</td>\n",
       "    </tr>\n",
       "    <tr>\n",
       "      <th>items.properties.demographics.properties.active.type</th>\n",
       "      <td>boolean</td>\n",
       "    </tr>\n",
       "    <tr>\n",
       "      <th>items.properties.demographics.properties.address.items.properties.add_date.title</th>\n",
       "      <td>The Add_date Schema</td>\n",
       "    </tr>\n",
       "    <tr>\n",
       "      <th>items.properties.demographics.properties.address.items.properties.add_date.type</th>\n",
       "      <td>string</td>\n",
       "    </tr>\n",
       "    <tr>\n",
       "      <th>items.properties.demographics.properties.address.items.properties.commnty.title</th>\n",
       "      <td>The Commnty Schema</td>\n",
       "    </tr>\n",
       "    <tr>\n",
       "      <th>items.properties.demographics.properties.address.items.properties.commnty.type</th>\n",
       "      <td>string</td>\n",
       "    </tr>\n",
       "    <tr>\n",
       "      <th>items.properties.demographics.properties.address.items.properties.country.title</th>\n",
       "      <td>The Country Schema</td>\n",
       "    </tr>\n",
       "    <tr>\n",
       "      <th>items.properties.demographics.properties.address.items.properties.country.type</th>\n",
       "      <td>string</td>\n",
       "    </tr>\n",
       "    <tr>\n",
       "      <th>items.properties.demographics.properties.address.items.properties.is_recent.title</th>\n",
       "      <td>The Is_recent Schema</td>\n",
       "    </tr>\n",
       "    <tr>\n",
       "      <th>items.properties.demographics.properties.address.items.properties.is_recent.type</th>\n",
       "      <td>boolean</td>\n",
       "    </tr>\n",
       "    <tr>\n",
       "      <th>items.properties.demographics.properties.address.items.properties.zip.title</th>\n",
       "      <td>The Zip Schema</td>\n",
       "    </tr>\n",
       "    <tr>\n",
       "      <th>items.properties.demographics.properties.address.items.properties.zip.type</th>\n",
       "      <td>integer</td>\n",
       "    </tr>\n",
       "    <tr>\n",
       "      <th>items.properties.demographics.properties.address.items.title</th>\n",
       "      <td>The Items Schema</td>\n",
       "    </tr>\n",
       "    <tr>\n",
       "      <th>items.properties.demographics.properties.address.items.type</th>\n",
       "      <td>object</td>\n",
       "    </tr>\n",
       "    <tr>\n",
       "      <th>items.properties.demographics.properties.address.title</th>\n",
       "      <td>The Address Schema</td>\n",
       "    </tr>\n",
       "    <tr>\n",
       "      <th>items.properties.demographics.properties.address.type</th>\n",
       "      <td>array</td>\n",
       "    </tr>\n",
       "    <tr>\n",
       "      <th>items.properties.demographics.properties.awh_id.title</th>\n",
       "      <td>The Awh_id Schema</td>\n",
       "    </tr>\n",
       "    <tr>\n",
       "      <th>items.properties.demographics.properties.awh_id.type</th>\n",
       "      <td>string</td>\n",
       "    </tr>\n",
       "    <tr>\n",
       "      <th>items.properties.demographics.properties.deceased.properties.is_dead.title</th>\n",
       "      <td>The Is_dead Schema</td>\n",
       "    </tr>\n",
       "    <tr>\n",
       "      <th>items.properties.demographics.properties.deceased.properties.is_dead.type</th>\n",
       "      <td>boolean</td>\n",
       "    </tr>\n",
       "    <tr>\n",
       "      <th>items.properties.demographics.properties.deceased.properties.year.title</th>\n",
       "      <td>The Year Schema</td>\n",
       "    </tr>\n",
       "    <tr>\n",
       "      <th>items.properties.demographics.properties.deceased.properties.year.type</th>\n",
       "      <td>string</td>\n",
       "    </tr>\n",
       "    <tr>\n",
       "      <th>items.properties.demographics.properties.deceased.title</th>\n",
       "      <td>The Deceased Schema</td>\n",
       "    </tr>\n",
       "    <tr>\n",
       "      <th>items.properties.demographics.properties.deceased.type</th>\n",
       "      <td>object</td>\n",
       "    </tr>\n",
       "    <tr>\n",
       "      <th>items.properties.demographics.title</th>\n",
       "      <td>The Demographics Schema</td>\n",
       "    </tr>\n",
       "    <tr>\n",
       "      <th>items.properties.demographics.type</th>\n",
       "      <td>object</td>\n",
       "    </tr>\n",
       "  </tbody>\n",
       "</table>\n",
       "</div>"
      ],
      "text/plain": [
       "                                                                          0\n",
       "items.properties.demographics.properties.active...        The Active Schema\n",
       "items.properties.demographics.properties.active...                  boolean\n",
       "items.properties.demographics.properties.addres...      The Add_date Schema\n",
       "items.properties.demographics.properties.addres...                   string\n",
       "items.properties.demographics.properties.addres...       The Commnty Schema\n",
       "items.properties.demographics.properties.addres...                   string\n",
       "items.properties.demographics.properties.addres...       The Country Schema\n",
       "items.properties.demographics.properties.addres...                   string\n",
       "items.properties.demographics.properties.addres...     The Is_recent Schema\n",
       "items.properties.demographics.properties.addres...                  boolean\n",
       "items.properties.demographics.properties.addres...           The Zip Schema\n",
       "items.properties.demographics.properties.addres...                  integer\n",
       "items.properties.demographics.properties.addres...         The Items Schema\n",
       "items.properties.demographics.properties.addres...                   object\n",
       "items.properties.demographics.properties.addres...       The Address Schema\n",
       "items.properties.demographics.properties.addres...                    array\n",
       "items.properties.demographics.properties.awh_id...        The Awh_id Schema\n",
       "items.properties.demographics.properties.awh_id...                   string\n",
       "items.properties.demographics.properties.deceas...       The Is_dead Schema\n",
       "items.properties.demographics.properties.deceas...                  boolean\n",
       "items.properties.demographics.properties.deceas...          The Year Schema\n",
       "items.properties.demographics.properties.deceas...                   string\n",
       "items.properties.demographics.properties.deceas...      The Deceased Schema\n",
       "items.properties.demographics.properties.deceas...                   object\n",
       "items.properties.demographics.title                 The Demographics Schema\n",
       "items.properties.demographics.type                                   object"
      ]
     },
     "execution_count": 555,
     "metadata": {},
     "output_type": "execute_result"
    }
   ],
   "source": [
    "required_field_df = pd.DataFrame()\n",
    "required_field_df = schema_df[validIndexLists]\n",
    "required_field_df.T"
   ]
  },
  {
   "cell_type": "markdown",
   "metadata": {},
   "source": [
    "## Clean index"
   ]
  },
  {
   "cell_type": "code",
   "execution_count": 556,
   "metadata": {},
   "outputs": [
    {
     "data": {
      "text/html": [
       "<div>\n",
       "<style scoped>\n",
       "    .dataframe tbody tr th:only-of-type {\n",
       "        vertical-align: middle;\n",
       "    }\n",
       "\n",
       "    .dataframe tbody tr th {\n",
       "        vertical-align: top;\n",
       "    }\n",
       "\n",
       "    .dataframe thead th {\n",
       "        text-align: right;\n",
       "    }\n",
       "</style>\n",
       "<table border=\"1\" class=\"dataframe\">\n",
       "  <thead>\n",
       "    <tr style=\"text-align: right;\">\n",
       "      <th></th>\n",
       "      <th>index</th>\n",
       "      <th>value</th>\n",
       "    </tr>\n",
       "  </thead>\n",
       "  <tbody>\n",
       "    <tr>\n",
       "      <th>0</th>\n",
       "      <td>demographics.active.title</td>\n",
       "      <td>active</td>\n",
       "    </tr>\n",
       "    <tr>\n",
       "      <th>1</th>\n",
       "      <td>demographics.active.type</td>\n",
       "      <td>boolean</td>\n",
       "    </tr>\n",
       "    <tr>\n",
       "      <th>2</th>\n",
       "      <td>demographics.address.add_date.title</td>\n",
       "      <td>add_date</td>\n",
       "    </tr>\n",
       "    <tr>\n",
       "      <th>3</th>\n",
       "      <td>demographics.address.add_date.type</td>\n",
       "      <td>string</td>\n",
       "    </tr>\n",
       "    <tr>\n",
       "      <th>4</th>\n",
       "      <td>demographics.address.commnty.title</td>\n",
       "      <td>commnty</td>\n",
       "    </tr>\n",
       "    <tr>\n",
       "      <th>5</th>\n",
       "      <td>demographics.address.commnty.type</td>\n",
       "      <td>string</td>\n",
       "    </tr>\n",
       "    <tr>\n",
       "      <th>6</th>\n",
       "      <td>demographics.address.country.title</td>\n",
       "      <td>country</td>\n",
       "    </tr>\n",
       "    <tr>\n",
       "      <th>7</th>\n",
       "      <td>demographics.address.country.type</td>\n",
       "      <td>string</td>\n",
       "    </tr>\n",
       "    <tr>\n",
       "      <th>8</th>\n",
       "      <td>demographics.address.is_recent.title</td>\n",
       "      <td>is_recent</td>\n",
       "    </tr>\n",
       "    <tr>\n",
       "      <th>9</th>\n",
       "      <td>demographics.address.is_recent.type</td>\n",
       "      <td>boolean</td>\n",
       "    </tr>\n",
       "  </tbody>\n",
       "</table>\n",
       "</div>"
      ],
      "text/plain": [
       "                                  index      value\n",
       "0             demographics.active.title     active\n",
       "1              demographics.active.type    boolean\n",
       "2   demographics.address.add_date.title   add_date\n",
       "3    demographics.address.add_date.type     string\n",
       "4    demographics.address.commnty.title    commnty\n",
       "5     demographics.address.commnty.type     string\n",
       "6    demographics.address.country.title    country\n",
       "7     demographics.address.country.type     string\n",
       "8  demographics.address.is_recent.title  is_recent\n",
       "9   demographics.address.is_recent.type    boolean"
      ]
     },
     "execution_count": 556,
     "metadata": {},
     "output_type": "execute_result"
    }
   ],
   "source": [
    "def clean_value(x):\n",
    "    return x.lower().replace(\"/\", \".\").replace(\"the\", \"\").replace(\"schema\", \"\").strip()\n",
    "\n",
    "def clean_index(x):\n",
    "    return x.lower().replace(\"/\", \".\").replace(\".properties\", \"\").replace(\"items.\", \"\").strip()\n",
    "\n",
    "newSchema_df = pd.DataFrame()\n",
    "newSchema_df['value'] = required_field_df.T[0].apply(clean_value)\n",
    "newSchema_df.reset_index(level=0, inplace=True)\n",
    "newSchema_df['index'] = newSchema_df['index'].apply(clean_index)\n",
    "newSchema_df.head(10)"
   ]
  },
  {
   "cell_type": "code",
   "execution_count": 557,
   "metadata": {},
   "outputs": [
    {
     "data": {
      "text/html": [
       "<div>\n",
       "<style scoped>\n",
       "    .dataframe tbody tr th:only-of-type {\n",
       "        vertical-align: middle;\n",
       "    }\n",
       "\n",
       "    .dataframe tbody tr th {\n",
       "        vertical-align: top;\n",
       "    }\n",
       "\n",
       "    .dataframe thead th {\n",
       "        text-align: right;\n",
       "    }\n",
       "</style>\n",
       "<table border=\"1\" class=\"dataframe\">\n",
       "  <thead>\n",
       "    <tr style=\"text-align: right;\">\n",
       "      <th></th>\n",
       "      <th>source_key</th>\n",
       "      <th>source_type</th>\n",
       "    </tr>\n",
       "  </thead>\n",
       "  <tbody>\n",
       "    <tr>\n",
       "      <th>0</th>\n",
       "      <td>demographics</td>\n",
       "      <td>object</td>\n",
       "    </tr>\n",
       "    <tr>\n",
       "      <th>1</th>\n",
       "      <td>demographics.active</td>\n",
       "      <td>boolean</td>\n",
       "    </tr>\n",
       "    <tr>\n",
       "      <th>2</th>\n",
       "      <td>demographics.address</td>\n",
       "      <td>object</td>\n",
       "    </tr>\n",
       "    <tr>\n",
       "      <th>3</th>\n",
       "      <td>demographics.address</td>\n",
       "      <td>array</td>\n",
       "    </tr>\n",
       "    <tr>\n",
       "      <th>4</th>\n",
       "      <td>demographics.address.add_date</td>\n",
       "      <td>string</td>\n",
       "    </tr>\n",
       "    <tr>\n",
       "      <th>5</th>\n",
       "      <td>demographics.address.commnty</td>\n",
       "      <td>string</td>\n",
       "    </tr>\n",
       "    <tr>\n",
       "      <th>6</th>\n",
       "      <td>demographics.address.country</td>\n",
       "      <td>string</td>\n",
       "    </tr>\n",
       "    <tr>\n",
       "      <th>7</th>\n",
       "      <td>demographics.address.is_recent</td>\n",
       "      <td>boolean</td>\n",
       "    </tr>\n",
       "    <tr>\n",
       "      <th>8</th>\n",
       "      <td>demographics.address.zip</td>\n",
       "      <td>integer</td>\n",
       "    </tr>\n",
       "    <tr>\n",
       "      <th>9</th>\n",
       "      <td>demographics.awh_id</td>\n",
       "      <td>string</td>\n",
       "    </tr>\n",
       "    <tr>\n",
       "      <th>10</th>\n",
       "      <td>demographics.deceased</td>\n",
       "      <td>object</td>\n",
       "    </tr>\n",
       "    <tr>\n",
       "      <th>11</th>\n",
       "      <td>demographics.deceased.is_dead</td>\n",
       "      <td>boolean</td>\n",
       "    </tr>\n",
       "    <tr>\n",
       "      <th>12</th>\n",
       "      <td>demographics.deceased.year</td>\n",
       "      <td>string</td>\n",
       "    </tr>\n",
       "  </tbody>\n",
       "</table>\n",
       "</div>"
      ],
      "text/plain": [
       "                        source_key source_type\n",
       "0                     demographics      object\n",
       "1              demographics.active     boolean\n",
       "2             demographics.address      object\n",
       "3             demographics.address       array\n",
       "4    demographics.address.add_date      string\n",
       "5     demographics.address.commnty      string\n",
       "6     demographics.address.country      string\n",
       "7   demographics.address.is_recent     boolean\n",
       "8         demographics.address.zip     integer\n",
       "9              demographics.awh_id      string\n",
       "10           demographics.deceased      object\n",
       "11   demographics.deceased.is_dead     boolean\n",
       "12      demographics.deceased.year      string"
      ]
     },
     "execution_count": 557,
     "metadata": {},
     "output_type": "execute_result"
    }
   ],
   "source": [
    "valueSchema_df = pd.DataFrame()\n",
    "\n",
    "number = len(newSchema_df)\n",
    "index = 0\n",
    "counter = 0\n",
    "counter1 = 1\n",
    "\n",
    "array_key = []\n",
    "array_type = []\n",
    "\n",
    "while (counter < number):\n",
    "    array_key.append(newSchema_df.iloc[counter]['index'].replace('.title',''))\n",
    "    counter += 2\n",
    "        \n",
    "while (counter1 < number):\n",
    "    array_type.append(newSchema_df.iloc[counter1]['value'])\n",
    "    counter1 += 2\n",
    "\n",
    "valueSchema_df['source_key'] = array_key\n",
    "valueSchema_df['source_type'] = array_type\n",
    "\n",
    "\n",
    "#type(valueSchema_df['source_type'][6])\n",
    "#valueSchema_df.head(10)\n",
    "valueSchema_df = valueSchema_df.sort_values(['source_key']).reset_index(drop=True)\n",
    "valueSchema_df"
   ]
  },
  {
   "cell_type": "markdown",
   "metadata": {},
   "source": [
    "## Flatten Dict"
   ]
  },
  {
   "cell_type": "code",
   "execution_count": 558,
   "metadata": {},
   "outputs": [],
   "source": [
    "def flattenDict(d, result=None):\n",
    "    if result is None:\n",
    "        result = {}\n",
    "    for key in d:\n",
    "        value = d[key]\n",
    "        if isinstance(value, str):\n",
    "            if \"\\n\" in value:\n",
    "                print('----------------',value) \n",
    "                value = value.replace(\"\\n\", ' and ')\n",
    "                print('----------------',value) \n",
    "\n",
    "        if isinstance(value, dict):\n",
    "        #if d['type'] =='object':\n",
    "            value1 = {}\n",
    "            for keyIn in value:\n",
    "                value1[\".\".join([key,keyIn])]=value[keyIn]\n",
    "            flattenDict(value1, result)\n",
    "        elif isinstance(value, (list, tuple)):   \n",
    "            for indexB, element in enumerate(value):\n",
    "                if isinstance(element, dict):\n",
    "                    value1 = {}\n",
    "                    index = 0\n",
    "                    for keyIn in element:\n",
    "                        newkey = \".\".join([key,keyIn])        \n",
    "                        value1[\".\".join([key,keyIn])]=value[indexB][keyIn]\n",
    "                        index += 1\n",
    "                    for keyA in value1:\n",
    "                        flattenDict(value1, result)   \n",
    "        else:\n",
    "            result[key]=value\n",
    "    return result\n"
   ]
  },
  {
   "cell_type": "code",
   "execution_count": 581,
   "metadata": {},
   "outputs": [
    {
     "name": "stdout",
     "output_type": "stream",
     "text": [
      "----\n",
      "[{'demographics': {'awh_id': 'c92118421a1f8a87a73dadcd954dd75e', 'active': True, 'deceased': {'is_dead': False}, 'address': [{'add_date': '2012-03-27T13:11:01.453528', 'commnty': 'old community', 'is_recent': False, 'zip': 17158, 'country': 'KHM'}, {'add_date': '2019-02-27T13:11:01.453528', 'commnty': 'New community', 'is_recent': False, 'zip': 121217158, 'country': 'KHM'}]}}, {'demographics': {'awh_id': '1ac9dc3ce4fa83906374505bf91d0f1c', 'active': True, 'deceased': {'is_dead': False, 'year': ''}, 'address': [{'add_date': '2013-03-27T13:11:01.454978', 'is_recent': False, 'zip': 17158, 'country': 'KHM'}]}}, {'demographics': {'awh_id': '2ac9dc3ce4fa83906374505bf91d0f1c', 'active': True, 'address': [{'country': 'KHM'}]}}]\n",
      "---type--\n",
      "<class 'list'>\n"
     ]
    }
   ],
   "source": [
    "d = []\n",
    "with open(input_data_file) as f:\n",
    "    #d = json.load(f)\n",
    "    d = json.load(f)\n",
    "    print('----')\n",
    "    print(d)\n",
    "    print('---type--')\n",
    "print(type(d))"
   ]
  },
  {
   "cell_type": "markdown",
   "metadata": {},
   "source": [
    "## Get input data"
   ]
  },
  {
   "cell_type": "code",
   "execution_count": null,
   "metadata": {},
   "outputs": [],
   "source": [
    "\n",
    "flat_json_0 = {}\n",
    "flat_json_1 = {}\n",
    "flat_json_2 = {}\n",
    "\n",
    "flat_json_0 = flattenDict(d[0])\n",
    "print('--flatten_dict_type--')\n",
    "print(type(flat_json_0))\n",
    "print('--flatten_dict_data--')\n",
    "flat_json_0\n",
    "\n",
    "print('--normalize flatten_dict--')\n",
    "json_flat_norm_0 = json_normalize(flat_json_0)\n",
    "\n",
    "\n",
    "flat_json_1 = flattenDict(d[1])\n",
    "json_flat_norm_1 = json_normalize(flat_json_1)\n",
    "\n",
    "flat_json_2 = flattenDict(d[2])\n",
    "json_flat_norm_2 = json_normalize(flat_json_2)\n",
    "\n"
   ]
  },
  {
   "cell_type": "code",
   "execution_count": 561,
   "metadata": {},
   "outputs": [
    {
     "data": {
      "text/html": [
       "<div>\n",
       "<style scoped>\n",
       "    .dataframe tbody tr th:only-of-type {\n",
       "        vertical-align: middle;\n",
       "    }\n",
       "\n",
       "    .dataframe tbody tr th {\n",
       "        vertical-align: top;\n",
       "    }\n",
       "\n",
       "    .dataframe thead th {\n",
       "        text-align: right;\n",
       "    }\n",
       "</style>\n",
       "<table border=\"1\" class=\"dataframe\">\n",
       "  <thead>\n",
       "    <tr style=\"text-align: right;\">\n",
       "      <th></th>\n",
       "      <th>demographics.active</th>\n",
       "      <th>demographics.address.add_date</th>\n",
       "      <th>demographics.address.commnty</th>\n",
       "      <th>demographics.address.country</th>\n",
       "      <th>demographics.address.is_recent</th>\n",
       "      <th>demographics.address.zip</th>\n",
       "      <th>demographics.awh_id</th>\n",
       "      <th>demographics.deceased.is_dead</th>\n",
       "    </tr>\n",
       "  </thead>\n",
       "  <tbody>\n",
       "    <tr>\n",
       "      <th>0</th>\n",
       "      <td>True</td>\n",
       "      <td>2019-02-27T13:11:01.453528</td>\n",
       "      <td>New community</td>\n",
       "      <td>KHM</td>\n",
       "      <td>False</td>\n",
       "      <td>121217158</td>\n",
       "      <td>c92118421a1f8a87a73dadcd954dd75e</td>\n",
       "      <td>False</td>\n",
       "    </tr>\n",
       "  </tbody>\n",
       "</table>\n",
       "</div>"
      ],
      "text/plain": [
       "   demographics.active demographics.address.add_date  \\\n",
       "0                 True    2019-02-27T13:11:01.453528   \n",
       "\n",
       "  demographics.address.commnty demographics.address.country  \\\n",
       "0                New community                          KHM   \n",
       "\n",
       "   demographics.address.is_recent  demographics.address.zip  \\\n",
       "0                           False                 121217158   \n",
       "\n",
       "                demographics.awh_id  demographics.deceased.is_dead  \n",
       "0  c92118421a1f8a87a73dadcd954dd75e                          False  "
      ]
     },
     "execution_count": 561,
     "metadata": {},
     "output_type": "execute_result"
    }
   ],
   "source": [
    "json_flat_norm_0"
   ]
  },
  {
   "cell_type": "code",
   "execution_count": 562,
   "metadata": {},
   "outputs": [
    {
     "data": {
      "text/html": [
       "<div>\n",
       "<style scoped>\n",
       "    .dataframe tbody tr th:only-of-type {\n",
       "        vertical-align: middle;\n",
       "    }\n",
       "\n",
       "    .dataframe tbody tr th {\n",
       "        vertical-align: top;\n",
       "    }\n",
       "\n",
       "    .dataframe thead th {\n",
       "        text-align: right;\n",
       "    }\n",
       "</style>\n",
       "<table border=\"1\" class=\"dataframe\">\n",
       "  <thead>\n",
       "    <tr style=\"text-align: right;\">\n",
       "      <th></th>\n",
       "      <th>demographics.active</th>\n",
       "      <th>demographics.address.add_date</th>\n",
       "      <th>demographics.address.country</th>\n",
       "      <th>demographics.address.is_recent</th>\n",
       "      <th>demographics.address.zip</th>\n",
       "      <th>demographics.awh_id</th>\n",
       "      <th>demographics.deceased.is_dead</th>\n",
       "      <th>demographics.deceased.year</th>\n",
       "    </tr>\n",
       "  </thead>\n",
       "  <tbody>\n",
       "    <tr>\n",
       "      <th>0</th>\n",
       "      <td>True</td>\n",
       "      <td>2013-03-27T13:11:01.454978</td>\n",
       "      <td>KHM</td>\n",
       "      <td>False</td>\n",
       "      <td>17158</td>\n",
       "      <td>1ac9dc3ce4fa83906374505bf91d0f1c</td>\n",
       "      <td>False</td>\n",
       "      <td></td>\n",
       "    </tr>\n",
       "  </tbody>\n",
       "</table>\n",
       "</div>"
      ],
      "text/plain": [
       "   demographics.active demographics.address.add_date  \\\n",
       "0                 True    2013-03-27T13:11:01.454978   \n",
       "\n",
       "  demographics.address.country  demographics.address.is_recent  \\\n",
       "0                          KHM                           False   \n",
       "\n",
       "   demographics.address.zip               demographics.awh_id  \\\n",
       "0                     17158  1ac9dc3ce4fa83906374505bf91d0f1c   \n",
       "\n",
       "   demographics.deceased.is_dead demographics.deceased.year  \n",
       "0                          False                             "
      ]
     },
     "execution_count": 562,
     "metadata": {},
     "output_type": "execute_result"
    }
   ],
   "source": [
    "json_flat_norm_1"
   ]
  },
  {
   "cell_type": "code",
   "execution_count": 563,
   "metadata": {},
   "outputs": [
    {
     "data": {
      "text/html": [
       "<div>\n",
       "<style scoped>\n",
       "    .dataframe tbody tr th:only-of-type {\n",
       "        vertical-align: middle;\n",
       "    }\n",
       "\n",
       "    .dataframe tbody tr th {\n",
       "        vertical-align: top;\n",
       "    }\n",
       "\n",
       "    .dataframe thead th {\n",
       "        text-align: right;\n",
       "    }\n",
       "</style>\n",
       "<table border=\"1\" class=\"dataframe\">\n",
       "  <thead>\n",
       "    <tr style=\"text-align: right;\">\n",
       "      <th></th>\n",
       "      <th>demographics.active</th>\n",
       "      <th>demographics.address.country</th>\n",
       "      <th>demographics.awh_id</th>\n",
       "    </tr>\n",
       "  </thead>\n",
       "  <tbody>\n",
       "    <tr>\n",
       "      <th>0</th>\n",
       "      <td>True</td>\n",
       "      <td>KHM</td>\n",
       "      <td>2ac9dc3ce4fa83906374505bf91d0f1c</td>\n",
       "    </tr>\n",
       "  </tbody>\n",
       "</table>\n",
       "</div>"
      ],
      "text/plain": [
       "   demographics.active demographics.address.country  \\\n",
       "0                 True                          KHM   \n",
       "\n",
       "                demographics.awh_id  \n",
       "0  2ac9dc3ce4fa83906374505bf91d0f1c  "
      ]
     },
     "execution_count": 563,
     "metadata": {},
     "output_type": "execute_result"
    }
   ],
   "source": [
    "json_flat_norm_2"
   ]
  },
  {
   "cell_type": "markdown",
   "metadata": {},
   "source": [
    "## TESTING: flattendict with nested array of objects"
   ]
  },
  {
   "cell_type": "code",
   "execution_count": 734,
   "metadata": {},
   "outputs": [],
   "source": [
    "\n",
    "def flatten_json(nested_json):\n",
    "    \"\"\"\n",
    "        Flatten json object with nested keys into a single level.\n",
    "        Args:\n",
    "            nested_json: A nested json object.\n",
    "        Returns:\n",
    "            The flattened json object if successful, None otherwise.\n",
    "    \"\"\"\n",
    "    out = {}\n",
    "\n",
    "    def flatten(x, name=''):\n",
    "        if type(x) is dict:\n",
    "            for a in x:\n",
    "                flatten(x[a], name + a + '.')\n",
    "        elif type(x) is list:\n",
    "            i = 0\n",
    "            for a in x:\n",
    "                flatten(a, name + '[' + str(i) + '].')\n",
    "                i += 1\n",
    "        else:\n",
    "            out[name[:-1]] = x\n",
    "\n",
    "    flatten(nested_json)\n",
    "    return out\n",
    "\n",
    "\n",
    "def flattenDictArrays(d, result=None):\n",
    "    print('flatendDict')\n",
    "    \n",
    "    if result is None:\n",
    "        result = {}\n",
    "    for key in d:\n",
    "        \n",
    "        value = d[key]\n",
    "        print('-----value=d[key]----')\n",
    "        print(type(value))\n",
    "        print(value)\n",
    "        \n",
    "        \n",
    "        if isinstance(value, str):\n",
    "            print('-----isinstance(value, str):----')\n",
    "            if \"\\n\" in value:\n",
    "                print('----------------',value) \n",
    "                value = value.replace(\"\\n\", ' and ')\n",
    "                print('----------------',value) \n",
    "\n",
    "        if isinstance(value, dict):\n",
    "            print('-----isinstance(value, dict):----')\n",
    "        #if d['type'] =='object':\n",
    "            value1 = {}\n",
    "            for keyIn in value:\n",
    "\n",
    "                print('-----value----')\n",
    "                print(type(value))\n",
    "                print((value))\n",
    "                \n",
    "                print('-----keyIn----')\n",
    "                print(type(keyIn))\n",
    "                print((keyIn))\n",
    "                value1[\".\".join([key,keyIn])]=value[keyIn]\n",
    "            \n",
    "            print('-----value1 = {}----')\n",
    "            print(type(value1))\n",
    "            print(value1)\n",
    "            \n",
    "            flattenDict(value1, result)\n",
    "        elif isinstance(value, (list, tuple)):   \n",
    "            print('-----isinstance(value, (list, tuple)):----')\n",
    "            \n",
    "            for indexB, element in enumerate(value):\n",
    "                if isinstance(element, dict):\n",
    "                    value1 = {}\n",
    "                    index = 0\n",
    "                    for keyIn in element:\n",
    "                        newkey = \".\".join([key,keyIn])        \n",
    "                        value1[\".\".join([key,keyIn])]=value[indexB][keyIn]\n",
    "                        index += 1\n",
    "                    for keyA in value1:\n",
    "                        flattenDict(value1, result)   \n",
    "        else:\n",
    "            result[key]=value\n",
    "    return result\n",
    "\n"
   ]
  },
  {
   "cell_type": "code",
   "execution_count": 789,
   "metadata": {},
   "outputs": [
    {
     "data": {
      "text/plain": [
       "{'[0].demographics.awh_id': 'c92118421a1f8a87a73dadcd954dd75e',\n",
       " '[0].demographics.org': 'TFG',\n",
       " '[0].demographics.active': True,\n",
       " '[0].demographics.deceased.is_dead': False,\n",
       " '[0].demographics.address.[0].country': 'PHL',\n",
       " '[0].demographics.address.[0].start_date': '2018-03-27T13:11:01.453528',\n",
       " '[0].demographics.address.[0].description': 'permanent address',\n",
       " '[0].demographics.address.[0].is_preferred': True,\n",
       " '[0].demographics.address.[0].contact_number': '',\n",
       " '[0].demographics.address.[0].zip': 92000,\n",
       " '[0].demographics.address.[0].location.[0].geopoint.[0].latitude': 10.02332,\n",
       " '[0].demographics.address.[0].location.[0].geopoint.[1].longitude': 20.02332,\n",
       " '[0].demographics.address.[0].location.[1].meridian': '+UT8',\n",
       " '[0].demographics.address.[1].start_date': '2019-02-27T13:11:01.453528',\n",
       " '[0].demographics.address.[1].description': 'mailing address',\n",
       " '[0].demographics.address.[1].contact_number': '',\n",
       " '[0].demographics.address.[1].is_preferred': False,\n",
       " '[0].demographics.address.[1].zip': 12123,\n",
       " '[0].demographics.address.[1].location': 'PO Box 23423',\n",
       " '[0].demographics.address.[2].start_date': '2019-02-27T13:11:01.453528',\n",
       " '[0].demographics.address.[2].description': 'working address',\n",
       " '[0].demographics.address.[2].contact_number.[0].fax_number': '0234-324',\n",
       " '[0].demographics.address.[2].contact_number.[1].mobile_number.[0].area_code': '+63',\n",
       " '[0].demographics.address.[2].contact_number.[1].mobile_number.[1].number': '9914293423',\n",
       " '[0].demographics.address.[2].is_preferred': False,\n",
       " '[0].demographics.address.[2].zip': 123258,\n",
       " '[0].demographics.address.[2].location': '221 Baker Street',\n",
       " '[1].demographics.awh_id': '1ac9dc3ce4fa83906374505bf91d0f1c',\n",
       " '[1].demographics.active': True,\n",
       " '[1].demographics.deceased.is_dead': False,\n",
       " '[1].demographics.deceased.year': '',\n",
       " '[1].demographics.address.[0].start_date': '2013-03-27T13:11:01.454978',\n",
       " '[1].demographics.address.[0].is_recent': False,\n",
       " '[1].demographics.address.[0].zip': 17158,\n",
       " '[1].demographics.address.[0].country': 'KHM',\n",
       " '[2].demographics.awh_id': '2ac9dc3ce4fa83906374505bf91d0f1c',\n",
       " '[2].demographics.active': True,\n",
       " '[2].demographics.address.[0].country': 'KHM'}"
      ]
     },
     "execution_count": 789,
     "metadata": {},
     "output_type": "execute_result"
    }
   ],
   "source": [
    "dx = []\n",
    "dx = {}\n",
    "dx_list = []\n",
    "dx_dict = {}\n",
    "dx_normalize_df = pd.DataFrame()\n",
    "\n",
    "with open(input_data_file) as f:\n",
    "    #d = json.load(f)\n",
    "    dx_list = json.load(f)\n",
    "    #dx = json.load(f)\n",
    "\n",
    "#flat_json_dx = flattenDictArrays(dx[0])\n",
    "#dx_json_str = (json.(dx))\n",
    "type(dx_list)\n",
    "dx_dict = dx_list\n",
    "dx_flatten = flatten_json(dx_dict)\n",
    "\n",
    "dx_flatten"
   ]
  },
  {
   "cell_type": "code",
   "execution_count": 791,
   "metadata": {},
   "outputs": [],
   "source": [
    "dx_normalize_df = json_normalize(dx_flatten)\n",
    "\n",
    "dx_normalize_df.T.to_csv('raw_output_df.csv',sep=',')"
   ]
  },
  {
   "cell_type": "code",
   "execution_count": 774,
   "metadata": {},
   "outputs": [
    {
     "data": {
      "text/plain": [
       "['demographics.active',\n",
       " 'demographics.address.[0].contact_number',\n",
       " 'demographics.address.[0].description',\n",
       " 'demographics.address.[0].is_preferred',\n",
       " 'demographics.address.[0].location.[0].geopoint.[0].latitude',\n",
       " 'demographics.address.[0].location.[0].geopoint.[1].longitude',\n",
       " 'demographics.address.[0].location.[1].meridian',\n",
       " 'demographics.address.[0].start_date',\n",
       " 'demographics.address.[0].zip',\n",
       " 'demographics.address.[1].contact_number',\n",
       " 'demographics.address.[1].description',\n",
       " 'demographics.address.[1].is_preferred',\n",
       " 'demographics.address.[1].location',\n",
       " 'demographics.address.[1].start_date',\n",
       " 'demographics.address.[1].zip',\n",
       " 'demographics.address.[2].contact_number.[0].fax_number',\n",
       " 'demographics.address.[2].contact_number.[1].mobile_number.[0].area_code',\n",
       " 'demographics.address.[2].contact_number.[1].mobile_number.[1].number',\n",
       " 'demographics.address.[2].date_input',\n",
       " 'demographics.address.[2].description',\n",
       " 'demographics.address.[2].is_preferred',\n",
       " 'demographics.address.[2].location',\n",
       " 'demographics.address.[2].zip',\n",
       " 'demographics.awh_id',\n",
       " 'demographics.deceased.is_dead',\n",
       " 'demographics.org']"
      ]
     },
     "execution_count": 774,
     "metadata": {},
     "output_type": "execute_result"
    }
   ],
   "source": [
    "list(dx_normalize_df.columns)"
   ]
  },
  {
   "cell_type": "code",
   "execution_count": 761,
   "metadata": {},
   "outputs": [
    {
     "data": {
      "text/plain": [
       "{'demographics.awh_id': 'c92118421a1f8a87a73dadcd954dd75e',\n",
       " 'demographics.active': True,\n",
       " 'demographics.deceased.is_dead': False,\n",
       " 'demographics.address.add_date': '2019-02-27T13:11:01.453528',\n",
       " 'demographics.address.commnty': 'New community',\n",
       " 'demographics.address.is_recent': False,\n",
       " 'demographics.address.zip': 121217158,\n",
       " 'demographics.address.country': 'KHM'}"
      ]
     },
     "execution_count": 761,
     "metadata": {},
     "output_type": "execute_result"
    }
   ],
   "source": [
    "foo_df = pd.DataFrame()\n",
    "foo_df = flat_json_dx\n",
    "foo_df"
   ]
  },
  {
   "cell_type": "markdown",
   "metadata": {},
   "source": [
    "## TODO: ITERATE OVER LIST and MERGE normalize headers"
   ]
  },
  {
   "cell_type": "code",
   "execution_count": 564,
   "metadata": {},
   "outputs": [
    {
     "data": {
      "text/html": [
       "<div>\n",
       "<style scoped>\n",
       "    .dataframe tbody tr th:only-of-type {\n",
       "        vertical-align: middle;\n",
       "    }\n",
       "\n",
       "    .dataframe tbody tr th {\n",
       "        vertical-align: top;\n",
       "    }\n",
       "\n",
       "    .dataframe thead th {\n",
       "        text-align: right;\n",
       "    }\n",
       "</style>\n",
       "<table border=\"1\" class=\"dataframe\">\n",
       "  <thead>\n",
       "    <tr style=\"text-align: right;\">\n",
       "      <th></th>\n",
       "      <th>demographics.active</th>\n",
       "      <th>demographics.address.add_date</th>\n",
       "      <th>demographics.address.commnty</th>\n",
       "      <th>demographics.address.country</th>\n",
       "      <th>demographics.address.is_recent</th>\n",
       "      <th>demographics.address.zip</th>\n",
       "      <th>demographics.awh_id</th>\n",
       "      <th>demographics.deceased.is_dead</th>\n",
       "      <th>demographics.deceased.year</th>\n",
       "    </tr>\n",
       "  </thead>\n",
       "  <tbody>\n",
       "    <tr>\n",
       "      <th>0</th>\n",
       "      <td>True</td>\n",
       "      <td>2013-03-27T13:11:01.454978</td>\n",
       "      <td>NaN</td>\n",
       "      <td>KHM</td>\n",
       "      <td>False</td>\n",
       "      <td>17158.0</td>\n",
       "      <td>1ac9dc3ce4fa83906374505bf91d0f1c</td>\n",
       "      <td>False</td>\n",
       "      <td></td>\n",
       "    </tr>\n",
       "    <tr>\n",
       "      <th>1</th>\n",
       "      <td>True</td>\n",
       "      <td>NaN</td>\n",
       "      <td>NaN</td>\n",
       "      <td>KHM</td>\n",
       "      <td>NaN</td>\n",
       "      <td>NaN</td>\n",
       "      <td>2ac9dc3ce4fa83906374505bf91d0f1c</td>\n",
       "      <td>NaN</td>\n",
       "      <td>NaN</td>\n",
       "    </tr>\n",
       "    <tr>\n",
       "      <th>2</th>\n",
       "      <td>True</td>\n",
       "      <td>2019-02-27T13:11:01.453528</td>\n",
       "      <td>New community</td>\n",
       "      <td>KHM</td>\n",
       "      <td>False</td>\n",
       "      <td>121217158.0</td>\n",
       "      <td>c92118421a1f8a87a73dadcd954dd75e</td>\n",
       "      <td>False</td>\n",
       "      <td>NaN</td>\n",
       "    </tr>\n",
       "  </tbody>\n",
       "</table>\n",
       "</div>"
      ],
      "text/plain": [
       "   demographics.active demographics.address.add_date  \\\n",
       "0                 True    2013-03-27T13:11:01.454978   \n",
       "1                 True                           NaN   \n",
       "2                 True    2019-02-27T13:11:01.453528   \n",
       "\n",
       "  demographics.address.commnty demographics.address.country  \\\n",
       "0                          NaN                          KHM   \n",
       "1                          NaN                          KHM   \n",
       "2                New community                          KHM   \n",
       "\n",
       "  demographics.address.is_recent  demographics.address.zip  \\\n",
       "0                          False                   17158.0   \n",
       "1                            NaN                       NaN   \n",
       "2                          False               121217158.0   \n",
       "\n",
       "                demographics.awh_id demographics.deceased.is_dead  \\\n",
       "0  1ac9dc3ce4fa83906374505bf91d0f1c                         False   \n",
       "1  2ac9dc3ce4fa83906374505bf91d0f1c                           NaN   \n",
       "2  c92118421a1f8a87a73dadcd954dd75e                         False   \n",
       "\n",
       "  demographics.deceased.year  \n",
       "0                             \n",
       "1                        NaN  \n",
       "2                        NaN  "
      ]
     },
     "execution_count": 564,
     "metadata": {},
     "output_type": "execute_result"
    }
   ],
   "source": [
    "input_data_df = pd.DataFrame()\n",
    "input_data_df = json_flat_norm_0\n",
    "input_data_df = input_data_df.append(json_flat_norm_1, sort=True)\n",
    "input_data_df = input_data_df.append(json_flat_norm_2, sort=True)\n",
    "input_data_df.sort_values(['demographics.awh_id']).reset_index(drop=True)\n",
    "#input_data_df.sort_values(p'd)"
   ]
  },
  {
   "cell_type": "code",
   "execution_count": 565,
   "metadata": {},
   "outputs": [
    {
     "data": {
      "text/plain": [
       "pandas.core.frame.DataFrame"
      ]
     },
     "execution_count": 565,
     "metadata": {},
     "output_type": "execute_result"
    }
   ],
   "source": [
    "type(input_data_df)"
   ]
  },
  {
   "cell_type": "markdown",
   "metadata": {},
   "source": [
    "## Clean input data column header"
   ]
  },
  {
   "cell_type": "code",
   "execution_count": 566,
   "metadata": {},
   "outputs": [
    {
     "data": {
      "text/html": [
       "<div>\n",
       "<style scoped>\n",
       "    .dataframe tbody tr th:only-of-type {\n",
       "        vertical-align: middle;\n",
       "    }\n",
       "\n",
       "    .dataframe tbody tr th {\n",
       "        vertical-align: top;\n",
       "    }\n",
       "\n",
       "    .dataframe thead th {\n",
       "        text-align: right;\n",
       "    }\n",
       "</style>\n",
       "<table border=\"1\" class=\"dataframe\">\n",
       "  <thead>\n",
       "    <tr style=\"text-align: right;\">\n",
       "      <th></th>\n",
       "      <th>demographics.active</th>\n",
       "      <th>demographics.address.add_date</th>\n",
       "      <th>demographics.address.commnty</th>\n",
       "      <th>demographics.address.country</th>\n",
       "      <th>demographics.address.is_recent</th>\n",
       "      <th>demographics.address.zip</th>\n",
       "      <th>demographics.awh_id</th>\n",
       "      <th>demographics.deceased.is_dead</th>\n",
       "      <th>demographics.deceased.year</th>\n",
       "    </tr>\n",
       "  </thead>\n",
       "  <tbody>\n",
       "    <tr>\n",
       "      <th>0</th>\n",
       "      <td>True</td>\n",
       "      <td>2019-02-27T13:11:01.453528</td>\n",
       "      <td>New community</td>\n",
       "      <td>KHM</td>\n",
       "      <td>False</td>\n",
       "      <td>121217158.0</td>\n",
       "      <td>c92118421a1f8a87a73dadcd954dd75e</td>\n",
       "      <td>False</td>\n",
       "      <td>NaN</td>\n",
       "    </tr>\n",
       "    <tr>\n",
       "      <th>0</th>\n",
       "      <td>True</td>\n",
       "      <td>2013-03-27T13:11:01.454978</td>\n",
       "      <td>NaN</td>\n",
       "      <td>KHM</td>\n",
       "      <td>False</td>\n",
       "      <td>17158.0</td>\n",
       "      <td>1ac9dc3ce4fa83906374505bf91d0f1c</td>\n",
       "      <td>False</td>\n",
       "      <td></td>\n",
       "    </tr>\n",
       "    <tr>\n",
       "      <th>0</th>\n",
       "      <td>True</td>\n",
       "      <td>NaN</td>\n",
       "      <td>NaN</td>\n",
       "      <td>KHM</td>\n",
       "      <td>NaN</td>\n",
       "      <td>NaN</td>\n",
       "      <td>2ac9dc3ce4fa83906374505bf91d0f1c</td>\n",
       "      <td>NaN</td>\n",
       "      <td>NaN</td>\n",
       "    </tr>\n",
       "  </tbody>\n",
       "</table>\n",
       "</div>"
      ],
      "text/plain": [
       "   demographics.active demographics.address.add_date  \\\n",
       "0                 True    2019-02-27T13:11:01.453528   \n",
       "0                 True    2013-03-27T13:11:01.454978   \n",
       "0                 True                           NaN   \n",
       "\n",
       "  demographics.address.commnty demographics.address.country  \\\n",
       "0                New community                          KHM   \n",
       "0                          NaN                          KHM   \n",
       "0                          NaN                          KHM   \n",
       "\n",
       "  demographics.address.is_recent  demographics.address.zip  \\\n",
       "0                          False               121217158.0   \n",
       "0                          False                   17158.0   \n",
       "0                            NaN                       NaN   \n",
       "\n",
       "                demographics.awh_id demographics.deceased.is_dead  \\\n",
       "0  c92118421a1f8a87a73dadcd954dd75e                         False   \n",
       "0  1ac9dc3ce4fa83906374505bf91d0f1c                         False   \n",
       "0  2ac9dc3ce4fa83906374505bf91d0f1c                           NaN   \n",
       "\n",
       "  demographics.deceased.year  \n",
       "0                        NaN  \n",
       "0                             \n",
       "0                        NaN  "
      ]
     },
     "execution_count": 566,
     "metadata": {},
     "output_type": "execute_result"
    }
   ],
   "source": [
    "input_data_df.columns = input_data_df.columns.str.lower().str.replace('/','.')\n",
    "input_data_df"
   ]
  },
  {
   "cell_type": "markdown",
   "metadata": {},
   "source": [
    "## Get Mapping "
   ]
  },
  {
   "cell_type": "code",
   "execution_count": 567,
   "metadata": {},
   "outputs": [
    {
     "data": {
      "text/html": [
       "<div>\n",
       "<style scoped>\n",
       "    .dataframe tbody tr th:only-of-type {\n",
       "        vertical-align: middle;\n",
       "    }\n",
       "\n",
       "    .dataframe tbody tr th {\n",
       "        vertical-align: top;\n",
       "    }\n",
       "\n",
       "    .dataframe thead th {\n",
       "        text-align: right;\n",
       "    }\n",
       "</style>\n",
       "<table border=\"1\" class=\"dataframe\">\n",
       "  <thead>\n",
       "    <tr style=\"text-align: right;\">\n",
       "      <th></th>\n",
       "      <th>source_key</th>\n",
       "      <th>destination_key</th>\n",
       "    </tr>\n",
       "  </thead>\n",
       "  <tbody>\n",
       "    <tr>\n",
       "      <th>0</th>\n",
       "      <td>demographics.awh_id</td>\n",
       "      <td>demographics.awh.id</td>\n",
       "    </tr>\n",
       "    <tr>\n",
       "      <th>1</th>\n",
       "      <td>demographics.address.country</td>\n",
       "      <td>address.country</td>\n",
       "    </tr>\n",
       "    <tr>\n",
       "      <th>2</th>\n",
       "      <td>demographics.address.commnty</td>\n",
       "      <td>address.commnty</td>\n",
       "    </tr>\n",
       "    <tr>\n",
       "      <th>3</th>\n",
       "      <td>demographics.address.zip</td>\n",
       "      <td>address.zip</td>\n",
       "    </tr>\n",
       "  </tbody>\n",
       "</table>\n",
       "</div>"
      ],
      "text/plain": [
       "                     source_key      destination_key\n",
       "0           demographics.awh_id  demographics.awh.id\n",
       "1  demographics.address.country      address.country\n",
       "2  demographics.address.commnty      address.commnty\n",
       "3      demographics.address.zip          address.zip"
      ]
     },
     "execution_count": 567,
     "metadata": {},
     "output_type": "execute_result"
    }
   ],
   "source": [
    "mapping_df = pd.read_csv(mapping_file, skiprows=0)\n",
    "mapping_df"
   ]
  },
  {
   "cell_type": "markdown",
   "metadata": {},
   "source": [
    "## Get values input data that are included mapping"
   ]
  },
  {
   "cell_type": "code",
   "execution_count": 568,
   "metadata": {},
   "outputs": [
    {
     "data": {
      "text/html": [
       "<div>\n",
       "<style scoped>\n",
       "    .dataframe tbody tr th:only-of-type {\n",
       "        vertical-align: middle;\n",
       "    }\n",
       "\n",
       "    .dataframe tbody tr th {\n",
       "        vertical-align: top;\n",
       "    }\n",
       "\n",
       "    .dataframe thead th {\n",
       "        text-align: right;\n",
       "    }\n",
       "</style>\n",
       "<table border=\"1\" class=\"dataframe\">\n",
       "  <thead>\n",
       "    <tr style=\"text-align: right;\">\n",
       "      <th></th>\n",
       "      <th>demographics.awh_id</th>\n",
       "      <th>demographics.address.country</th>\n",
       "      <th>demographics.address.commnty</th>\n",
       "      <th>demographics.address.zip</th>\n",
       "    </tr>\n",
       "  </thead>\n",
       "  <tbody>\n",
       "    <tr>\n",
       "      <th>0</th>\n",
       "      <td>c92118421a1f8a87a73dadcd954dd75e</td>\n",
       "      <td>KHM</td>\n",
       "      <td>New community</td>\n",
       "      <td>121217158.0</td>\n",
       "    </tr>\n",
       "    <tr>\n",
       "      <th>0</th>\n",
       "      <td>1ac9dc3ce4fa83906374505bf91d0f1c</td>\n",
       "      <td>KHM</td>\n",
       "      <td>NaN</td>\n",
       "      <td>17158.0</td>\n",
       "    </tr>\n",
       "    <tr>\n",
       "      <th>0</th>\n",
       "      <td>2ac9dc3ce4fa83906374505bf91d0f1c</td>\n",
       "      <td>KHM</td>\n",
       "      <td>NaN</td>\n",
       "      <td>NaN</td>\n",
       "    </tr>\n",
       "  </tbody>\n",
       "</table>\n",
       "</div>"
      ],
      "text/plain": [
       "                demographics.awh_id demographics.address.country  \\\n",
       "0  c92118421a1f8a87a73dadcd954dd75e                          KHM   \n",
       "0  1ac9dc3ce4fa83906374505bf91d0f1c                          KHM   \n",
       "0  2ac9dc3ce4fa83906374505bf91d0f1c                          KHM   \n",
       "\n",
       "  demographics.address.commnty  demographics.address.zip  \n",
       "0                New community               121217158.0  \n",
       "0                          NaN                   17158.0  \n",
       "0                          NaN                       NaN  "
      ]
     },
     "execution_count": 568,
     "metadata": {},
     "output_type": "execute_result"
    }
   ],
   "source": [
    "selected_data_df = pd.DataFrame()\n",
    "selected_data_df = input_data_df[list(mapping_df['source_key'])]\n",
    "selected_data_df"
   ]
  },
  {
   "cell_type": "markdown",
   "metadata": {},
   "source": [
    "## Renamce source header fields into destination header fields"
   ]
  },
  {
   "cell_type": "code",
   "execution_count": 569,
   "metadata": {},
   "outputs": [
    {
     "data": {
      "text/html": [
       "<div>\n",
       "<style scoped>\n",
       "    .dataframe tbody tr th:only-of-type {\n",
       "        vertical-align: middle;\n",
       "    }\n",
       "\n",
       "    .dataframe tbody tr th {\n",
       "        vertical-align: top;\n",
       "    }\n",
       "\n",
       "    .dataframe thead th {\n",
       "        text-align: right;\n",
       "    }\n",
       "</style>\n",
       "<table border=\"1\" class=\"dataframe\">\n",
       "  <thead>\n",
       "    <tr style=\"text-align: right;\">\n",
       "      <th></th>\n",
       "      <th>demographics.awh.id</th>\n",
       "      <th>address.country</th>\n",
       "      <th>address.commnty</th>\n",
       "      <th>address.zip</th>\n",
       "    </tr>\n",
       "  </thead>\n",
       "  <tbody>\n",
       "    <tr>\n",
       "      <th>0</th>\n",
       "      <td>c92118421a1f8a87a73dadcd954dd75e</td>\n",
       "      <td>KHM</td>\n",
       "      <td>New community</td>\n",
       "      <td>121217158.0</td>\n",
       "    </tr>\n",
       "    <tr>\n",
       "      <th>0</th>\n",
       "      <td>1ac9dc3ce4fa83906374505bf91d0f1c</td>\n",
       "      <td>KHM</td>\n",
       "      <td>NaN</td>\n",
       "      <td>17158.0</td>\n",
       "    </tr>\n",
       "    <tr>\n",
       "      <th>0</th>\n",
       "      <td>2ac9dc3ce4fa83906374505bf91d0f1c</td>\n",
       "      <td>KHM</td>\n",
       "      <td>NaN</td>\n",
       "      <td>NaN</td>\n",
       "    </tr>\n",
       "  </tbody>\n",
       "</table>\n",
       "</div>"
      ],
      "text/plain": [
       "                demographics.awh.id address.country address.commnty  \\\n",
       "0  c92118421a1f8a87a73dadcd954dd75e             KHM   New community   \n",
       "0  1ac9dc3ce4fa83906374505bf91d0f1c             KHM             NaN   \n",
       "0  2ac9dc3ce4fa83906374505bf91d0f1c             KHM             NaN   \n",
       "\n",
       "   address.zip  \n",
       "0  121217158.0  \n",
       "0      17158.0  \n",
       "0          NaN  "
      ]
     },
     "execution_count": 569,
     "metadata": {},
     "output_type": "execute_result"
    }
   ],
   "source": [
    "selected_data_df.columns = list(mapping_df['destination_key'])\n",
    "selected_data_df"
   ]
  },
  {
   "cell_type": "markdown",
   "metadata": {},
   "source": [
    "## Encode to as Filesystem (HDFS) or S3 (avro) format)"
   ]
  },
  {
   "cell_type": "markdown",
   "metadata": {},
   "source": [
    "## Decode for cleaning"
   ]
  },
  {
   "cell_type": "markdown",
   "metadata": {},
   "source": [
    "## Decode to for computation"
   ]
  },
  {
   "cell_type": "markdown",
   "metadata": {},
   "source": [
    "## Decode to for analytics transformation"
   ]
  },
  {
   "cell_type": "markdown",
   "metadata": {},
   "source": [
    "## Transform flat file into output schema format"
   ]
  },
  {
   "cell_type": "code",
   "execution_count": 570,
   "metadata": {},
   "outputs": [
    {
     "data": {
      "text/plain": [
       "[{'demographics.awh.id': 'c92118421a1f8a87a73dadcd954dd75e',\n",
       "  'address.country': 'KHM',\n",
       "  'address.commnty': 'New community',\n",
       "  'address.zip': 121217158.0},\n",
       " {'demographics.awh.id': '1ac9dc3ce4fa83906374505bf91d0f1c',\n",
       "  'address.country': 'KHM',\n",
       "  'address.commnty': None,\n",
       "  'address.zip': 17158.0},\n",
       " {'demographics.awh.id': '2ac9dc3ce4fa83906374505bf91d0f1c',\n",
       "  'address.country': 'KHM',\n",
       "  'address.commnty': None,\n",
       "  'address.zip': None}]"
      ]
     },
     "execution_count": 570,
     "metadata": {},
     "output_type": "execute_result"
    }
   ],
   "source": [
    "flat_json = ''\n",
    "flat_json = selected_data_df.to_json(orient='records')\n",
    "json_json = json.loads(flat_json)\n",
    "json_json"
   ]
  },
  {
   "cell_type": "markdown",
   "metadata": {},
   "source": [
    "## Convert dot notated fields into nested json"
   ]
  },
  {
   "cell_type": "code",
   "execution_count": 571,
   "metadata": {},
   "outputs": [],
   "source": [
    "input_file = 'data/data.json'\n",
    "with open(input_file) as f:\n",
    "    d = (f)\n",
    " \n"
   ]
  },
  {
   "cell_type": "code",
   "execution_count": 572,
   "metadata": {},
   "outputs": [
    {
     "data": {
      "text/plain": [
       "{'json.message.status.time': 50,\n",
       " 'json.message.code.response': 80,\n",
       " 'json.time': 100}"
      ]
     },
     "execution_count": 572,
     "metadata": {},
     "output_type": "execute_result"
    }
   ],
   "source": [
    "\n",
    "def dot_to_json(a):\n",
    "    output = {}\n",
    "    for key, value in a.items():\n",
    "        path = key.split('.')[1:]  # ignore the json. prefix\n",
    "        #path = key\n",
    "        target = reduce(lambda d, k: d.setdefault(k, {}), path[:-1], output)\n",
    "        target[path[-1]] = value\n",
    "    return output\n",
    " \n",
    "data = {'json.message.status.time':50, 'json.message.code.response':80, 'json.time':100}\n",
    "type(data)\n",
    "\n",
    "\n",
    "data"
   ]
  },
  {
   "cell_type": "markdown",
   "metadata": {},
   "source": [
    "## data"
   ]
  },
  {
   "cell_type": "code",
   "execution_count": 573,
   "metadata": {},
   "outputs": [
    {
     "data": {
      "text/plain": [
       "{'json.message.status.time': 50,\n",
       " 'json.message.code.response': 80,\n",
       " 'json.time': 100}"
      ]
     },
     "execution_count": 573,
     "metadata": {},
     "output_type": "execute_result"
    }
   ],
   "source": [
    "data"
   ]
  },
  {
   "cell_type": "markdown",
   "metadata": {},
   "source": [
    "## dot data"
   ]
  },
  {
   "cell_type": "code",
   "execution_count": 574,
   "metadata": {},
   "outputs": [
    {
     "data": {
      "text/plain": [
       "{'message': {'status': {'time': 50}, 'code': {'response': 80}}, 'time': 100}"
      ]
     },
     "execution_count": 574,
     "metadata": {},
     "output_type": "execute_result"
    }
   ],
   "source": [
    "dict_json = dot_to_json(data)\n",
    "dict_json"
   ]
  },
  {
   "cell_type": "markdown",
   "metadata": {},
   "source": [
    "## dictionary to json"
   ]
  },
  {
   "cell_type": "code",
   "execution_count": 575,
   "metadata": {},
   "outputs": [
    {
     "data": {
      "text/plain": [
       "['\"message\"', '\"time\"']"
      ]
     },
     "execution_count": 575,
     "metadata": {},
     "output_type": "execute_result"
    }
   ],
   "source": [
    "def _dict2json(results):\n",
    "    counter = 0\n",
    "    data = []\n",
    "\n",
    "    for row in results: \n",
    "        data.append(json.dumps(row))\n",
    "        counter += 1\n",
    "    \n",
    "    return data\n",
    "\n",
    "json_dict = _dict2json(dict_json) \n",
    "json_dict"
   ]
  },
  {
   "cell_type": "code",
   "execution_count": null,
   "metadata": {},
   "outputs": [],
   "source": []
  },
  {
   "cell_type": "code",
   "execution_count": null,
   "metadata": {},
   "outputs": [],
   "source": []
  },
  {
   "cell_type": "code",
   "execution_count": null,
   "metadata": {},
   "outputs": [],
   "source": []
  },
  {
   "cell_type": "code",
   "execution_count": null,
   "metadata": {},
   "outputs": [],
   "source": []
  },
  {
   "cell_type": "code",
   "execution_count": null,
   "metadata": {},
   "outputs": [],
   "source": []
  },
  {
   "cell_type": "code",
   "execution_count": null,
   "metadata": {},
   "outputs": [],
   "source": []
  },
  {
   "cell_type": "code",
   "execution_count": null,
   "metadata": {},
   "outputs": [],
   "source": []
  },
  {
   "cell_type": "code",
   "execution_count": null,
   "metadata": {},
   "outputs": [],
   "source": []
  },
  {
   "cell_type": "code",
   "execution_count": null,
   "metadata": {},
   "outputs": [],
   "source": []
  },
  {
   "cell_type": "code",
   "execution_count": null,
   "metadata": {},
   "outputs": [],
   "source": []
  },
  {
   "cell_type": "code",
   "execution_count": null,
   "metadata": {},
   "outputs": [],
   "source": []
  }
 ],
 "metadata": {
  "kernelspec": {
   "display_name": "Python 3",
   "language": "python",
   "name": "python3"
  },
  "language_info": {
   "codemirror_mode": {
    "name": "ipython",
    "version": 3
   },
   "file_extension": ".py",
   "mimetype": "text/x-python",
   "name": "python",
   "nbconvert_exporter": "python",
   "pygments_lexer": "ipython3",
   "version": "3.6.2"
  }
 },
 "nbformat": 4,
 "nbformat_minor": 2
}
