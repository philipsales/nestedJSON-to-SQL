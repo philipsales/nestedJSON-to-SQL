{
 "cells": [
  {
   "cell_type": "code",
   "execution_count": 60,
   "metadata": {},
   "outputs": [],
   "source": [
    "import logging\n",
    "import json\n",
    "import csv\n",
    "import numpy as np\n",
    "import pandas as pd\n",
    "from pandas.io.json import json_normalize \n",
    "from pandas import read_csv\n",
    "from functools import reduce\n",
    "from collections import defaultdict"
   ]
  },
  {
   "cell_type": "markdown",
   "metadata": {},
   "source": [
    "## Configuration "
   ]
  },
  {
   "cell_type": "code",
   "execution_count": 61,
   "metadata": {},
   "outputs": [],
   "source": [
    "#etl = 'kobo2elastic'\n",
    "etl = 'curis2elastic'\n",
    "#etl = 'oldcuris2newcuris'\n",
    "\n",
    "input_schema_file = ''\n",
    "input_data_file = ''\n",
    "mapping_file = ''\n",
    "\n",
    "root_object = 'resident'\n",
    "\n",
    "if etl == 'curis2elastic':\n",
    "    #old curis to elasticsearch\n",
    "    input_schema_file = 'schema/input/curisSchema.1-item.json'\n",
    "    input_data_file = 'data/curisData.13-items.json'\n",
    "    mapping_file = 'schema/map/couchbase2elastic.map.csv'\n",
    "    output_dir = 'file/curisSchema/'\n",
    "    \n",
    "elif etl == 'kobo2elastic':\n",
    "    #kobo to elasticsearch\n",
    "    input_schema_file = 'schema/input/aqmSchema.partial.json'\n",
    "    input_data_file = 'data/aqmData.2-items.json'\n",
    "    mapping_file = 'schema/map/kobo2elastic.map.csv'\n",
    "    output_dir = 'file/koboSchema/'\n",
    "elif etl == 'oldcuris2newcuris':\n",
    "    #kobo to elasticsearch\n",
    "    input_schema_file = 'schema/input/curisData.1-Schema.avro.json'\n",
    "    input_data_file = 'data/curisData.1-items.json'\n",
    "    mapping_file = 'schema/map/kobo2elastic.map.csv'"
   ]
  },
  {
   "cell_type": "markdown",
   "metadata": {},
   "source": [
    "## Get input JSON Schema (draft 07)"
   ]
  },
  {
   "cell_type": "code",
   "execution_count": 62,
   "metadata": {},
   "outputs": [],
   "source": [
    "def _get_schema():\n",
    "    _data_df = pd.DataFrame()\n",
    "    \n",
    "    with open(input_schema_file) as f:\n",
    "        _data_df = json_normalize(json.load(f))\n",
    "    \n",
    "    return _data_df"
   ]
  },
  {
   "cell_type": "code",
   "execution_count": 63,
   "metadata": {},
   "outputs": [],
   "source": [
    "def _get_json_schema_properties(schema_df):\n",
    "    _required_properties = []\n",
    "    _required_fields = pd.DataFrame()\n",
    "\n",
    "    for prop in list(schema_df):\n",
    "        if \"._\" not in prop:\n",
    "            if len(prop.split(sep='.')) > 2:\n",
    "                if prop.split(sep='.')[-1] == 'type' or prop.split(sep='.')[-1] == 'title':\n",
    "                    _required_properties.append(prop)\n",
    "    \n",
    "    _required_fields = schema_df[_required_properties]\n",
    "    \n",
    "    return _required_fields"
   ]
  },
  {
   "cell_type": "code",
   "execution_count": 64,
   "metadata": {},
   "outputs": [],
   "source": [
    "def _clean_value(value):\n",
    "    return value.lower().replace(\"/\", \".\").replace(\"the\", \"\").replace(\"schema\", \"\").strip()\n",
    "\n",
    "def _clean_index(index):\n",
    "    return index.lower().replace(\"/\", \".\").replace(\"properties.\", \"\").replace(\"items.\", \"\").strip()"
   ]
  },
  {
   "cell_type": "code",
   "execution_count": 65,
   "metadata": {},
   "outputs": [],
   "source": [
    "def _clean_schema(required_fields_df):\n",
    "    _newSchema_df = pd.DataFrame()\n",
    "    _required_fields_df = required_fields_df\n",
    "\n",
    "    _newSchema_df['value'] = _required_fields_df.T[0].apply(_clean_value)\n",
    "    _newSchema_df.reset_index(level=0, inplace=True)\n",
    "    _newSchema_df['index'] = _newSchema_df['index'].apply(_clean_index)\n",
    "    _newSchema_df.sort_values(['index'])\n",
    "    \n",
    "    return _newSchema_df"
   ]
  },
  {
   "cell_type": "code",
   "execution_count": 66,
   "metadata": {},
   "outputs": [],
   "source": [
    "def _schema_to_keyvalue(newSchema_df):\n",
    "    _valueSchema_df = pd.DataFrame()\n",
    "    _newSchema_df = newSchema_df\n",
    "\n",
    "    schema_length = len(_newSchema_df)\n",
    "    title_counter = 0\n",
    "    type_counter = 1\n",
    "    skip = 2\n",
    "\n",
    "    title_property = []\n",
    "    type_property = []\n",
    "\n",
    "    while (title_counter < schema_length):\n",
    "        title_property.append(_newSchema_df.iloc[title_counter]['index'].replace('.title',''))\n",
    "        title_counter += skip\n",
    "\n",
    "    while (type_counter < schema_length):\n",
    "        type_property.append(_newSchema_df.iloc[type_counter]['value'])\n",
    "        type_counter += skip\n",
    "\n",
    "    _valueSchema_df['source_key'] = title_property\n",
    "    _valueSchema_df['source_type'] = type_property\n",
    "\n",
    "    _valueSchema_df = _valueSchema_df.sort_values(['source_key']).reset_index(drop=True)\n",
    "    _valueSchema_df.loc[_valueSchema_df['source_type'] == 'array']\n",
    "\n",
    "    return _valueSchema_df"
   ]
  },
  {
   "cell_type": "markdown",
   "metadata": {},
   "source": [
    "## Create root or default file (e.g. main, resident)"
   ]
  },
  {
   "cell_type": "code",
   "execution_count": 67,
   "metadata": {},
   "outputs": [],
   "source": [
    "def _write_type_main():\n",
    "    with open(output_dir + root_object + '.csv', 'w'):\n",
    "        pass"
   ]
  },
  {
   "cell_type": "code",
   "execution_count": 68,
   "metadata": {},
   "outputs": [],
   "source": [
    "def _get_type_array(kv_schema_df):\n",
    "    type_array_df = pd.DataFrame()\n",
    "    type_array_df = kv_schema_df.loc[kv_schema_df['source_type'] == 'array']\n",
    "    type_array_df = type_array_df.reset_index(drop=True)\n",
    "\n",
    "    _csv_filename_list = []\n",
    "    _csv_filename_list = list(type_array_df['source_key']) #array type\n",
    "    return _csv_filename_list\n",
    "    \n",
    "def _write_type_array_file(csv_filename_list):\n",
    "    \n",
    "    for i in list(csv_filename_list):\n",
    "        with open(output_dir + i + '.csv', 'w'):\n",
    "            pass\n",
    "        \n",
    "    return"
   ]
  },
  {
   "cell_type": "code",
   "execution_count": 69,
   "metadata": {},
   "outputs": [],
   "source": [
    "def _get_type_primitive(kv_schema_df):\n",
    "    type_primitive_df = pd.DataFrame()\n",
    "    type_primitive_df = kv_schema_df.loc[kv_schema_df['source_type'] == 'string']\n",
    "\n",
    "    _csv_header_name_list = []\n",
    "    _csv_header_name_list = list(type_primitive_df['source_key']) #string type\n",
    "    return _csv_header_name_list"
   ]
  },
  {
   "cell_type": "code",
   "execution_count": 70,
   "metadata": {},
   "outputs": [],
   "source": [
    "def _segregate_fields(property_type_primitives, property_type_array):\n",
    "    property_types_dd = defaultdict(list)\n",
    "\n",
    "    primitive_fields = []\n",
    "    array_fields = []\n",
    "\n",
    "    for primitive_field in property_type_primitives:\n",
    "        for array_field in property_type_array:\n",
    "\n",
    "            tmp_array = primitive_field.split(sep='.')\n",
    "\n",
    "            if(len(tmp_array)) > 1:\n",
    "\n",
    "                if primitive_field == array_field: #for array list\n",
    "                    array_fields.append(primitive_field)\n",
    "\n",
    "            elif(len(tmp_array)) == 1:\n",
    "\n",
    "                if primitive_field == array_field:\n",
    "                    array_fields.append(primitive_field)\n",
    "                else:\n",
    "                    primitive_fields.append(primitive_field)\n",
    "\n",
    "    property_types_dd['primitive']  = list(dict.fromkeys(primitive_fields))\n",
    "    property_types_dd['array']  = array_fields\n",
    "    return property_types_dd"
   ]
  },
  {
   "cell_type": "code",
   "execution_count": 71,
   "metadata": {},
   "outputs": [],
   "source": [
    "def _write_type_array_header(array_fields):\n",
    "    for array_field in array_fields:\n",
    "        array_csv_df  = pd.DataFrame(columns=[ array_field,'_id','_index_map'])\n",
    "        array_csv_df.to_csv(output_dir + array_field + '.csv', encoding='utf-8', mode='a', index=False)\n",
    "    return "
   ]
  },
  {
   "cell_type": "markdown",
   "metadata": {},
   "source": [
    "## Create headers for type: array of objects and primitive type (int, str) @object level"
   ]
  },
  {
   "cell_type": "code",
   "execution_count": 72,
   "metadata": {},
   "outputs": [],
   "source": [
    "def _get_type_array_object(property_type_array, property_type_primitives, property_type):\n",
    "    _array_objects = set()\n",
    "    _array_objects = set(property_type_primitives) - set(property_type_array) - set(property_type['primitive'])\n",
    "    _array_objects_list = list(_array_objects)\n",
    "    \n",
    "    object_type_dd = defaultdict(list)\n",
    "    non_root_header_object = []\n",
    "    root_header_object = []\n",
    "\n",
    "    for name in _array_objects_list:\n",
    "        str1 = name.split('.')\n",
    "        str2 = '.'.join(str1[0:-1])\n",
    "        #print(str2)\n",
    "        if str2 in property_type_array:\n",
    "            non_root_header_object.append(name)\n",
    "        else:\n",
    "            root_header_object.append(name)\n",
    "\n",
    "    object_type_dd['non_root_header_object']  = non_root_header_object\n",
    "    object_type_dd['root_header_object']  = root_header_object\n",
    "    return object_type_dd"
   ]
  },
  {
   "cell_type": "code",
   "execution_count": 73,
   "metadata": {},
   "outputs": [],
   "source": [
    "def _get_dd_objects(object_type_dd):\n",
    "    \n",
    "    _dd_objects = defaultdict(list)\n",
    "    _dd_non_root = defaultdict(list)\n",
    "    _dd_root = defaultdict(list)\n",
    "    \n",
    "    for header in object_type_dd['non_root_header_object']:\n",
    "        filenames = header.split(sep=\".\")[0:-1]\n",
    "        filenames = '.'.join(filenames)\n",
    "        _dd_non_root[filenames].append(header)\n",
    "    \n",
    "    for header in object_type_dd['root_header_object']:\n",
    "        filenames = header.split(sep=\".\")[0:1]\n",
    "        filenames = '.'.join(filenames)\n",
    "\n",
    "        if filenames in property_type_array:\n",
    "            #print(filenames)\n",
    "            _dd_non_root[filenames].append(header)\n",
    "        else:\n",
    "            _dd_root[root_object].append(header)\n",
    "    \n",
    "    _dd_objects['_dd_non_root'] = _dd_non_root\n",
    "    _dd_objects['_dd_root'] = _dd_root\n",
    "    \n",
    "    return _dd_objects"
   ]
  },
  {
   "cell_type": "markdown",
   "metadata": {},
   "source": [
    "## Write headers for type: array of object"
   ]
  },
  {
   "cell_type": "code",
   "execution_count": 74,
   "metadata": {},
   "outputs": [],
   "source": [
    "def _write_type_array_object_header(dd_non_root):\n",
    "    for header in dd_non_root:\n",
    "        columns_list = []\n",
    "        columns_list = list(dd_non_root[header])\n",
    "        columns_list.append('_id')\n",
    "        columns_list.append('_index_map')\n",
    "\n",
    "        object_array_csv_df  = pd.DataFrame(columns=columns_list)\n",
    "        object_array_csv_df.to_csv(output_dir + header + '.csv', encoding='utf-8', mode='a', index=False)"
   ]
  },
  {
   "cell_type": "code",
   "execution_count": 75,
   "metadata": {},
   "outputs": [],
   "source": [
    "def _write_root_object_header(property_type, property_type_array,type_object):\n",
    "    main_header_list = []\n",
    "    #exclude list of string\n",
    "    main_header_list = list(set(property_type['primitive']) - set(property_type_array)) \n",
    "    main_header_list += list(type_object['_dd_root']['resident'])\n",
    "    main_header_list.append('_id')\n",
    "    main_header_list.append('_index_map')\n",
    "\n",
    "    main_resident_df  = pd.DataFrame(columns = main_header_list)\n",
    "    main_resident_df.to_csv(output_dir + root_object + '.csv', encoding='utf-8', mode='a', index=False)\n",
    "    main_resident_df"
   ]
  },
  {
   "cell_type": "code",
   "execution_count": 76,
   "metadata": {},
   "outputs": [],
   "source": [
    "def _write_schema_definition(property_type,type_object):\n",
    "    filenames_list = property_type['array'] + list(type_object['_dd_non_root'])\n",
    "    #filenames_list = list(dd_non_root) \n",
    "    filenames_list.append('resident')\n",
    "\n",
    "    filenames_str = \",\".join(filenames_list)\n",
    "    filenames_str\n",
    "    schema_desc_df = pd.DataFrame() \n",
    "    schema_desc_df['file_name'] = [filenames_str]\n",
    "    schema_desc_df['file_count']  = len(filenames_list)\n",
    "    schema_desc_df['date'] = pd.to_datetime('today')\n",
    "    schema_desc_df['source_schema'] = input_schema_file \n",
    "    schema_desc_df['version'] = '1.0'\n",
    "    schema_desc_df.to_csv(output_dir + 'schema.csv', encoding='utf-8', mode='w', index=False)\n",
    "    return schema_desc_df"
   ]
  },
  {
   "cell_type": "code",
   "execution_count": 77,
   "metadata": {},
   "outputs": [],
   "source": [
    "schema_df = _get_schema()\n",
    "required_fields_df = _get_json_schema_properties(schema_df)\n",
    "clean_schema_df = _clean_schema(required_fields_df)\n",
    "kv_schema_df = _schema_to_keyvalue(clean_schema_df)"
   ]
  },
  {
   "cell_type": "code",
   "execution_count": 78,
   "metadata": {},
   "outputs": [],
   "source": [
    "_write_type_main()\n",
    "property_type_array = _get_type_array(kv_schema_df)\n",
    "property_type_primitives = _get_type_primitive(kv_schema_df)"
   ]
  },
  {
   "cell_type": "code",
   "execution_count": 79,
   "metadata": {},
   "outputs": [],
   "source": [
    "property_type = _segregate_fields(property_type_primitives,property_type_array)"
   ]
  },
  {
   "cell_type": "code",
   "execution_count": 80,
   "metadata": {},
   "outputs": [],
   "source": [
    "_write_type_array_file(property_type_array)\n",
    "_write_type_array_header(property_type['array'])\n",
    "\n",
    "object_type_dd = _get_type_array_object(property_type_array, property_type_primitives, property_type)\n",
    "type_object = _get_dd_objects(object_type_dd)"
   ]
  },
  {
   "cell_type": "code",
   "execution_count": 81,
   "metadata": {},
   "outputs": [],
   "source": [
    "_write_type_array_object_header(type_object['_dd_non_root'])"
   ]
  },
  {
   "cell_type": "code",
   "execution_count": 82,
   "metadata": {},
   "outputs": [],
   "source": [
    "_write_root_object_header(property_type, property_type_array,type_object)"
   ]
  },
  {
   "cell_type": "code",
   "execution_count": 83,
   "metadata": {},
   "outputs": [
    {
     "data": {
      "text/html": [
       "<div>\n",
       "<style scoped>\n",
       "    .dataframe tbody tr th:only-of-type {\n",
       "        vertical-align: middle;\n",
       "    }\n",
       "\n",
       "    .dataframe tbody tr th {\n",
       "        vertical-align: top;\n",
       "    }\n",
       "\n",
       "    .dataframe thead th {\n",
       "        text-align: right;\n",
       "    }\n",
       "</style>\n",
       "<table border=\"1\" class=\"dataframe\">\n",
       "  <thead>\n",
       "    <tr style=\"text-align: right;\">\n",
       "      <th></th>\n",
       "      <th>file_name</th>\n",
       "      <th>file_count</th>\n",
       "      <th>date</th>\n",
       "      <th>source_schema</th>\n",
       "      <th>version</th>\n",
       "    </tr>\n",
       "  </thead>\n",
       "  <tbody>\n",
       "    <tr>\n",
       "      <th>0</th>\n",
       "      <td>date_visits,family_members,health_informations...</td>\n",
       "      <td>10</td>\n",
       "      <td>2019-04-16 20:37:44.717067</td>\n",
       "      <td>schema/input/curisSchema.1-item.json</td>\n",
       "      <td>1.0</td>\n",
       "    </tr>\n",
       "  </tbody>\n",
       "</table>\n",
       "</div>"
      ],
      "text/plain": [
       "                                           file_name  file_count  \\\n",
       "0  date_visits,family_members,health_informations...          10   \n",
       "\n",
       "                        date                         source_schema version  \n",
       "0 2019-04-16 20:37:44.717067  schema/input/curisSchema.1-item.json     1.0  "
      ]
     },
     "execution_count": 83,
     "metadata": {},
     "output_type": "execute_result"
    }
   ],
   "source": [
    "_write_schema_definition(property_type,type_object)"
   ]
  },
  {
   "cell_type": "markdown",
   "metadata": {},
   "source": [
    "### BUGS LIST: \n",
    "### 1. unique identifier must be defined\n",
    "### 2. fields starting with underscore are discareded"
   ]
  },
  {
   "cell_type": "code",
   "execution_count": null,
   "metadata": {},
   "outputs": [],
   "source": []
  },
  {
   "cell_type": "code",
   "execution_count": null,
   "metadata": {},
   "outputs": [],
   "source": []
  },
  {
   "cell_type": "code",
   "execution_count": null,
   "metadata": {},
   "outputs": [],
   "source": []
  },
  {
   "cell_type": "code",
   "execution_count": null,
   "metadata": {},
   "outputs": [],
   "source": []
  }
 ],
 "metadata": {
  "kernelspec": {
   "display_name": "Python 3",
   "language": "python",
   "name": "python3"
  },
  "language_info": {
   "codemirror_mode": {
    "name": "ipython",
    "version": 3
   },
   "file_extension": ".py",
   "mimetype": "text/x-python",
   "name": "python",
   "nbconvert_exporter": "python",
   "pygments_lexer": "ipython3",
   "version": "3.6.2"
  }
 },
 "nbformat": 4,
 "nbformat_minor": 2
}
