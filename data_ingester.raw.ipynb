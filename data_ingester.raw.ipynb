{
 "cells": [
  {
   "cell_type": "code",
   "execution_count": null,
   "metadata": {},
   "outputs": [],
   "source": [
    "import numpy as np\n",
    "import pandas as pd\n",
    "import json\n",
    "from pandas.io.json import json_normalize \n",
    "from pandas import read_csv\n",
    "import logging\n",
    "from functools import reduce\n",
    "import csv"
   ]
  },
  {
   "cell_type": "markdown",
   "metadata": {},
   "source": [
    "## Configuration "
   ]
  },
  {
   "cell_type": "code",
   "execution_count": null,
   "metadata": {},
   "outputs": [],
   "source": [
    "etl = 'curis2elastic'\n",
    "\n",
    "input_schema_file = ''\n",
    "input_data_file = ''\n",
    "mapping_file = ''\n",
    "    \n",
    "if etl == 'curis2elastic':\n",
    "    #old curis to elasticsearch\n",
    "    input_schema_file = 'schema/input/curisSchema.1-item.json'\n",
    "    input_data_file = 'data/curisData.2-actual-items.json'\n",
    "    mapping_file = 'schema/map/couchbase2elastic.map.csv'\n",
    "elif etl == 'kobo2elastic':\n",
    "    #kobo to elasticsearch\n",
    "    input_schema_file = 'schema/input/aqmSchema.complete.json'\n",
    "    input_data_file = 'data/aqmData.2-items.json'\n",
    "    mapping_file = 'schema/map/kobo2elastic.map.csv'\n",
    "elif etl == 'oldcuris2newcuris':\n",
    "    #kobo to elasticsearch\n",
    "    input_schema_file = 'schema/input/curisData.1-Schema.avro.json'\n",
    "    input_data_file = 'data/curisData.1-items.json'\n",
    "    mapping_file = 'schema/map/kobo2elastic.map.csv'"
   ]
  },
  {
   "cell_type": "markdown",
   "metadata": {},
   "source": [
    "## Flatten json"
   ]
  },
  {
   "cell_type": "code",
   "execution_count": null,
   "metadata": {},
   "outputs": [],
   "source": [
    "def _flatten_json(nested_json):\n",
    "    \"\"\"\n",
    "        Flatten json object with nested keys into a single level.\n",
    "        Args:\n",
    "            nested_json: A nested json object.\n",
    "        Returns:\n",
    "            The flattened json object if successful, None otherwise.\n",
    "    \"\"\"\n",
    "    out = {}\n",
    "\n",
    "    def flatten(x, name=''):\n",
    "        if type(x) is dict:\n",
    "            for a in x:\n",
    "                flatten(x[a], name + a + '.')\n",
    "        elif type(x) is list:\n",
    "            i = 0\n",
    "            for a in x:\n",
    "                flatten(a, name + '' + str(i) + '.')\n",
    "                i += 1\n",
    "        else:\n",
    "            out[name[:-1]] = x\n",
    "\n",
    "    flatten(nested_json)\n",
    "    return out"
   ]
  },
  {
   "cell_type": "markdown",
   "metadata": {},
   "source": [
    "## header filters"
   ]
  },
  {
   "cell_type": "code",
   "execution_count": null,
   "metadata": {},
   "outputs": [],
   "source": [
    "## OPTIMIZE TO ACCEPT LIST NOT DATAFRAME\n",
    "def filter_key(x):\n",
    "    lists = format_key(x)\n",
    "    lists = exclude_digit(lists)\n",
    "    lists = list2string(lists)\n",
    "    return lists\n",
    "\n",
    "def filter_index_map(x):\n",
    "    lists = format_key(x)\n",
    "    lists = include_digit(lists)\n",
    "    lists = list2string(lists)\n",
    "    return lists\n",
    "\n",
    "def format_key(items):\n",
    "    #return list(map(lambda x:x.lower().split(sep='.'), items ))\n",
    "    return items.lower().split(sep='.')\n",
    "\n",
    "def include_digit(items):\n",
    "    return [item for item in items if item.isdigit()]\n",
    "\n",
    "def exclude_digit(items):\n",
    "    return [item for item in items if not item.isdigit()]\n",
    "\n",
    "def list2string(lists):\n",
    "    return '.'.join(lists)"
   ]
  },
  {
   "cell_type": "markdown",
   "metadata": {},
   "source": [
    "## File loader"
   ]
  },
  {
   "cell_type": "code",
   "execution_count": null,
   "metadata": {},
   "outputs": [],
   "source": [
    "def open_file():\n",
    "    with open(input_data_file) as f:\n",
    "        return json.load(f)"
   ]
  },
  {
   "cell_type": "markdown",
   "metadata": {},
   "source": [
    "## Load Data"
   ]
  },
  {
   "cell_type": "code",
   "execution_count": null,
   "metadata": {},
   "outputs": [],
   "source": [
    "data_list = []\n",
    "data_list = open_file()"
   ]
  },
  {
   "cell_type": "markdown",
   "metadata": {},
   "source": [
    "## TODO: Iterate here if multiple arrays"
   ]
  },
  {
   "cell_type": "code",
   "execution_count": null,
   "metadata": {},
   "outputs": [],
   "source": [
    "data_flat_dict = {}\n",
    "data_flat_dict = _flatten_json(data_list[0])"
   ]
  },
  {
   "cell_type": "markdown",
   "metadata": {},
   "source": [
    "## Convert dictionary to dataframe"
   ]
  },
  {
   "cell_type": "code",
   "execution_count": null,
   "metadata": {},
   "outputs": [],
   "source": [
    "def _dict_to_dataframe(dict_object):\n",
    "    return pd.DataFrame.from_dict({'value': dict_object})"
   ]
  },
  {
   "cell_type": "code",
   "execution_count": null,
   "metadata": {},
   "outputs": [],
   "source": [
    "data_flat_df = pd.DataFrame()\n",
    "data_flat_df = _dict_to_dataframe(data_flat_dict)"
   ]
  },
  {
   "cell_type": "markdown",
   "metadata": {},
   "source": [
    "## Add columns: _index_map and _id"
   ]
  },
  {
   "cell_type": "code",
   "execution_count": null,
   "metadata": {},
   "outputs": [],
   "source": [
    "def _add_custom_colums(dataframe_object):\n",
    "    dataframe_object['key'] = list(dataframe_object.index)\n",
    "    dataframe_object['key'] = dataframe_object['key'].apply(filter_key)\n",
    "\n",
    "    dataframe_object['_index_map'] = list(dataframe_object.index)\n",
    "    dataframe_object['_index_map'] = dataframe_object['_index_map'].apply(filter_index_map)\n",
    "\n",
    "    dataframe_object['_id'] = dataframe_object[dataframe_object['key'] == 'awh_id']['value'].values[0]\n",
    "\n",
    "    dataframe_object = dataframe_object.reset_index(drop=True)\n",
    "\n",
    "    return dataframe_object"
   ]
  },
  {
   "cell_type": "code",
   "execution_count": null,
   "metadata": {},
   "outputs": [],
   "source": [
    "root_data_df = pd.DataFrame()\n",
    "root_data_df = _add_custom_colums(data_flat_df)\n",
    "root_data_df"
   ]
  },
  {
   "cell_type": "markdown",
   "metadata": {},
   "source": [
    "## Filter input data by index_map"
   ]
  },
  {
   "cell_type": "code",
   "execution_count": null,
   "metadata": {},
   "outputs": [],
   "source": [
    "root_data_df = data_flat_df[data_flat_df['_index_map'] == '0' ]\n",
    "root_data_df"
   ]
  },
  {
   "cell_type": "markdown",
   "metadata": {},
   "source": [
    "## Get CSV headers for main @root"
   ]
  },
  {
   "cell_type": "code",
   "execution_count": null,
   "metadata": {},
   "outputs": [],
   "source": [
    "def _get_csv_headers(filename):\n",
    "    file_dir = 'file/'\n",
    "    return pd.read_csv( file_dir + filename + '.csv',nrows=0) #get header only"
   ]
  },
  {
   "cell_type": "code",
   "execution_count": null,
   "metadata": {},
   "outputs": [],
   "source": [
    "#root_csv_df = pd.DataFrame()\n",
    "#root_csv_df = _get_csv_headers('date_visits')\n",
    "#root_csv_df"
   ]
  },
  {
   "cell_type": "markdown",
   "metadata": {},
   "source": [
    "## Get input data matching the CSV headers for main@root"
   ]
  },
  {
   "cell_type": "markdown",
   "metadata": {},
   "source": [
    "## Get input data with headers for main @root"
   ]
  },
  {
   "cell_type": "code",
   "execution_count": null,
   "metadata": {},
   "outputs": [],
   "source": [
    "def _get_required_data(input_data_df,csv_header_df):\n",
    "    required_header_list = [] \n",
    "\n",
    "    for data in input_data_df['key']:\n",
    "        if data in csv_header_df.columns:\n",
    "            required_header_list.append(data)\n",
    "             \n",
    "    return input_data_df[input_data_df['key'].isin(required_header_list)]\n",
    "\n",
    "def _rename_index(data_df):\n",
    "    if 'key' in data_df.columns:\n",
    "        data_df.index = list(data_df['key'])\n",
    "        data_df = data_df.drop('key', axis=1)\n",
    "    return data_df \n",
    "\n",
    "def _columnar_to_row(input_data_df,csv_header_df):\n",
    "    \n",
    "    for header in list(input_data_df.index):\n",
    "        if header:\n",
    "            csv_header_df.at['',header] = input_data_df.loc[header]['value'] \n",
    "        \n",
    "        csv_header_df.at['','_id'] = input_data_df['_id'][header] \n",
    "        csv_header_df.at['','_index_map'] = input_data_df['_index_map'][header] \n",
    "    return csv_header_df\n",
    "    \n",
    "def _write_to_csv(data_csv_df, filename):\n",
    "    file_dir = 'file/'\n",
    "    #if not data_csv_df.empty():\n",
    "    return data_csv_df.to_csv( file_dir + filename + '.csv', encoding='utf-8', mode='a', header=False,index=False)"
   ]
  },
  {
   "cell_type": "code",
   "execution_count": null,
   "metadata": {},
   "outputs": [],
   "source": [
    "new_data_df = pd.DataFrame()\n",
    "filename='resident'\n",
    "new_data_df = _get_required_data(root_data_df, root_csv_df)\n",
    "new_data_df"
   ]
  },
  {
   "cell_type": "code",
   "execution_count": null,
   "metadata": {},
   "outputs": [],
   "source": [
    "new_data_df = _rename_index(new_data_df)\n",
    "new_data_df"
   ]
  },
  {
   "cell_type": "code",
   "execution_count": null,
   "metadata": {},
   "outputs": [],
   "source": [
    "new_data_df = _columnar_to_row(new_data_df, root_csv_df)\n",
    "new_data_df"
   ]
  },
  {
   "cell_type": "code",
   "execution_count": null,
   "metadata": {},
   "outputs": [],
   "source": [
    "new_data_df = _write_to_csv(new_data_df, filename)\n",
    "new_data_df"
   ]
  },
  {
   "cell_type": "markdown",
   "metadata": {},
   "source": [
    "## ================================================="
   ]
  },
  {
   "cell_type": "markdown",
   "metadata": {},
   "source": [
    "## Get Index_map unique values"
   ]
  },
  {
   "cell_type": "markdown",
   "metadata": {},
   "source": [
    "## Get filenames"
   ]
  },
  {
   "cell_type": "code",
   "execution_count": null,
   "metadata": {},
   "outputs": [],
   "source": [
    "schema_csv = pd.read_csv('file/schema.csv', skiprows=0)\n",
    "filenames_list = list(schema_csv['file_name'])\n",
    "filenames_list"
   ]
  },
  {
   "cell_type": "code",
   "execution_count": null,
   "metadata": {},
   "outputs": [],
   "source": []
  },
  {
   "cell_type": "code",
   "execution_count": null,
   "metadata": {},
   "outputs": [],
   "source": []
  },
  {
   "cell_type": "code",
   "execution_count": null,
   "metadata": {},
   "outputs": [],
   "source": []
  },
  {
   "cell_type": "code",
   "execution_count": null,
   "metadata": {},
   "outputs": [],
   "source": []
  },
  {
   "cell_type": "code",
   "execution_count": null,
   "metadata": {},
   "outputs": [],
   "source": []
  },
  {
   "cell_type": "code",
   "execution_count": null,
   "metadata": {},
   "outputs": [],
   "source": []
  },
  {
   "cell_type": "code",
   "execution_count": null,
   "metadata": {},
   "outputs": [],
   "source": []
  },
  {
   "cell_type": "code",
   "execution_count": null,
   "metadata": {},
   "outputs": [],
   "source": []
  },
  {
   "cell_type": "code",
   "execution_count": null,
   "metadata": {},
   "outputs": [],
   "source": []
  },
  {
   "cell_type": "code",
   "execution_count": null,
   "metadata": {},
   "outputs": [],
   "source": []
  },
  {
   "cell_type": "code",
   "execution_count": null,
   "metadata": {},
   "outputs": [],
   "source": []
  },
  {
   "cell_type": "code",
   "execution_count": null,
   "metadata": {},
   "outputs": [],
   "source": []
  }
 ],
 "metadata": {
  "kernelspec": {
   "display_name": "Python 3",
   "language": "python",
   "name": "python3"
  },
  "language_info": {
   "codemirror_mode": {
    "name": "ipython",
    "version": 3
   },
   "file_extension": ".py",
   "mimetype": "text/x-python",
   "name": "python",
   "nbconvert_exporter": "python",
   "pygments_lexer": "ipython3",
   "version": "3.6.2"
  }
 },
 "nbformat": 4,
 "nbformat_minor": 2
}
