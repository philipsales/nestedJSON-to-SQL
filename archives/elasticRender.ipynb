{
 "cells": [
  {
   "cell_type": "code",
   "execution_count": null,
   "metadata": {},
   "outputs": [],
   "source": [
    "def set_json_dump(docs, country):\n",
    "    _create_mappings(country)\n",
    "    counter = 0\n",
    "    bulk_data = []\n",
    "\n",
    "    logger.info(docs)\n",
    "    for doc in docs:\n",
    "        try:\n",
    "            _type = list(doc.keys())\n",
    "            _body = list(doc.values())\n",
    "\n",
    "            index = _set_index(country,_type[0])\n",
    "\n",
    "            _header = { \"create\" : { \"_index\" : index,  \n",
    "                        \"_type\" : _type[0], \n",
    "                        \"_id\" : str(_body[0][\"awh_id\"]) } }\n",
    "\n",
    "            bulk_data.append(_header)\n",
    "            bulk_data.append(json.dumps(_body[0]))\n",
    "            logger.info(\"type: %s, fields: %d\" % (_type[0], len(_type[0])))\n",
    "            counter += 1\n",
    "\n",
    "        except TypeError:\n",
    "            logger.error(\"NoneType object!\")\n",
    "            continue\n",
    "    logger.info(\"total index inserts :\" + str(len(doc)))\n",
    "    \n",
    "    #logger.info(bulk_data)\n",
    "    _total_entries(counter)\n",
    "    _bulk_dump(bulk_data, country)"
   ]
  }
 ],
 "metadata": {
  "kernelspec": {
   "display_name": "Matlab",
   "language": "matlab",
   "name": "matlab"
  },
  "language_info": {
   "name": ""
  }
 },
 "nbformat": 4,
 "nbformat_minor": 2
}
