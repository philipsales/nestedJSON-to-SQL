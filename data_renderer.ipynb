{
 "cells": [
  {
   "cell_type": "code",
   "execution_count": 945,
   "metadata": {},
   "outputs": [],
   "source": [
    "import numpy as np\n",
    "import pandas as pd\n",
    "import json\n",
    "from pandas.io.json import json_normalize \n",
    "from pandas import read_csv\n",
    "import logging\n",
    "from functools import reduce\n",
    "import csv\n",
    "from collections import defaultdict"
   ]
  },
  {
   "cell_type": "markdown",
   "metadata": {},
   "source": [
    "## Configuration "
   ]
  },
  {
   "cell_type": "code",
   "execution_count": 946,
   "metadata": {},
   "outputs": [
    {
     "data": {
      "text/html": [
       "<div>\n",
       "<style scoped>\n",
       "    .dataframe tbody tr th:only-of-type {\n",
       "        vertical-align: middle;\n",
       "    }\n",
       "\n",
       "    .dataframe tbody tr th {\n",
       "        vertical-align: top;\n",
       "    }\n",
       "\n",
       "    .dataframe thead th {\n",
       "        text-align: right;\n",
       "    }\n",
       "</style>\n",
       "<table border=\"1\" class=\"dataframe\">\n",
       "  <thead>\n",
       "    <tr style=\"text-align: right;\">\n",
       "      <th></th>\n",
       "      <th>_id</th>\n",
       "      <th>_index_map</th>\n",
       "      <th>formid</th>\n",
       "      <th>answers.height</th>\n",
       "      <th>answers.bloodtype</th>\n",
       "      <th>answers.identification.number.code</th>\n",
       "      <th>answers.identification.type</th>\n",
       "      <th>answers.identification.number.pin</th>\n",
       "      <th>answers.income</th>\n",
       "      <th>answers.bp1_systolic</th>\n",
       "    </tr>\n",
       "  </thead>\n",
       "  <tbody>\n",
       "    <tr>\n",
       "      <th>0</th>\n",
       "      <td>aQMjmsDcwMbPs5NyhqQPUZ</td>\n",
       "      <td>NaN</td>\n",
       "      <td>aQMjmsDcwMbPs5NyhqQPUZ</td>\n",
       "      <td>16</td>\n",
       "      <td>A</td>\n",
       "      <td>1033.2</td>\n",
       "      <td>SSS</td>\n",
       "      <td>201</td>\n",
       "      <td>60.0</td>\n",
       "      <td>120</td>\n",
       "    </tr>\n",
       "    <tr>\n",
       "      <th>1</th>\n",
       "      <td>DexsDsw39ss5NyhqQPUP</td>\n",
       "      <td>NaN</td>\n",
       "      <td>DexsDsw39ss5NyhqQPUP</td>\n",
       "      <td>23</td>\n",
       "      <td>B</td>\n",
       "      <td>2033.2</td>\n",
       "      <td>SSS</td>\n",
       "      <td>333</td>\n",
       "      <td>80.0</td>\n",
       "      <td>201</td>\n",
       "    </tr>\n",
       "  </tbody>\n",
       "</table>\n",
       "</div>"
      ],
      "text/plain": [
       "                      _id  _index_map                  formid  answers.height  \\\n",
       "0  aQMjmsDcwMbPs5NyhqQPUZ         NaN  aQMjmsDcwMbPs5NyhqQPUZ              16   \n",
       "1    DexsDsw39ss5NyhqQPUP         NaN    DexsDsw39ss5NyhqQPUP              23   \n",
       "\n",
       "  answers.bloodtype  answers.identification.number.code  \\\n",
       "0                 A                              1033.2   \n",
       "1                 B                              2033.2   \n",
       "\n",
       "  answers.identification.type  answers.identification.number.pin  \\\n",
       "0                         SSS                                201   \n",
       "1                         SSS                                333   \n",
       "\n",
       "   answers.income  answers.bp1_systolic  \n",
       "0            60.0                   120  \n",
       "1            80.0                   201  "
      ]
     },
     "execution_count": 946,
     "metadata": {},
     "output_type": "execute_result"
    }
   ],
   "source": [
    "hi_df = pd.DataFrame()\n",
    "hi_df = pd.read_csv( 'file/sample_output/healthinformation.csv') \n",
    "#data_df = data_df.to_dict(orient='records')\n",
    "hi_df"
   ]
  },
  {
   "cell_type": "code",
   "execution_count": 947,
   "metadata": {},
   "outputs": [],
   "source": [
    "def set_for_keys(my_dict, key_arr, val):\n",
    "\n",
    "    current = my_dict\n",
    "    for i in range(len(key_arr)):\n",
    "        key = key_arr[i]\n",
    "        if key not in current:\n",
    "            if i==len(key_arr)-1:\n",
    "                current[key] = val\n",
    "            else:\n",
    "                current[key] = {}\n",
    "        else:\n",
    "            if type(current[key]) is not dict:\n",
    "                print(\"not compatible with key structure requested\")\n",
    "                raise ValueError(\"Dictionary key already occupied\")\n",
    "\n",
    "        current = current[key]\n",
    "\n",
    "    return my_dict\n",
    "\n",
    "def to_formatted_json(df, sep=\".\"):\n",
    "    result = []\n",
    "    for _, row in df.iterrows():\n",
    "        parsed_row = {}\n",
    "        for idx, val in row.iteritems():\n",
    "            keys = idx.split(sep)\n",
    "            \n",
    "            parsed_row = set_for_keys(parsed_row, keys, val)\n",
    "        \n",
    "            print(parsed_row)\n",
    "        result.append(parsed_row)\n",
    "        #print(parsed_row)\n",
    "        print('-----parsed_row-----')\n",
    "    \n",
    "    return result\n",
    "\n",
    "def to_formatted_json_test(df, sep=\".\"):\n",
    "    result = []\n",
    "    for _, row in df.iterrows():\n",
    "        parsed_row = {}\n",
    "        for idx, val in row.iteritems():\n",
    "            keys = idx.split(sep)\n",
    "            \n",
    "            parsed_row = set_for_keys(parsed_row, keys, val)\n",
    "            \n",
    "            print('keys: ' , keys)\n",
    "            print('values: ' , val)\n",
    "            print('idx: ' , idx)\n",
    "            print('----------')\n",
    "            #print('parse_row: ',parsed_row)\n",
    "        print(parsed_row)\n",
    "        print('-----parsed_row-----')\n",
    "        result.append(parsed_row)\n",
    "        \n",
    "    \n",
    "    return result\n",
    "\n",
    "#Where df was parsed from json-dict using json_normalize"
   ]
  },
  {
   "cell_type": "code",
   "execution_count": 948,
   "metadata": {},
   "outputs": [],
   "source": [
    "#hi_df = to_formatted_json(data_df, sep=\".\")\n",
    "#hi_df"
   ]
  },
  {
   "cell_type": "markdown",
   "metadata": {},
   "source": [
    "## File loader"
   ]
  },
  {
   "cell_type": "code",
   "execution_count": 949,
   "metadata": {},
   "outputs": [
    {
     "data": {
      "text/html": [
       "<div>\n",
       "<style scoped>\n",
       "    .dataframe tbody tr th:only-of-type {\n",
       "        vertical-align: middle;\n",
       "    }\n",
       "\n",
       "    .dataframe tbody tr th {\n",
       "        vertical-align: top;\n",
       "    }\n",
       "\n",
       "    .dataframe thead th {\n",
       "        text-align: right;\n",
       "    }\n",
       "</style>\n",
       "<table border=\"1\" class=\"dataframe\">\n",
       "  <thead>\n",
       "    <tr style=\"text-align: right;\">\n",
       "      <th></th>\n",
       "      <th>_id</th>\n",
       "      <th>_index_map</th>\n",
       "      <th>answers.familydiseasehistory</th>\n",
       "    </tr>\n",
       "  </thead>\n",
       "  <tbody>\n",
       "    <tr>\n",
       "      <th>3</th>\n",
       "      <td>DexsDsw39ss5NyhqQPUP</td>\n",
       "      <td>0</td>\n",
       "      <td>Head Cancer</td>\n",
       "    </tr>\n",
       "    <tr>\n",
       "      <th>4</th>\n",
       "      <td>DexsDsw39ss5NyhqQPUP</td>\n",
       "      <td>1</td>\n",
       "      <td>Stomach Cancer</td>\n",
       "    </tr>\n",
       "    <tr>\n",
       "      <th>0</th>\n",
       "      <td>aQMjmsDcwMbPs5NyhqQPUZ</td>\n",
       "      <td>0</td>\n",
       "      <td>Respiratory ,disease</td>\n",
       "    </tr>\n",
       "    <tr>\n",
       "      <th>1</th>\n",
       "      <td>aQMjmsDcwMbPs5NyhqQPUZ</td>\n",
       "      <td>1</td>\n",
       "      <td>Brain Cancer</td>\n",
       "    </tr>\n",
       "    <tr>\n",
       "      <th>2</th>\n",
       "      <td>aQMjmsDcwMbPs5NyhqQPUZ</td>\n",
       "      <td>2</td>\n",
       "      <td>Stomach Cancer</td>\n",
       "    </tr>\n",
       "  </tbody>\n",
       "</table>\n",
       "</div>"
      ],
      "text/plain": [
       "                      _id  _index_map answers.familydiseasehistory\n",
       "3    DexsDsw39ss5NyhqQPUP           0                  Head Cancer\n",
       "4    DexsDsw39ss5NyhqQPUP           1               Stomach Cancer\n",
       "0  aQMjmsDcwMbPs5NyhqQPUZ           0         Respiratory ,disease\n",
       "1  aQMjmsDcwMbPs5NyhqQPUZ           1                 Brain Cancer\n",
       "2  aQMjmsDcwMbPs5NyhqQPUZ           2               Stomach Cancer"
      ]
     },
     "execution_count": 949,
     "metadata": {},
     "output_type": "execute_result"
    }
   ],
   "source": [
    "fdh_df  = pd.DataFrame()\n",
    "fdh_df  = pd.read_csv( 'file/sample_output/answers.familydiseasehistory.csv') \n",
    "#data_df = data_df.to_dict(orient='records')\n",
    "fdh_df = fdh_df.sort_values(['_id','_index_map'])\n",
    "fdh_df"
   ]
  },
  {
   "cell_type": "markdown",
   "metadata": {},
   "source": [
    "## GROUP BY IF FILE IS ALL ARRAY"
   ]
  },
  {
   "cell_type": "code",
   "execution_count": 950,
   "metadata": {},
   "outputs": [
    {
     "data": {
      "text/html": [
       "<div>\n",
       "<style scoped>\n",
       "    .dataframe tbody tr th:only-of-type {\n",
       "        vertical-align: middle;\n",
       "    }\n",
       "\n",
       "    .dataframe tbody tr th {\n",
       "        vertical-align: top;\n",
       "    }\n",
       "\n",
       "    .dataframe thead th {\n",
       "        text-align: right;\n",
       "    }\n",
       "</style>\n",
       "<table border=\"1\" class=\"dataframe\">\n",
       "  <thead>\n",
       "    <tr style=\"text-align: right;\">\n",
       "      <th></th>\n",
       "      <th>_id</th>\n",
       "      <th>_index_map</th>\n",
       "      <th>answers.familydiseasehistory</th>\n",
       "    </tr>\n",
       "  </thead>\n",
       "  <tbody>\n",
       "    <tr>\n",
       "      <th>0</th>\n",
       "      <td>DexsDsw39ss5NyhqQPUP</td>\n",
       "      <td>[0, 1]</td>\n",
       "      <td>[Head Cancer, Stomach Cancer]</td>\n",
       "    </tr>\n",
       "    <tr>\n",
       "      <th>1</th>\n",
       "      <td>aQMjmsDcwMbPs5NyhqQPUZ</td>\n",
       "      <td>[0, 1, 2]</td>\n",
       "      <td>[Respiratory ,disease, Brain Cancer, Stomach C...</td>\n",
       "    </tr>\n",
       "  </tbody>\n",
       "</table>\n",
       "</div>"
      ],
      "text/plain": [
       "                      _id _index_map  \\\n",
       "0    DexsDsw39ss5NyhqQPUP     [0, 1]   \n",
       "1  aQMjmsDcwMbPs5NyhqQPUZ  [0, 1, 2]   \n",
       "\n",
       "                        answers.familydiseasehistory  \n",
       "0                      [Head Cancer, Stomach Cancer]  \n",
       "1  [Respiratory ,disease, Brain Cancer, Stomach C...  "
      ]
     },
     "execution_count": 950,
     "metadata": {},
     "output_type": "execute_result"
    }
   ],
   "source": [
    "fdh_df = fdh_df.groupby('_id').agg(lambda x: x.tolist())\n",
    "fdh_df = fdh_df.reset_index()\n",
    "fdh_df"
   ]
  },
  {
   "cell_type": "code",
   "execution_count": 951,
   "metadata": {},
   "outputs": [
    {
     "data": {
      "text/html": [
       "<div>\n",
       "<style scoped>\n",
       "    .dataframe tbody tr th:only-of-type {\n",
       "        vertical-align: middle;\n",
       "    }\n",
       "\n",
       "    .dataframe tbody tr th {\n",
       "        vertical-align: top;\n",
       "    }\n",
       "\n",
       "    .dataframe thead th {\n",
       "        text-align: right;\n",
       "    }\n",
       "</style>\n",
       "<table border=\"1\" class=\"dataframe\">\n",
       "  <thead>\n",
       "    <tr style=\"text-align: right;\">\n",
       "      <th></th>\n",
       "      <th>_id</th>\n",
       "      <th>answers.familydiseasehistory</th>\n",
       "    </tr>\n",
       "  </thead>\n",
       "  <tbody>\n",
       "    <tr>\n",
       "      <th>0</th>\n",
       "      <td>DexsDsw39ss5NyhqQPUP</td>\n",
       "      <td>[Head Cancer, Stomach Cancer]</td>\n",
       "    </tr>\n",
       "    <tr>\n",
       "      <th>1</th>\n",
       "      <td>aQMjmsDcwMbPs5NyhqQPUZ</td>\n",
       "      <td>[Respiratory ,disease, Brain Cancer, Stomach C...</td>\n",
       "    </tr>\n",
       "  </tbody>\n",
       "</table>\n",
       "</div>"
      ],
      "text/plain": [
       "                      _id                       answers.familydiseasehistory\n",
       "0    DexsDsw39ss5NyhqQPUP                      [Head Cancer, Stomach Cancer]\n",
       "1  aQMjmsDcwMbPs5NyhqQPUZ  [Respiratory ,disease, Brain Cancer, Stomach C..."
      ]
     },
     "execution_count": 951,
     "metadata": {},
     "output_type": "execute_result"
    }
   ],
   "source": [
    "fdh_df = fdh_df.drop(['_index_map'], axis=1)\n",
    "fdh_df"
   ]
  },
  {
   "cell_type": "code",
   "execution_count": 954,
   "metadata": {},
   "outputs": [
    {
     "data": {
      "text/html": [
       "<div>\n",
       "<style scoped>\n",
       "    .dataframe tbody tr th:only-of-type {\n",
       "        vertical-align: middle;\n",
       "    }\n",
       "\n",
       "    .dataframe tbody tr th {\n",
       "        vertical-align: top;\n",
       "    }\n",
       "\n",
       "    .dataframe thead th {\n",
       "        text-align: right;\n",
       "    }\n",
       "</style>\n",
       "<table border=\"1\" class=\"dataframe\">\n",
       "  <thead>\n",
       "    <tr style=\"text-align: right;\">\n",
       "      <th></th>\n",
       "      <th>formid</th>\n",
       "      <th>answers.height</th>\n",
       "      <th>answers.bloodtype</th>\n",
       "      <th>answers.identification.number.code</th>\n",
       "      <th>answers.identification.type</th>\n",
       "      <th>answers.identification.number.pin</th>\n",
       "      <th>answers.income</th>\n",
       "      <th>answers.bp1_systolic</th>\n",
       "      <th>answers.familydiseasehistory</th>\n",
       "    </tr>\n",
       "  </thead>\n",
       "  <tbody>\n",
       "    <tr>\n",
       "      <th>0</th>\n",
       "      <td>aQMjmsDcwMbPs5NyhqQPUZ</td>\n",
       "      <td>16</td>\n",
       "      <td>A</td>\n",
       "      <td>1033.2</td>\n",
       "      <td>SSS</td>\n",
       "      <td>201</td>\n",
       "      <td>60.0</td>\n",
       "      <td>120</td>\n",
       "      <td>[Respiratory ,disease, Brain Cancer, Stomach C...</td>\n",
       "    </tr>\n",
       "    <tr>\n",
       "      <th>1</th>\n",
       "      <td>DexsDsw39ss5NyhqQPUP</td>\n",
       "      <td>23</td>\n",
       "      <td>B</td>\n",
       "      <td>2033.2</td>\n",
       "      <td>SSS</td>\n",
       "      <td>333</td>\n",
       "      <td>80.0</td>\n",
       "      <td>201</td>\n",
       "      <td>[Head Cancer, Stomach Cancer]</td>\n",
       "    </tr>\n",
       "  </tbody>\n",
       "</table>\n",
       "</div>"
      ],
      "text/plain": [
       "                   formid  answers.height answers.bloodtype  \\\n",
       "0  aQMjmsDcwMbPs5NyhqQPUZ              16                 A   \n",
       "1    DexsDsw39ss5NyhqQPUP              23                 B   \n",
       "\n",
       "   answers.identification.number.code answers.identification.type  \\\n",
       "0                              1033.2                         SSS   \n",
       "1                              2033.2                         SSS   \n",
       "\n",
       "   answers.identification.number.pin  answers.income  answers.bp1_systolic  \\\n",
       "0                                201            60.0                   120   \n",
       "1                                333            80.0                   201   \n",
       "\n",
       "                        answers.familydiseasehistory  \n",
       "0  [Respiratory ,disease, Brain Cancer, Stomach C...  \n",
       "1                      [Head Cancer, Stomach Cancer]  "
      ]
     },
     "execution_count": 954,
     "metadata": {},
     "output_type": "execute_result"
    }
   ],
   "source": [
    "merge_join = pd.merge(hi_df,fdh_df, left_on='_id', right_on='_id', how='left')\n",
    "merge_join = merge_join.drop(['_id'], axis=1).drop(['_index_map'], axis=1).replace(np.nan,'')\n",
    "merge_join\n"
   ]
  },
  {
   "cell_type": "code",
   "execution_count": null,
   "metadata": {},
   "outputs": [],
   "source": []
  },
  {
   "cell_type": "code",
   "execution_count": 955,
   "metadata": {},
   "outputs": [
    {
     "name": "stdout",
     "output_type": "stream",
     "text": [
      "{'formid': 'aQMjmsDcwMbPs5NyhqQPUZ'}\n",
      "{'formid': 'aQMjmsDcwMbPs5NyhqQPUZ', 'answers': {'height': 16}}\n",
      "{'formid': 'aQMjmsDcwMbPs5NyhqQPUZ', 'answers': {'height': 16, 'bloodtype': 'A'}}\n",
      "{'formid': 'aQMjmsDcwMbPs5NyhqQPUZ', 'answers': {'height': 16, 'bloodtype': 'A', 'identification': {'number': {'code': 1033.2}}}}\n",
      "{'formid': 'aQMjmsDcwMbPs5NyhqQPUZ', 'answers': {'height': 16, 'bloodtype': 'A', 'identification': {'number': {'code': 1033.2}, 'type': 'SSS'}}}\n",
      "{'formid': 'aQMjmsDcwMbPs5NyhqQPUZ', 'answers': {'height': 16, 'bloodtype': 'A', 'identification': {'number': {'code': 1033.2, 'pin': 201}, 'type': 'SSS'}}}\n",
      "{'formid': 'aQMjmsDcwMbPs5NyhqQPUZ', 'answers': {'height': 16, 'bloodtype': 'A', 'identification': {'number': {'code': 1033.2, 'pin': 201}, 'type': 'SSS'}, 'income': 60.0}}\n",
      "{'formid': 'aQMjmsDcwMbPs5NyhqQPUZ', 'answers': {'height': 16, 'bloodtype': 'A', 'identification': {'number': {'code': 1033.2, 'pin': 201}, 'type': 'SSS'}, 'income': 60.0, 'bp1_systolic': 120}}\n",
      "{'formid': 'aQMjmsDcwMbPs5NyhqQPUZ', 'answers': {'height': 16, 'bloodtype': 'A', 'identification': {'number': {'code': 1033.2, 'pin': 201}, 'type': 'SSS'}, 'income': 60.0, 'bp1_systolic': 120, 'familydiseasehistory': ['Respiratory ,disease', 'Brain Cancer', 'Stomach Cancer']}}\n",
      "-----parsed_row-----\n",
      "{'formid': 'DexsDsw39ss5NyhqQPUP'}\n",
      "{'formid': 'DexsDsw39ss5NyhqQPUP', 'answers': {'height': 23}}\n",
      "{'formid': 'DexsDsw39ss5NyhqQPUP', 'answers': {'height': 23, 'bloodtype': 'B'}}\n",
      "{'formid': 'DexsDsw39ss5NyhqQPUP', 'answers': {'height': 23, 'bloodtype': 'B', 'identification': {'number': {'code': 2033.2}}}}\n",
      "{'formid': 'DexsDsw39ss5NyhqQPUP', 'answers': {'height': 23, 'bloodtype': 'B', 'identification': {'number': {'code': 2033.2}, 'type': 'SSS'}}}\n",
      "{'formid': 'DexsDsw39ss5NyhqQPUP', 'answers': {'height': 23, 'bloodtype': 'B', 'identification': {'number': {'code': 2033.2, 'pin': 333}, 'type': 'SSS'}}}\n",
      "{'formid': 'DexsDsw39ss5NyhqQPUP', 'answers': {'height': 23, 'bloodtype': 'B', 'identification': {'number': {'code': 2033.2, 'pin': 333}, 'type': 'SSS'}, 'income': 80.0}}\n",
      "{'formid': 'DexsDsw39ss5NyhqQPUP', 'answers': {'height': 23, 'bloodtype': 'B', 'identification': {'number': {'code': 2033.2, 'pin': 333}, 'type': 'SSS'}, 'income': 80.0, 'bp1_systolic': 201}}\n",
      "{'formid': 'DexsDsw39ss5NyhqQPUP', 'answers': {'height': 23, 'bloodtype': 'B', 'identification': {'number': {'code': 2033.2, 'pin': 333}, 'type': 'SSS'}, 'income': 80.0, 'bp1_systolic': 201, 'familydiseasehistory': ['Head Cancer', 'Stomach Cancer']}}\n",
      "-----parsed_row-----\n"
     ]
    }
   ],
   "source": [
    "json_result = to_formatted_json(merge_join)"
   ]
  },
  {
   "cell_type": "code",
   "execution_count": 956,
   "metadata": {},
   "outputs": [
    {
     "data": {
      "text/plain": [
       "'[{\"formid\": \"aQMjmsDcwMbPs5NyhqQPUZ\", \"answers\": {\"height\": 16, \"bloodtype\": \"A\", \"identification\": {\"number\": {\"code\": 1033.2, \"pin\": 201}, \"type\": \"SSS\"}, \"income\": 60.0, \"bp1_systolic\": 120, \"familydiseasehistory\": [\"Respiratory ,disease\", \"Brain Cancer\", \"Stomach Cancer\"]}}, {\"formid\": \"DexsDsw39ss5NyhqQPUP\", \"answers\": {\"height\": 23, \"bloodtype\": \"B\", \"identification\": {\"number\": {\"code\": 2033.2, \"pin\": 333}, \"type\": \"SSS\"}, \"income\": 80.0, \"bp1_systolic\": 201, \"familydiseasehistory\": [\"Head Cancer\", \"Stomach Cancer\"]}}]'"
      ]
     },
     "execution_count": 956,
     "metadata": {},
     "output_type": "execute_result"
    }
   ],
   "source": [
    "json.dumps(json_result)"
   ]
  },
  {
   "cell_type": "markdown",
   "metadata": {},
   "source": [
    "## JOIN SHOULD BE IN THE PERSISTENT DATABASE ALREADY"
   ]
  },
  {
   "cell_type": "code",
   "execution_count": 957,
   "metadata": {},
   "outputs": [
    {
     "data": {
      "text/html": [
       "<div>\n",
       "<style scoped>\n",
       "    .dataframe tbody tr th:only-of-type {\n",
       "        vertical-align: middle;\n",
       "    }\n",
       "\n",
       "    .dataframe tbody tr th {\n",
       "        vertical-align: top;\n",
       "    }\n",
       "\n",
       "    .dataframe thead th {\n",
       "        text-align: right;\n",
       "    }\n",
       "</style>\n",
       "<table border=\"1\" class=\"dataframe\">\n",
       "  <thead>\n",
       "    <tr style=\"text-align: right;\">\n",
       "      <th></th>\n",
       "      <th>_id</th>\n",
       "      <th>_index_map</th>\n",
       "      <th>answers.contactnumber.type</th>\n",
       "    </tr>\n",
       "  </thead>\n",
       "  <tbody>\n",
       "    <tr>\n",
       "      <th>0</th>\n",
       "      <td>aQMjmsDcwMbPs5NyhqQPUZ</td>\n",
       "      <td>0</td>\n",
       "      <td>Landline</td>\n",
       "    </tr>\n",
       "    <tr>\n",
       "      <th>1</th>\n",
       "      <td>aQMjmsDcwMbPs5NyhqQPUZ</td>\n",
       "      <td>1</td>\n",
       "      <td>Mobile</td>\n",
       "    </tr>\n",
       "    <tr>\n",
       "      <th>2</th>\n",
       "      <td>DexsDsw39ss5NyhqQPUP</td>\n",
       "      <td>0</td>\n",
       "      <td>Landline</td>\n",
       "    </tr>\n",
       "    <tr>\n",
       "      <th>3</th>\n",
       "      <td>DexsDsw39ss5NyhqQPUP</td>\n",
       "      <td>1</td>\n",
       "      <td>Mobile</td>\n",
       "    </tr>\n",
       "  </tbody>\n",
       "</table>\n",
       "</div>"
      ],
      "text/plain": [
       "                      _id  _index_map answers.contactnumber.type\n",
       "0  aQMjmsDcwMbPs5NyhqQPUZ           0                   Landline\n",
       "1  aQMjmsDcwMbPs5NyhqQPUZ           1                     Mobile\n",
       "2    DexsDsw39ss5NyhqQPUP           0                   Landline\n",
       "3    DexsDsw39ss5NyhqQPUP           1                     Mobile"
      ]
     },
     "execution_count": 957,
     "metadata": {},
     "output_type": "execute_result"
    }
   ],
   "source": [
    "add_df  = pd.DataFrame()\n",
    "add_df  = pd.read_csv( 'file/sample_output/answers.contactnumber.csv') \n",
    "#add_df = add_df.sort_values(['_id','_index_map'])\n",
    "add_df"
   ]
  },
  {
   "cell_type": "code",
   "execution_count": 958,
   "metadata": {},
   "outputs": [
    {
     "data": {
      "text/html": [
       "<div>\n",
       "<style scoped>\n",
       "    .dataframe tbody tr th:only-of-type {\n",
       "        vertical-align: middle;\n",
       "    }\n",
       "\n",
       "    .dataframe tbody tr th {\n",
       "        vertical-align: top;\n",
       "    }\n",
       "\n",
       "    .dataframe thead th {\n",
       "        text-align: right;\n",
       "    }\n",
       "</style>\n",
       "<table border=\"1\" class=\"dataframe\">\n",
       "  <thead>\n",
       "    <tr style=\"text-align: right;\">\n",
       "      <th></th>\n",
       "      <th>_id</th>\n",
       "      <th>answers.contactnumber.ext.number</th>\n",
       "      <th>answers.contactnumber.ext.trunkline</th>\n",
       "    </tr>\n",
       "  </thead>\n",
       "  <tbody>\n",
       "    <tr>\n",
       "      <th>3</th>\n",
       "      <td>DexsDsw39ss5NyhqQPUP</td>\n",
       "      <td>9</td>\n",
       "      <td>Reception</td>\n",
       "    </tr>\n",
       "    <tr>\n",
       "      <th>4</th>\n",
       "      <td>DexsDsw39ss5NyhqQPUP</td>\n",
       "      <td>5</td>\n",
       "      <td>Operator</td>\n",
       "    </tr>\n",
       "    <tr>\n",
       "      <th>5</th>\n",
       "      <td>DexsDsw39ss5NyhqQPUP</td>\n",
       "      <td>23</td>\n",
       "      <td>Mobile Trunkline</td>\n",
       "    </tr>\n",
       "    <tr>\n",
       "      <th>0</th>\n",
       "      <td>aQMjmsDcwMbPs5NyhqQPUZ</td>\n",
       "      <td>2</td>\n",
       "      <td>Reception</td>\n",
       "    </tr>\n",
       "    <tr>\n",
       "      <th>1</th>\n",
       "      <td>aQMjmsDcwMbPs5NyhqQPUZ</td>\n",
       "      <td>2</td>\n",
       "      <td>Mobile Trunkline</td>\n",
       "    </tr>\n",
       "    <tr>\n",
       "      <th>2</th>\n",
       "      <td>aQMjmsDcwMbPs5NyhqQPUZ</td>\n",
       "      <td>3</td>\n",
       "      <td>Operator</td>\n",
       "    </tr>\n",
       "  </tbody>\n",
       "</table>\n",
       "</div>"
      ],
      "text/plain": [
       "                      _id  answers.contactnumber.ext.number  \\\n",
       "3    DexsDsw39ss5NyhqQPUP                                 9   \n",
       "4    DexsDsw39ss5NyhqQPUP                                 5   \n",
       "5    DexsDsw39ss5NyhqQPUP                                23   \n",
       "0  aQMjmsDcwMbPs5NyhqQPUZ                                 2   \n",
       "1  aQMjmsDcwMbPs5NyhqQPUZ                                 2   \n",
       "2  aQMjmsDcwMbPs5NyhqQPUZ                                 3   \n",
       "\n",
       "  answers.contactnumber.ext.trunkline  \n",
       "3                           Reception  \n",
       "4                            Operator  \n",
       "5                    Mobile Trunkline  \n",
       "0                           Reception  \n",
       "1                    Mobile Trunkline  \n",
       "2                            Operator  "
      ]
     },
     "execution_count": 958,
     "metadata": {},
     "output_type": "execute_result"
    }
   ],
   "source": [
    "add_street_df  = pd.DataFrame()\n",
    "add_street_df = pd.read_csv( 'file/sample_output/answers.contactnumber.ext.csv') \n",
    "add_street_df = add_street_df.sort_values(['_id','_index_map'])\n",
    "#add_street_df = add_street_df.drop(['_id'], axis=1).drop(['_index_map'], axis=1).replace(np.nan,'')\n",
    "add_street_df = add_street_df.drop(['_index_map'], axis=1).replace(np.nan,'')\n",
    "add_street_df "
   ]
  },
  {
   "cell_type": "code",
   "execution_count": 959,
   "metadata": {},
   "outputs": [
    {
     "name": "stdout",
     "output_type": "stream",
     "text": [
      "keys:  ['_id']\n",
      "values:  DexsDsw39ss5NyhqQPUP\n",
      "idx:  _id\n",
      "----------\n",
      "keys:  ['answers', 'contactnumber', 'ext', 'number']\n",
      "values:  9\n",
      "idx:  answers.contactnumber.ext.number\n",
      "----------\n",
      "keys:  ['answers', 'contactnumber', 'ext', 'trunkline']\n",
      "values:  Reception\n",
      "idx:  answers.contactnumber.ext.trunkline\n",
      "----------\n",
      "{'_id': 'DexsDsw39ss5NyhqQPUP', 'answers': {'contactnumber': {'ext': {'number': 9, 'trunkline': 'Reception'}}}}\n",
      "-----parsed_row-----\n",
      "keys:  ['_id']\n",
      "values:  DexsDsw39ss5NyhqQPUP\n",
      "idx:  _id\n",
      "----------\n",
      "keys:  ['answers', 'contactnumber', 'ext', 'number']\n",
      "values:  5\n",
      "idx:  answers.contactnumber.ext.number\n",
      "----------\n",
      "keys:  ['answers', 'contactnumber', 'ext', 'trunkline']\n",
      "values:  Operator\n",
      "idx:  answers.contactnumber.ext.trunkline\n",
      "----------\n",
      "{'_id': 'DexsDsw39ss5NyhqQPUP', 'answers': {'contactnumber': {'ext': {'number': 5, 'trunkline': 'Operator'}}}}\n",
      "-----parsed_row-----\n",
      "keys:  ['_id']\n",
      "values:  DexsDsw39ss5NyhqQPUP\n",
      "idx:  _id\n",
      "----------\n",
      "keys:  ['answers', 'contactnumber', 'ext', 'number']\n",
      "values:  23\n",
      "idx:  answers.contactnumber.ext.number\n",
      "----------\n",
      "keys:  ['answers', 'contactnumber', 'ext', 'trunkline']\n",
      "values:  Mobile Trunkline\n",
      "idx:  answers.contactnumber.ext.trunkline\n",
      "----------\n",
      "{'_id': 'DexsDsw39ss5NyhqQPUP', 'answers': {'contactnumber': {'ext': {'number': 23, 'trunkline': 'Mobile Trunkline'}}}}\n",
      "-----parsed_row-----\n",
      "keys:  ['_id']\n",
      "values:  aQMjmsDcwMbPs5NyhqQPUZ\n",
      "idx:  _id\n",
      "----------\n",
      "keys:  ['answers', 'contactnumber', 'ext', 'number']\n",
      "values:  2\n",
      "idx:  answers.contactnumber.ext.number\n",
      "----------\n",
      "keys:  ['answers', 'contactnumber', 'ext', 'trunkline']\n",
      "values:  Reception\n",
      "idx:  answers.contactnumber.ext.trunkline\n",
      "----------\n",
      "{'_id': 'aQMjmsDcwMbPs5NyhqQPUZ', 'answers': {'contactnumber': {'ext': {'number': 2, 'trunkline': 'Reception'}}}}\n",
      "-----parsed_row-----\n",
      "keys:  ['_id']\n",
      "values:  aQMjmsDcwMbPs5NyhqQPUZ\n",
      "idx:  _id\n",
      "----------\n",
      "keys:  ['answers', 'contactnumber', 'ext', 'number']\n",
      "values:  2\n",
      "idx:  answers.contactnumber.ext.number\n",
      "----------\n",
      "keys:  ['answers', 'contactnumber', 'ext', 'trunkline']\n",
      "values:  Mobile Trunkline\n",
      "idx:  answers.contactnumber.ext.trunkline\n",
      "----------\n",
      "{'_id': 'aQMjmsDcwMbPs5NyhqQPUZ', 'answers': {'contactnumber': {'ext': {'number': 2, 'trunkline': 'Mobile Trunkline'}}}}\n",
      "-----parsed_row-----\n",
      "keys:  ['_id']\n",
      "values:  aQMjmsDcwMbPs5NyhqQPUZ\n",
      "idx:  _id\n",
      "----------\n",
      "keys:  ['answers', 'contactnumber', 'ext', 'number']\n",
      "values:  3\n",
      "idx:  answers.contactnumber.ext.number\n",
      "----------\n",
      "keys:  ['answers', 'contactnumber', 'ext', 'trunkline']\n",
      "values:  Operator\n",
      "idx:  answers.contactnumber.ext.trunkline\n",
      "----------\n",
      "{'_id': 'aQMjmsDcwMbPs5NyhqQPUZ', 'answers': {'contactnumber': {'ext': {'number': 3, 'trunkline': 'Operator'}}}}\n",
      "-----parsed_row-----\n"
     ]
    },
    {
     "data": {
      "text/plain": [
       "[{'_id': 'DexsDsw39ss5NyhqQPUP',\n",
       "  'answers': {'contactnumber': {'ext': {'number': 9,\n",
       "     'trunkline': 'Reception'}}}},\n",
       " {'_id': 'DexsDsw39ss5NyhqQPUP',\n",
       "  'answers': {'contactnumber': {'ext': {'number': 5,\n",
       "     'trunkline': 'Operator'}}}},\n",
       " {'_id': 'DexsDsw39ss5NyhqQPUP',\n",
       "  'answers': {'contactnumber': {'ext': {'number': 23,\n",
       "     'trunkline': 'Mobile Trunkline'}}}},\n",
       " {'_id': 'aQMjmsDcwMbPs5NyhqQPUZ',\n",
       "  'answers': {'contactnumber': {'ext': {'number': 2,\n",
       "     'trunkline': 'Reception'}}}},\n",
       " {'_id': 'aQMjmsDcwMbPs5NyhqQPUZ',\n",
       "  'answers': {'contactnumber': {'ext': {'number': 2,\n",
       "     'trunkline': 'Mobile Trunkline'}}}},\n",
       " {'_id': 'aQMjmsDcwMbPs5NyhqQPUZ',\n",
       "  'answers': {'contactnumber': {'ext': {'number': 3,\n",
       "     'trunkline': 'Operator'}}}}]"
      ]
     },
     "execution_count": 959,
     "metadata": {},
     "output_type": "execute_result"
    }
   ],
   "source": [
    "test = to_formatted_json_test(add_street_df)\n",
    "test"
   ]
  },
  {
   "cell_type": "markdown",
   "metadata": {},
   "source": [
    "## Convert object into array of object"
   ]
  },
  {
   "cell_type": "code",
   "execution_count": 960,
   "metadata": {},
   "outputs": [
    {
     "name": "stdout",
     "output_type": "stream",
     "text": [
      "-----\n"
     ]
    },
    {
     "data": {
      "text/plain": [
       "{'_id': 'DexsDsw39ss5NyhqQPUP',\n",
       " 'answers': {'contactnumber': {'ext': [{'number': 9, 'trunkline': 'Reception'},\n",
       "    {'number': 233, 'trunkline': 'Reception'}]}}}"
      ]
     },
     "execution_count": 960,
     "metadata": {},
     "output_type": "execute_result"
    }
   ],
   "source": [
    "\n",
    "        \n",
    "fofo = {}\n",
    "print('-----')\n",
    "fofo = {'number': 233, 'trunkline': 'Reception'}\n",
    "test[0]['answers']['contactnumber']['ext'] = [test[0]['answers']['contactnumber']['ext']]\n",
    "test[0]\n",
    "test[0]['answers']['contactnumber']['ext'].append(fofo)\n",
    "test[0]\n"
   ]
  },
  {
   "cell_type": "code",
   "execution_count": 961,
   "metadata": {},
   "outputs": [
    {
     "data": {
      "text/plain": [
       "'{\"_id\": \"DexsDsw39ss5NyhqQPUP\", \"answers\": {\"contactnumber\": {\"ext\": [{\"number\": 9, \"trunkline\": \"Reception\"}, {\"number\": 233, \"trunkline\": \"Reception\"}]}}}'"
      ]
     },
     "execution_count": 961,
     "metadata": {},
     "output_type": "execute_result"
    }
   ],
   "source": [
    "json.dumps(test[0])"
   ]
  },
  {
   "cell_type": "code",
   "execution_count": null,
   "metadata": {},
   "outputs": [],
   "source": []
  },
  {
   "cell_type": "code",
   "execution_count": null,
   "metadata": {},
   "outputs": [],
   "source": []
  },
  {
   "cell_type": "code",
   "execution_count": null,
   "metadata": {},
   "outputs": [],
   "source": []
  },
  {
   "cell_type": "code",
   "execution_count": null,
   "metadata": {},
   "outputs": [],
   "source": []
  },
  {
   "cell_type": "code",
   "execution_count": null,
   "metadata": {},
   "outputs": [],
   "source": []
  },
  {
   "cell_type": "code",
   "execution_count": null,
   "metadata": {},
   "outputs": [],
   "source": []
  },
  {
   "cell_type": "code",
   "execution_count": null,
   "metadata": {},
   "outputs": [],
   "source": []
  },
  {
   "cell_type": "code",
   "execution_count": null,
   "metadata": {},
   "outputs": [],
   "source": []
  },
  {
   "cell_type": "code",
   "execution_count": null,
   "metadata": {},
   "outputs": [],
   "source": []
  },
  {
   "cell_type": "code",
   "execution_count": null,
   "metadata": {},
   "outputs": [],
   "source": []
  },
  {
   "cell_type": "code",
   "execution_count": null,
   "metadata": {},
   "outputs": [],
   "source": []
  },
  {
   "cell_type": "code",
   "execution_count": null,
   "metadata": {},
   "outputs": [],
   "source": []
  },
  {
   "cell_type": "code",
   "execution_count": null,
   "metadata": {},
   "outputs": [],
   "source": []
  },
  {
   "cell_type": "code",
   "execution_count": null,
   "metadata": {},
   "outputs": [],
   "source": []
  },
  {
   "cell_type": "code",
   "execution_count": null,
   "metadata": {},
   "outputs": [],
   "source": []
  },
  {
   "cell_type": "code",
   "execution_count": null,
   "metadata": {},
   "outputs": [],
   "source": []
  },
  {
   "cell_type": "code",
   "execution_count": null,
   "metadata": {},
   "outputs": [],
   "source": []
  },
  {
   "cell_type": "code",
   "execution_count": null,
   "metadata": {},
   "outputs": [],
   "source": []
  },
  {
   "cell_type": "code",
   "execution_count": null,
   "metadata": {},
   "outputs": [],
   "source": []
  },
  {
   "cell_type": "code",
   "execution_count": null,
   "metadata": {},
   "outputs": [],
   "source": []
  }
 ],
 "metadata": {
  "kernelspec": {
   "display_name": "Python 3",
   "language": "python",
   "name": "python3"
  },
  "language_info": {
   "codemirror_mode": {
    "name": "ipython",
    "version": 3
   },
   "file_extension": ".py",
   "mimetype": "text/x-python",
   "name": "python",
   "nbconvert_exporter": "python",
   "pygments_lexer": "ipython3",
   "version": "3.6.2"
  }
 },
 "nbformat": 4,
 "nbformat_minor": 2
}
