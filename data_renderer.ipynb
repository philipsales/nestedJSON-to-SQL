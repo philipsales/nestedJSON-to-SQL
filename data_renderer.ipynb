{
 "cells": [
  {
   "cell_type": "code",
   "execution_count": 109,
   "metadata": {},
   "outputs": [],
   "source": [
    "import numpy as np\n",
    "import pandas as pd\n",
    "import json\n",
    "from pandas.io.json import json_normalize \n",
    "from pandas import read_csv\n",
    "import logging\n",
    "from functools import reduce\n",
    "import csv\n",
    "from collections import defaultdict"
   ]
  },
  {
   "cell_type": "markdown",
   "metadata": {},
   "source": [
    "## Configuration "
   ]
  },
  {
   "cell_type": "code",
   "execution_count": 110,
   "metadata": {},
   "outputs": [
    {
     "data": {
      "text/html": [
       "<div>\n",
       "<style scoped>\n",
       "    .dataframe tbody tr th:only-of-type {\n",
       "        vertical-align: middle;\n",
       "    }\n",
       "\n",
       "    .dataframe tbody tr th {\n",
       "        vertical-align: top;\n",
       "    }\n",
       "\n",
       "    .dataframe thead th {\n",
       "        text-align: right;\n",
       "    }\n",
       "</style>\n",
       "<table border=\"1\" class=\"dataframe\">\n",
       "  <thead>\n",
       "    <tr style=\"text-align: right;\">\n",
       "      <th></th>\n",
       "      <th>_id</th>\n",
       "      <th>_index_map</th>\n",
       "      <th>formid</th>\n",
       "      <th>answers.height</th>\n",
       "      <th>answers.bloodtype</th>\n",
       "      <th>answers.identification.number.code</th>\n",
       "      <th>answers.identification.type</th>\n",
       "      <th>answers.identification.number.pin</th>\n",
       "      <th>answers.income</th>\n",
       "      <th>answers.bp1_systolic</th>\n",
       "    </tr>\n",
       "  </thead>\n",
       "  <tbody>\n",
       "    <tr>\n",
       "      <th>0</th>\n",
       "      <td>aQMjmsDcwMbPs5NyhqQPUZ</td>\n",
       "      <td>NaN</td>\n",
       "      <td>aQMjmsDcwMbPs5NyhqQPUZ</td>\n",
       "      <td>16</td>\n",
       "      <td>A</td>\n",
       "      <td>1033.2</td>\n",
       "      <td>SSS</td>\n",
       "      <td>201</td>\n",
       "      <td>60.0</td>\n",
       "      <td>120</td>\n",
       "    </tr>\n",
       "    <tr>\n",
       "      <th>1</th>\n",
       "      <td>DexsDsw39ss5NyhqQPUP</td>\n",
       "      <td>NaN</td>\n",
       "      <td>DexsDsw39ss5NyhqQPUP</td>\n",
       "      <td>23</td>\n",
       "      <td>B</td>\n",
       "      <td>2033.2</td>\n",
       "      <td>SSS</td>\n",
       "      <td>333</td>\n",
       "      <td>80.0</td>\n",
       "      <td>201</td>\n",
       "    </tr>\n",
       "  </tbody>\n",
       "</table>\n",
       "</div>"
      ],
      "text/plain": [
       "                      _id  _index_map                  formid  answers.height  \\\n",
       "0  aQMjmsDcwMbPs5NyhqQPUZ         NaN  aQMjmsDcwMbPs5NyhqQPUZ              16   \n",
       "1    DexsDsw39ss5NyhqQPUP         NaN    DexsDsw39ss5NyhqQPUP              23   \n",
       "\n",
       "  answers.bloodtype  answers.identification.number.code  \\\n",
       "0                 A                              1033.2   \n",
       "1                 B                              2033.2   \n",
       "\n",
       "  answers.identification.type  answers.identification.number.pin  \\\n",
       "0                         SSS                                201   \n",
       "1                         SSS                                333   \n",
       "\n",
       "   answers.income  answers.bp1_systolic  \n",
       "0            60.0                   120  \n",
       "1            80.0                   201  "
      ]
     },
     "execution_count": 110,
     "metadata": {},
     "output_type": "execute_result"
    }
   ],
   "source": [
    "hi_df = pd.DataFrame()\n",
    "hi_df = pd.read_csv( 'file/sample_output/healthinformation.csv') \n",
    "#data_df = data_df.to_dict(orient='records')\n",
    "hi_df"
   ]
  },
  {
   "cell_type": "code",
   "execution_count": 111,
   "metadata": {},
   "outputs": [],
   "source": [
    "def set_for_keys(my_dict, key_arr, val):\n",
    "\n",
    "    current = my_dict\n",
    "    for i in range(len(key_arr)):\n",
    "        key = key_arr[i]\n",
    "        if key not in current:\n",
    "            if i==len(key_arr)-1:\n",
    "                current[key] = val\n",
    "            else:\n",
    "                current[key] = {}\n",
    "        else:\n",
    "            if type(current[key]) is not dict:\n",
    "                print(\"not compatible with key structure requested\")\n",
    "                raise ValueError(\"Dictionary key already occupied\")\n",
    "\n",
    "        current = current[key]\n",
    "\n",
    "    return my_dict\n",
    "\n",
    "def to_formatted_json(df, sep=\".\"):\n",
    "    result = []\n",
    "    for _, row in df.iterrows():\n",
    "        parsed_row = {}\n",
    "        for idx, val in row.iteritems():\n",
    "            keys = idx.split(sep)\n",
    "            \n",
    "            parsed_row = set_for_keys(parsed_row, keys, val)\n",
    "        result.append(parsed_row)\n",
    "\n",
    "    \n",
    "    return result\n",
    "\n",
    "def to_formatted_json_test(df, sep=\".\"):\n",
    "    result = []\n",
    "    for _, row in df.iterrows():\n",
    "        parsed_row = {}\n",
    "        for idx, val in row.iteritems():\n",
    "            keys = idx.split(sep)\n",
    "            \n",
    "            parsed_row = set_for_keys(parsed_row, keys, val)\n",
    "            \n",
    "            print('keys: ' , keys)\n",
    "            print('values: ' , val)\n",
    "            print('idx: ' , idx)\n",
    "            print('----------')\n",
    "            #print('parse_row: ',parsed_row)\n",
    "        print(parsed_row)\n",
    "        print('-----parsed_row-----')\n",
    "        result.append(parsed_row)\n",
    "        \n",
    "    \n",
    "    return result\n",
    "\n",
    "#Where df was parsed from json-dict using json_normalize"
   ]
  },
  {
   "cell_type": "code",
   "execution_count": 112,
   "metadata": {},
   "outputs": [],
   "source": [
    "#hi_df = to_formatted_json(data_df, sep=\".\")\n",
    "#hi_df"
   ]
  },
  {
   "cell_type": "markdown",
   "metadata": {},
   "source": [
    "## File loader"
   ]
  },
  {
   "cell_type": "code",
   "execution_count": 113,
   "metadata": {},
   "outputs": [
    {
     "data": {
      "text/html": [
       "<div>\n",
       "<style scoped>\n",
       "    .dataframe tbody tr th:only-of-type {\n",
       "        vertical-align: middle;\n",
       "    }\n",
       "\n",
       "    .dataframe tbody tr th {\n",
       "        vertical-align: top;\n",
       "    }\n",
       "\n",
       "    .dataframe thead th {\n",
       "        text-align: right;\n",
       "    }\n",
       "</style>\n",
       "<table border=\"1\" class=\"dataframe\">\n",
       "  <thead>\n",
       "    <tr style=\"text-align: right;\">\n",
       "      <th></th>\n",
       "      <th>_id</th>\n",
       "      <th>_index_map</th>\n",
       "      <th>answers.familydiseasehistory</th>\n",
       "    </tr>\n",
       "  </thead>\n",
       "  <tbody>\n",
       "    <tr>\n",
       "      <th>3</th>\n",
       "      <td>DexsDsw39ss5NyhqQPUP</td>\n",
       "      <td>0</td>\n",
       "      <td>Head Cancer</td>\n",
       "    </tr>\n",
       "    <tr>\n",
       "      <th>4</th>\n",
       "      <td>DexsDsw39ss5NyhqQPUP</td>\n",
       "      <td>1</td>\n",
       "      <td>Stomach Cancer</td>\n",
       "    </tr>\n",
       "    <tr>\n",
       "      <th>0</th>\n",
       "      <td>aQMjmsDcwMbPs5NyhqQPUZ</td>\n",
       "      <td>0</td>\n",
       "      <td>Respiratory ,disease</td>\n",
       "    </tr>\n",
       "    <tr>\n",
       "      <th>1</th>\n",
       "      <td>aQMjmsDcwMbPs5NyhqQPUZ</td>\n",
       "      <td>1</td>\n",
       "      <td>Brain Cancer</td>\n",
       "    </tr>\n",
       "    <tr>\n",
       "      <th>2</th>\n",
       "      <td>aQMjmsDcwMbPs5NyhqQPUZ</td>\n",
       "      <td>2</td>\n",
       "      <td>Stomach Cancer</td>\n",
       "    </tr>\n",
       "  </tbody>\n",
       "</table>\n",
       "</div>"
      ],
      "text/plain": [
       "                      _id  _index_map answers.familydiseasehistory\n",
       "3    DexsDsw39ss5NyhqQPUP           0                  Head Cancer\n",
       "4    DexsDsw39ss5NyhqQPUP           1               Stomach Cancer\n",
       "0  aQMjmsDcwMbPs5NyhqQPUZ           0         Respiratory ,disease\n",
       "1  aQMjmsDcwMbPs5NyhqQPUZ           1                 Brain Cancer\n",
       "2  aQMjmsDcwMbPs5NyhqQPUZ           2               Stomach Cancer"
      ]
     },
     "execution_count": 113,
     "metadata": {},
     "output_type": "execute_result"
    }
   ],
   "source": [
    "fdh_df  = pd.DataFrame()\n",
    "fdh_df  = pd.read_csv( 'file/sample_output/answers.familydiseasehistory.csv') \n",
    "#data_df = data_df.to_dict(orient='records')\n",
    "fdh_df = fdh_df.sort_values(['_id','_index_map'])\n",
    "fdh_df"
   ]
  },
  {
   "cell_type": "markdown",
   "metadata": {},
   "source": [
    "## GROUP BY IF FILE IS ALL ARRAY"
   ]
  },
  {
   "cell_type": "code",
   "execution_count": 114,
   "metadata": {},
   "outputs": [
    {
     "data": {
      "text/html": [
       "<div>\n",
       "<style scoped>\n",
       "    .dataframe tbody tr th:only-of-type {\n",
       "        vertical-align: middle;\n",
       "    }\n",
       "\n",
       "    .dataframe tbody tr th {\n",
       "        vertical-align: top;\n",
       "    }\n",
       "\n",
       "    .dataframe thead th {\n",
       "        text-align: right;\n",
       "    }\n",
       "</style>\n",
       "<table border=\"1\" class=\"dataframe\">\n",
       "  <thead>\n",
       "    <tr style=\"text-align: right;\">\n",
       "      <th></th>\n",
       "      <th>_id</th>\n",
       "      <th>_index_map</th>\n",
       "      <th>answers.familydiseasehistory</th>\n",
       "    </tr>\n",
       "  </thead>\n",
       "  <tbody>\n",
       "    <tr>\n",
       "      <th>0</th>\n",
       "      <td>DexsDsw39ss5NyhqQPUP</td>\n",
       "      <td>[0, 1]</td>\n",
       "      <td>[Head Cancer, Stomach Cancer]</td>\n",
       "    </tr>\n",
       "    <tr>\n",
       "      <th>1</th>\n",
       "      <td>aQMjmsDcwMbPs5NyhqQPUZ</td>\n",
       "      <td>[0, 1, 2]</td>\n",
       "      <td>[Respiratory ,disease, Brain Cancer, Stomach C...</td>\n",
       "    </tr>\n",
       "  </tbody>\n",
       "</table>\n",
       "</div>"
      ],
      "text/plain": [
       "                      _id _index_map  \\\n",
       "0    DexsDsw39ss5NyhqQPUP     [0, 1]   \n",
       "1  aQMjmsDcwMbPs5NyhqQPUZ  [0, 1, 2]   \n",
       "\n",
       "                        answers.familydiseasehistory  \n",
       "0                      [Head Cancer, Stomach Cancer]  \n",
       "1  [Respiratory ,disease, Brain Cancer, Stomach C...  "
      ]
     },
     "execution_count": 114,
     "metadata": {},
     "output_type": "execute_result"
    }
   ],
   "source": [
    "fdh_df = fdh_df.groupby('_id').agg(lambda x: x.tolist())\n",
    "fdh_df = fdh_df.reset_index()\n",
    "fdh_df"
   ]
  },
  {
   "cell_type": "code",
   "execution_count": 115,
   "metadata": {},
   "outputs": [
    {
     "data": {
      "text/html": [
       "<div>\n",
       "<style scoped>\n",
       "    .dataframe tbody tr th:only-of-type {\n",
       "        vertical-align: middle;\n",
       "    }\n",
       "\n",
       "    .dataframe tbody tr th {\n",
       "        vertical-align: top;\n",
       "    }\n",
       "\n",
       "    .dataframe thead th {\n",
       "        text-align: right;\n",
       "    }\n",
       "</style>\n",
       "<table border=\"1\" class=\"dataframe\">\n",
       "  <thead>\n",
       "    <tr style=\"text-align: right;\">\n",
       "      <th></th>\n",
       "      <th>_id</th>\n",
       "      <th>answers.familydiseasehistory</th>\n",
       "    </tr>\n",
       "  </thead>\n",
       "  <tbody>\n",
       "    <tr>\n",
       "      <th>0</th>\n",
       "      <td>DexsDsw39ss5NyhqQPUP</td>\n",
       "      <td>[Head Cancer, Stomach Cancer]</td>\n",
       "    </tr>\n",
       "    <tr>\n",
       "      <th>1</th>\n",
       "      <td>aQMjmsDcwMbPs5NyhqQPUZ</td>\n",
       "      <td>[Respiratory ,disease, Brain Cancer, Stomach C...</td>\n",
       "    </tr>\n",
       "  </tbody>\n",
       "</table>\n",
       "</div>"
      ],
      "text/plain": [
       "                      _id                       answers.familydiseasehistory\n",
       "0    DexsDsw39ss5NyhqQPUP                      [Head Cancer, Stomach Cancer]\n",
       "1  aQMjmsDcwMbPs5NyhqQPUZ  [Respiratory ,disease, Brain Cancer, Stomach C..."
      ]
     },
     "execution_count": 115,
     "metadata": {},
     "output_type": "execute_result"
    }
   ],
   "source": [
    "fdh_df = fdh_df.drop(['_index_map'], axis=1)\n",
    "fdh_df"
   ]
  },
  {
   "cell_type": "code",
   "execution_count": 116,
   "metadata": {},
   "outputs": [
    {
     "data": {
      "text/html": [
       "<div>\n",
       "<style scoped>\n",
       "    .dataframe tbody tr th:only-of-type {\n",
       "        vertical-align: middle;\n",
       "    }\n",
       "\n",
       "    .dataframe tbody tr th {\n",
       "        vertical-align: top;\n",
       "    }\n",
       "\n",
       "    .dataframe thead th {\n",
       "        text-align: right;\n",
       "    }\n",
       "</style>\n",
       "<table border=\"1\" class=\"dataframe\">\n",
       "  <thead>\n",
       "    <tr style=\"text-align: right;\">\n",
       "      <th></th>\n",
       "      <th>formid</th>\n",
       "      <th>answers.height</th>\n",
       "      <th>answers.bloodtype</th>\n",
       "      <th>answers.identification.number.code</th>\n",
       "      <th>answers.identification.type</th>\n",
       "      <th>answers.identification.number.pin</th>\n",
       "      <th>answers.income</th>\n",
       "      <th>answers.bp1_systolic</th>\n",
       "      <th>answers.familydiseasehistory</th>\n",
       "    </tr>\n",
       "  </thead>\n",
       "  <tbody>\n",
       "    <tr>\n",
       "      <th>0</th>\n",
       "      <td>aQMjmsDcwMbPs5NyhqQPUZ</td>\n",
       "      <td>16</td>\n",
       "      <td>A</td>\n",
       "      <td>1033.2</td>\n",
       "      <td>SSS</td>\n",
       "      <td>201</td>\n",
       "      <td>60.0</td>\n",
       "      <td>120</td>\n",
       "      <td>[Respiratory ,disease, Brain Cancer, Stomach C...</td>\n",
       "    </tr>\n",
       "    <tr>\n",
       "      <th>1</th>\n",
       "      <td>DexsDsw39ss5NyhqQPUP</td>\n",
       "      <td>23</td>\n",
       "      <td>B</td>\n",
       "      <td>2033.2</td>\n",
       "      <td>SSS</td>\n",
       "      <td>333</td>\n",
       "      <td>80.0</td>\n",
       "      <td>201</td>\n",
       "      <td>[Head Cancer, Stomach Cancer]</td>\n",
       "    </tr>\n",
       "  </tbody>\n",
       "</table>\n",
       "</div>"
      ],
      "text/plain": [
       "                   formid  answers.height answers.bloodtype  \\\n",
       "0  aQMjmsDcwMbPs5NyhqQPUZ              16                 A   \n",
       "1    DexsDsw39ss5NyhqQPUP              23                 B   \n",
       "\n",
       "   answers.identification.number.code answers.identification.type  \\\n",
       "0                              1033.2                         SSS   \n",
       "1                              2033.2                         SSS   \n",
       "\n",
       "   answers.identification.number.pin  answers.income  answers.bp1_systolic  \\\n",
       "0                                201            60.0                   120   \n",
       "1                                333            80.0                   201   \n",
       "\n",
       "                        answers.familydiseasehistory  \n",
       "0  [Respiratory ,disease, Brain Cancer, Stomach C...  \n",
       "1                      [Head Cancer, Stomach Cancer]  "
      ]
     },
     "execution_count": 116,
     "metadata": {},
     "output_type": "execute_result"
    }
   ],
   "source": [
    "merge_join = pd.merge(hi_df,fdh_df, left_on='_id', right_on='_id', how='left')\n",
    "merge_join = merge_join.drop(['_id'], axis=1).drop(['_index_map'], axis=1).replace(np.nan,'')\n",
    "merge_join\n"
   ]
  },
  {
   "cell_type": "code",
   "execution_count": null,
   "metadata": {},
   "outputs": [],
   "source": []
  },
  {
   "cell_type": "markdown",
   "metadata": {},
   "source": [
    "## JOIN SHOULD BE IN THE PERSISTENT DATABASE ALREADY"
   ]
  },
  {
   "cell_type": "code",
   "execution_count": null,
   "metadata": {},
   "outputs": [],
   "source": [
    "add_df  = pd.DataFrame()\n",
    "add_df  = pd.read_csv( 'file/sample_output/answers.contactnumber.csv') \n",
    "#add_df = add_df.sort_values(['_id','_index_map'])\n",
    "add_df"
   ]
  },
  {
   "cell_type": "code",
   "execution_count": null,
   "metadata": {},
   "outputs": [],
   "source": [
    "add_street_df  = pd.DataFrame()\n",
    "add_street_df = pd.read_csv( 'file/sample_output/answers.contactnumber.ext.csv') \n",
    "add_street_df = add_street_df.sort_values(['_id','_index_map'])\n",
    "#add_street_df = add_street_df.drop(['_id'], axis=1).drop(['_index_map'], axis=1).replace(np.nan,'')\n",
    "#add_street_df = add_street_df.drop(['_index_map'], axis=1).replace(np.nan,'')\n",
    "add_street_df "
   ]
  },
  {
   "cell_type": "markdown",
   "metadata": {},
   "source": [
    "## Convert object into array of object"
   ]
  },
  {
   "cell_type": "code",
   "execution_count": 139,
   "metadata": {},
   "outputs": [
    {
     "data": {
      "text/plain": [
       "[{'_id': 'DexsDsw39ss5NyhqQPUP',\n",
       "  '_index_map': 0.0,\n",
       "  'answers': {'contactnumber': {'ext': {'number': 9,\n",
       "     'trunkline': 'Reception'}}}},\n",
       " {'_id': 'DexsDsw39ss5NyhqQPUP',\n",
       "  '_index_map': 0.1,\n",
       "  'answers': {'contactnumber': {'ext': {'number': 5,\n",
       "     'trunkline': 'Operator'}}}},\n",
       " {'_id': 'DexsDsw39ss5NyhqQPUP',\n",
       "  '_index_map': 1.0,\n",
       "  'answers': {'contactnumber': {'ext': {'number': 23,\n",
       "     'trunkline': 'Mobile Trunkline'}}}},\n",
       " {'_id': 'aQMjmsDcwMbPs5NyhqQPUZ',\n",
       "  '_index_map': 0.0,\n",
       "  'answers': {'contactnumber': {'ext': {'number': 2,\n",
       "     'trunkline': 'Reception'}}}},\n",
       " {'_id': 'aQMjmsDcwMbPs5NyhqQPUZ',\n",
       "  '_index_map': 1.0,\n",
       "  'answers': {'contactnumber': {'ext': {'number': 2,\n",
       "     'trunkline': 'Mobile Trunkline'}}}},\n",
       " {'_id': 'aQMjmsDcwMbPs5NyhqQPUZ',\n",
       "  '_index_map': 1.1,\n",
       "  'answers': {'contactnumber': {'ext': {'number': 3,\n",
       "     'trunkline': 'Operator'}}}}]"
      ]
     },
     "execution_count": 139,
     "metadata": {},
     "output_type": "execute_result"
    }
   ],
   "source": [
    "format_json = to_formatted_json(add_street_df, sep=\".\")\n",
    "format_json"
   ]
  },
  {
   "cell_type": "code",
   "execution_count": 125,
   "metadata": {},
   "outputs": [],
   "source": [
    "result = [\n",
    "    {\n",
    "        \"standard\": \"119\",\n",
    "        \"score\": \"0\",\n",
    "        \"type\": \"assignment\",\n",
    "        \"student\": \"4\"\n",
    "    },\n",
    "    {\n",
    "        \"standard\": \"119\",\n",
    "        \"score\": \"0\",\n",
    "        \"type\": \"assignment\",\n",
    "        \"student\": \"5\"\n",
    "    },\n",
    "    {\n",
    "        \"standard\": \"118\",\n",
    "        \"score\": \"0\",\n",
    "        \"type\": \"assessment\",\n",
    "        \"student\": \"4\"\n",
    "    }\n",
    "]"
   ]
  },
  {
   "cell_type": "code",
   "execution_count": 126,
   "metadata": {},
   "outputs": [],
   "source": [
    "def conf_to_nested_dict(keys, result):\n",
    "    R = {}\n",
    "    for record in result: \n",
    "        node = R\n",
    "        for key in keys[:-1]:\n",
    "            kv = record[key]\n",
    "            next_node = node.get(kv, {})\n",
    "            node[kv] = next_node\n",
    "            node = next_node\n",
    "        last_node = node.get(record[keys[-1]], [])\n",
    "        last_node.append(record)\n",
    "        node[record[keys[-1]]] = last_node\n",
    "\n",
    "\n",
    "    return R"
   ]
  },
  {
   "cell_type": "code",
   "execution_count": 166,
   "metadata": {},
   "outputs": [
    {
     "data": {
      "text/plain": [
       "{'119': {'assignment': [{'standard': '119',\n",
       "    'score': '0',\n",
       "    'type': 'assignment',\n",
       "    'student': '4'},\n",
       "   {'standard': '119', 'score': '0', 'type': 'assignment', 'student': '5'}]},\n",
       " '118': {'assessment': [{'standard': '118',\n",
       "    'score': '0',\n",
       "    'type': 'assessment',\n",
       "    'student': '4'}]}}"
      ]
     },
     "execution_count": 166,
     "metadata": {},
     "output_type": "execute_result"
    }
   ],
   "source": [
    "shit = conf_to_nested_dict(['standard','type'],result)\n",
    "shit"
   ]
  },
  {
   "cell_type": "code",
   "execution_count": 163,
   "metadata": {},
   "outputs": [
    {
     "data": {
      "text/html": [
       "<div>\n",
       "<style scoped>\n",
       "    .dataframe tbody tr th:only-of-type {\n",
       "        vertical-align: middle;\n",
       "    }\n",
       "\n",
       "    .dataframe tbody tr th {\n",
       "        vertical-align: top;\n",
       "    }\n",
       "\n",
       "    .dataframe thead th {\n",
       "        text-align: right;\n",
       "    }\n",
       "</style>\n",
       "<table border=\"1\" class=\"dataframe\">\n",
       "  <thead>\n",
       "    <tr style=\"text-align: right;\">\n",
       "      <th></th>\n",
       "      <th>_id</th>\n",
       "      <th>_index_map</th>\n",
       "      <th>answers.contactnumber.ext.number</th>\n",
       "      <th>answers.contactnumber.ext.trunkline</th>\n",
       "    </tr>\n",
       "  </thead>\n",
       "  <tbody>\n",
       "    <tr>\n",
       "      <th>0</th>\n",
       "      <td>DexsDsw39ss5NyhqQPUP</td>\n",
       "      <td>0.0</td>\n",
       "      <td>9</td>\n",
       "      <td>Reception</td>\n",
       "    </tr>\n",
       "    <tr>\n",
       "      <th>1</th>\n",
       "      <td>DexsDsw39ss5NyhqQPUP</td>\n",
       "      <td>0.1</td>\n",
       "      <td>5</td>\n",
       "      <td>Operator</td>\n",
       "    </tr>\n",
       "    <tr>\n",
       "      <th>2</th>\n",
       "      <td>DexsDsw39ss5NyhqQPUP</td>\n",
       "      <td>1.0</td>\n",
       "      <td>23</td>\n",
       "      <td>Mobile Trunkline</td>\n",
       "    </tr>\n",
       "    <tr>\n",
       "      <th>3</th>\n",
       "      <td>aQMjmsDcwMbPs5NyhqQPUZ</td>\n",
       "      <td>0.0</td>\n",
       "      <td>2</td>\n",
       "      <td>Reception</td>\n",
       "    </tr>\n",
       "    <tr>\n",
       "      <th>4</th>\n",
       "      <td>aQMjmsDcwMbPs5NyhqQPUZ</td>\n",
       "      <td>1.0</td>\n",
       "      <td>2</td>\n",
       "      <td>Mobile Trunkline</td>\n",
       "    </tr>\n",
       "    <tr>\n",
       "      <th>5</th>\n",
       "      <td>aQMjmsDcwMbPs5NyhqQPUZ</td>\n",
       "      <td>1.1</td>\n",
       "      <td>3</td>\n",
       "      <td>Operator</td>\n",
       "    </tr>\n",
       "  </tbody>\n",
       "</table>\n",
       "</div>"
      ],
      "text/plain": [
       "                      _id  _index_map  answers.contactnumber.ext.number  \\\n",
       "0    DexsDsw39ss5NyhqQPUP         0.0                                 9   \n",
       "1    DexsDsw39ss5NyhqQPUP         0.1                                 5   \n",
       "2    DexsDsw39ss5NyhqQPUP         1.0                                23   \n",
       "3  aQMjmsDcwMbPs5NyhqQPUZ         0.0                                 2   \n",
       "4  aQMjmsDcwMbPs5NyhqQPUZ         1.0                                 2   \n",
       "5  aQMjmsDcwMbPs5NyhqQPUZ         1.1                                 3   \n",
       "\n",
       "  answers.contactnumber.ext.trunkline  \n",
       "0                           Reception  \n",
       "1                            Operator  \n",
       "2                    Mobile Trunkline  \n",
       "3                           Reception  \n",
       "4                    Mobile Trunkline  \n",
       "5                            Operator  "
      ]
     },
     "execution_count": 163,
     "metadata": {},
     "output_type": "execute_result"
    }
   ],
   "source": [
    "add_street_df  = pd.DataFrame()\n",
    "add_street_df = pd.read_csv( 'file/sample_output/answers.contactnumber.ext.csv') \n",
    "add_street_df = add_street_df.sort_values(['_id','_index_map']).reset_index(drop=True)\n",
    "add_street_df"
   ]
  },
  {
   "cell_type": "code",
   "execution_count": 379,
   "metadata": {},
   "outputs": [
    {
     "data": {
      "text/plain": [
       "{'ext': [{}, {}]}"
      ]
     },
     "execution_count": 379,
     "metadata": {},
     "output_type": "execute_result"
    }
   ],
   "source": [
    "d = {}\n",
    "w = {}\n",
    "\n",
    "w['number'] = 1\n",
    "w['trunkline'] = 'operation'\n",
    "\n",
    "d.setdefault('ext', [None]*2)\n",
    "d['ext'][0] = {}\n",
    "d['ext'][1] = {}\n",
    "#d['ext'][0] = {}\n",
    "#d['ext'][0].update(w)\n",
    "#d['ext'][0].update(y)\n",
    "#d['ext'][1] = {}\n",
    "#d['ext'][1].update(z)\n",
    "\n",
    "d"
   ]
  },
  {
   "cell_type": "code",
   "execution_count": 300,
   "metadata": {},
   "outputs": [
    {
     "data": {
      "text/plain": [
       "{'contactnumber': [{'ext': [{'Number': '02', 'Trunkline': 'Operation'},\n",
       "    {'Number': '32', 'Trunkline': 'Reception'}]},\n",
       "  None]}"
      ]
     },
     "execution_count": 300,
     "metadata": {},
     "output_type": "execute_result"
    }
   ],
   "source": [
    "a = {}\n",
    "a.setdefault('contactnumber', [None]*2)\n",
    "a['contactnumber'][0] = {}\n",
    "a['contactnumber'][0].update(d)\n",
    "\n",
    "a"
   ]
  },
  {
   "cell_type": "code",
   "execution_count": 348,
   "metadata": {},
   "outputs": [],
   "source": [
    "src = \"answers.contactnumber/0.ext/0.number\""
   ]
  },
  {
   "cell_type": "code",
   "execution_count": 349,
   "metadata": {},
   "outputs": [
    {
     "name": "stdout",
     "output_type": "stream",
     "text": [
      "answers\n",
      "contactnumber/0\n",
      "ext/0\n",
      "number\n"
     ]
    }
   ],
   "source": [
    "for item in src.split('.'):\n",
    "    print(item)\n",
    "\n"
   ]
  },
  {
   "cell_type": "code",
   "execution_count": null,
   "metadata": {},
   "outputs": [],
   "source": []
  }
 ],
 "metadata": {
  "kernelspec": {
   "display_name": "Python 3",
   "language": "python",
   "name": "python3"
  },
  "language_info": {
   "codemirror_mode": {
    "name": "ipython",
    "version": 3
   },
   "file_extension": ".py",
   "mimetype": "text/x-python",
   "name": "python",
   "nbconvert_exporter": "python",
   "pygments_lexer": "ipython3",
   "version": "3.6.2"
  }
 },
 "nbformat": 4,
 "nbformat_minor": 2
}
