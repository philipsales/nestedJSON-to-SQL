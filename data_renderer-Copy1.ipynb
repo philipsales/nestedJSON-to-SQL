{
 "cells": [
  {
   "cell_type": "code",
   "execution_count": 2,
   "metadata": {},
   "outputs": [],
   "source": [
    "import numpy as np\n",
    "import pandas as pd\n",
    "import json\n",
    "from pandas.io.json import json_normalize \n",
    "from pandas import read_csv\n",
    "import logging\n",
    "from functools import reduce\n",
    "import csv\n",
    "from collections import defaultdict"
   ]
  },
  {
   "cell_type": "markdown",
   "metadata": {},
   "source": [
    "## Configuration "
   ]
  },
  {
   "cell_type": "code",
   "execution_count": 3,
   "metadata": {},
   "outputs": [
    {
     "data": {
      "text/html": [
       "<div>\n",
       "<style scoped>\n",
       "    .dataframe tbody tr th:only-of-type {\n",
       "        vertical-align: middle;\n",
       "    }\n",
       "\n",
       "    .dataframe tbody tr th {\n",
       "        vertical-align: top;\n",
       "    }\n",
       "\n",
       "    .dataframe thead th {\n",
       "        text-align: right;\n",
       "    }\n",
       "</style>\n",
       "<table border=\"1\" class=\"dataframe\">\n",
       "  <thead>\n",
       "    <tr style=\"text-align: right;\">\n",
       "      <th></th>\n",
       "      <th>_id</th>\n",
       "      <th>_index_map</th>\n",
       "      <th>formid</th>\n",
       "      <th>answers.height</th>\n",
       "      <th>answers.bloodtype</th>\n",
       "      <th>answers.identification.number.code</th>\n",
       "      <th>answers.identification.type</th>\n",
       "      <th>answers.identification.number.pin</th>\n",
       "      <th>answers.income</th>\n",
       "      <th>answers.bp1_systolic</th>\n",
       "    </tr>\n",
       "  </thead>\n",
       "  <tbody>\n",
       "    <tr>\n",
       "      <th>0</th>\n",
       "      <td>aQMjmsDcwMbPs5NyhqQPUZ</td>\n",
       "      <td>NaN</td>\n",
       "      <td>aQMjmsDcwMbPs5NyhqQPUZ</td>\n",
       "      <td>16</td>\n",
       "      <td>A</td>\n",
       "      <td>1033.2</td>\n",
       "      <td>SSS</td>\n",
       "      <td>201</td>\n",
       "      <td>60.0</td>\n",
       "      <td>120</td>\n",
       "    </tr>\n",
       "    <tr>\n",
       "      <th>1</th>\n",
       "      <td>DexsDsw39ss5NyhqQPUP</td>\n",
       "      <td>NaN</td>\n",
       "      <td>DexsDsw39ss5NyhqQPUP</td>\n",
       "      <td>23</td>\n",
       "      <td>B</td>\n",
       "      <td>2033.2</td>\n",
       "      <td>SSS</td>\n",
       "      <td>333</td>\n",
       "      <td>80.0</td>\n",
       "      <td>201</td>\n",
       "    </tr>\n",
       "    <tr>\n",
       "      <th>2</th>\n",
       "      <td>aQMjmsDcwMbPs5NyhqQPUZ</td>\n",
       "      <td>NaN</td>\n",
       "      <td>aQMjmsDcwMbPs5NyhqQPUZ</td>\n",
       "      <td>16</td>\n",
       "      <td>A</td>\n",
       "      <td>1033.2</td>\n",
       "      <td>SSS</td>\n",
       "      <td>201</td>\n",
       "      <td>60.0</td>\n",
       "      <td>120</td>\n",
       "    </tr>\n",
       "  </tbody>\n",
       "</table>\n",
       "</div>"
      ],
      "text/plain": [
       "                      _id  _index_map                  formid  answers.height  \\\n",
       "0  aQMjmsDcwMbPs5NyhqQPUZ         NaN  aQMjmsDcwMbPs5NyhqQPUZ              16   \n",
       "1    DexsDsw39ss5NyhqQPUP         NaN    DexsDsw39ss5NyhqQPUP              23   \n",
       "2  aQMjmsDcwMbPs5NyhqQPUZ         NaN  aQMjmsDcwMbPs5NyhqQPUZ              16   \n",
       "\n",
       "  answers.bloodtype  answers.identification.number.code  \\\n",
       "0                 A                              1033.2   \n",
       "1                 B                              2033.2   \n",
       "2                 A                              1033.2   \n",
       "\n",
       "  answers.identification.type  answers.identification.number.pin  \\\n",
       "0                         SSS                                201   \n",
       "1                         SSS                                333   \n",
       "2                         SSS                                201   \n",
       "\n",
       "   answers.income  answers.bp1_systolic  \n",
       "0            60.0                   120  \n",
       "1            80.0                   201  \n",
       "2            60.0                   120  "
      ]
     },
     "execution_count": 3,
     "metadata": {},
     "output_type": "execute_result"
    }
   ],
   "source": [
    "hi_df = pd.DataFrame()\n",
    "hi_df = pd.read_csv( 'file/sample_output/healthinformation.csv') \n",
    "#data_df = data_df.to_dict(orient='records')\n",
    "hi_df"
   ]
  },
  {
   "cell_type": "code",
   "execution_count": 4,
   "metadata": {},
   "outputs": [],
   "source": [
    "def set_for_keys(my_dict, key_arr, val):\n",
    "\n",
    "    current = my_dict\n",
    "    for i in range(len(key_arr)):\n",
    "        key = key_arr[i]\n",
    "        if key not in current:\n",
    "            if i==len(key_arr)-1:\n",
    "                current[key] = val\n",
    "            else:\n",
    "                current[key] = {}\n",
    "        else:\n",
    "            if type(current[key]) is not dict:\n",
    "                print(\"not compatible with key structure requested\")\n",
    "                raise ValueError(\"Dictionary key already occupied\")\n",
    "\n",
    "        current = current[key]\n",
    "\n",
    "    return my_dict\n",
    "\n",
    "def to_formatted_json(df, sep=\".\"):\n",
    "    result = []\n",
    "    for _, row in df.iterrows():\n",
    "        parsed_row = {}\n",
    "        for idx, val in row.iteritems():\n",
    "            keys = idx.split(sep)\n",
    "            \n",
    "            parsed_row = set_for_keys(parsed_row, keys, val)\n",
    "        result.append(parsed_row)\n",
    "\n",
    "    \n",
    "    return result\n",
    "\n",
    "def to_formatted_json_test(df, sep=\".\"):\n",
    "    result = []\n",
    "    for _, row in df.iterrows():\n",
    "        parsed_row = {}\n",
    "        for idx, val in row.iteritems():\n",
    "            keys = idx.split(sep)\n",
    "            \n",
    "            parsed_row = set_for_keys(parsed_row, keys, val)\n",
    "            \n",
    "            print('keys: ' , keys)\n",
    "            print('values: ' , val)\n",
    "            print('idx: ' , idx)\n",
    "            print('----------')\n",
    "            #print('parse_row: ',parsed_row)\n",
    "        print(parsed_row)\n",
    "        print('-----parsed_row-----')\n",
    "        result.append(parsed_row)\n",
    "        \n",
    "    \n",
    "    return result\n",
    "\n",
    "#Where df was parsed from json-dict using json_normalize"
   ]
  },
  {
   "cell_type": "code",
   "execution_count": 5,
   "metadata": {},
   "outputs": [],
   "source": [
    "#hi_df = to_formatted_json(data_df, sep=\".\")\n",
    "#hi_df"
   ]
  },
  {
   "cell_type": "markdown",
   "metadata": {},
   "source": [
    "## File loader"
   ]
  },
  {
   "cell_type": "code",
   "execution_count": 6,
   "metadata": {},
   "outputs": [
    {
     "data": {
      "text/html": [
       "<div>\n",
       "<style scoped>\n",
       "    .dataframe tbody tr th:only-of-type {\n",
       "        vertical-align: middle;\n",
       "    }\n",
       "\n",
       "    .dataframe tbody tr th {\n",
       "        vertical-align: top;\n",
       "    }\n",
       "\n",
       "    .dataframe thead th {\n",
       "        text-align: right;\n",
       "    }\n",
       "</style>\n",
       "<table border=\"1\" class=\"dataframe\">\n",
       "  <thead>\n",
       "    <tr style=\"text-align: right;\">\n",
       "      <th></th>\n",
       "      <th>_id</th>\n",
       "      <th>_index_map</th>\n",
       "      <th>answers.familydiseasehistory</th>\n",
       "    </tr>\n",
       "  </thead>\n",
       "  <tbody>\n",
       "    <tr>\n",
       "      <th>3</th>\n",
       "      <td>DexsDsw39ss5NyhqQPUP</td>\n",
       "      <td>0</td>\n",
       "      <td>Head Cancer</td>\n",
       "    </tr>\n",
       "    <tr>\n",
       "      <th>4</th>\n",
       "      <td>DexsDsw39ss5NyhqQPUP</td>\n",
       "      <td>1</td>\n",
       "      <td>Stomach Cancer</td>\n",
       "    </tr>\n",
       "    <tr>\n",
       "      <th>0</th>\n",
       "      <td>aQMjmsDcwMbPs5NyhqQPUZ</td>\n",
       "      <td>0</td>\n",
       "      <td>Respiratory ,disease</td>\n",
       "    </tr>\n",
       "    <tr>\n",
       "      <th>5</th>\n",
       "      <td>aQMjmsDcwMbPs5NyhqQPUZ</td>\n",
       "      <td>0</td>\n",
       "      <td>Respiratory ,disease</td>\n",
       "    </tr>\n",
       "    <tr>\n",
       "      <th>1</th>\n",
       "      <td>aQMjmsDcwMbPs5NyhqQPUZ</td>\n",
       "      <td>1</td>\n",
       "      <td>Brain Cancer</td>\n",
       "    </tr>\n",
       "    <tr>\n",
       "      <th>6</th>\n",
       "      <td>aQMjmsDcwMbPs5NyhqQPUZ</td>\n",
       "      <td>1</td>\n",
       "      <td>Brain Cancer</td>\n",
       "    </tr>\n",
       "    <tr>\n",
       "      <th>2</th>\n",
       "      <td>aQMjmsDcwMbPs5NyhqQPUZ</td>\n",
       "      <td>2</td>\n",
       "      <td>Stomach Cancer</td>\n",
       "    </tr>\n",
       "    <tr>\n",
       "      <th>7</th>\n",
       "      <td>aQMjmsDcwMbPs5NyhqQPUZ</td>\n",
       "      <td>2</td>\n",
       "      <td>Stomach Cancer</td>\n",
       "    </tr>\n",
       "  </tbody>\n",
       "</table>\n",
       "</div>"
      ],
      "text/plain": [
       "                      _id  _index_map answers.familydiseasehistory\n",
       "3    DexsDsw39ss5NyhqQPUP           0                  Head Cancer\n",
       "4    DexsDsw39ss5NyhqQPUP           1               Stomach Cancer\n",
       "0  aQMjmsDcwMbPs5NyhqQPUZ           0         Respiratory ,disease\n",
       "5  aQMjmsDcwMbPs5NyhqQPUZ           0         Respiratory ,disease\n",
       "1  aQMjmsDcwMbPs5NyhqQPUZ           1                 Brain Cancer\n",
       "6  aQMjmsDcwMbPs5NyhqQPUZ           1                 Brain Cancer\n",
       "2  aQMjmsDcwMbPs5NyhqQPUZ           2               Stomach Cancer\n",
       "7  aQMjmsDcwMbPs5NyhqQPUZ           2               Stomach Cancer"
      ]
     },
     "execution_count": 6,
     "metadata": {},
     "output_type": "execute_result"
    }
   ],
   "source": [
    "fdh_df  = pd.DataFrame()\n",
    "fdh_df  = pd.read_csv( 'file/sample_output/answers.familydiseasehistory.csv') \n",
    "#data_df = data_df.to_dict(orient='records')\n",
    "fdh_df = fdh_df.sort_values(['_id','_index_map'])\n",
    "fdh_df"
   ]
  },
  {
   "cell_type": "markdown",
   "metadata": {},
   "source": [
    "## GROUP BY IF FILE IS ALL ARRAY"
   ]
  },
  {
   "cell_type": "code",
   "execution_count": 7,
   "metadata": {},
   "outputs": [
    {
     "data": {
      "text/html": [
       "<div>\n",
       "<style scoped>\n",
       "    .dataframe tbody tr th:only-of-type {\n",
       "        vertical-align: middle;\n",
       "    }\n",
       "\n",
       "    .dataframe tbody tr th {\n",
       "        vertical-align: top;\n",
       "    }\n",
       "\n",
       "    .dataframe thead th {\n",
       "        text-align: right;\n",
       "    }\n",
       "</style>\n",
       "<table border=\"1\" class=\"dataframe\">\n",
       "  <thead>\n",
       "    <tr style=\"text-align: right;\">\n",
       "      <th></th>\n",
       "      <th>_id</th>\n",
       "      <th>_index_map</th>\n",
       "      <th>answers.familydiseasehistory</th>\n",
       "    </tr>\n",
       "  </thead>\n",
       "  <tbody>\n",
       "    <tr>\n",
       "      <th>0</th>\n",
       "      <td>DexsDsw39ss5NyhqQPUP</td>\n",
       "      <td>[0, 1]</td>\n",
       "      <td>[Head Cancer, Stomach Cancer]</td>\n",
       "    </tr>\n",
       "    <tr>\n",
       "      <th>1</th>\n",
       "      <td>aQMjmsDcwMbPs5NyhqQPUZ</td>\n",
       "      <td>[0, 0, 1, 1, 2, 2]</td>\n",
       "      <td>[Respiratory ,disease, Respiratory ,disease, B...</td>\n",
       "    </tr>\n",
       "  </tbody>\n",
       "</table>\n",
       "</div>"
      ],
      "text/plain": [
       "                      _id          _index_map  \\\n",
       "0    DexsDsw39ss5NyhqQPUP              [0, 1]   \n",
       "1  aQMjmsDcwMbPs5NyhqQPUZ  [0, 0, 1, 1, 2, 2]   \n",
       "\n",
       "                        answers.familydiseasehistory  \n",
       "0                      [Head Cancer, Stomach Cancer]  \n",
       "1  [Respiratory ,disease, Respiratory ,disease, B...  "
      ]
     },
     "execution_count": 7,
     "metadata": {},
     "output_type": "execute_result"
    }
   ],
   "source": [
    "fdh_df = fdh_df.groupby('_id').agg(lambda x: x.tolist())\n",
    "fdh_df = fdh_df.reset_index()\n",
    "fdh_df"
   ]
  },
  {
   "cell_type": "code",
   "execution_count": 8,
   "metadata": {},
   "outputs": [
    {
     "data": {
      "text/html": [
       "<div>\n",
       "<style scoped>\n",
       "    .dataframe tbody tr th:only-of-type {\n",
       "        vertical-align: middle;\n",
       "    }\n",
       "\n",
       "    .dataframe tbody tr th {\n",
       "        vertical-align: top;\n",
       "    }\n",
       "\n",
       "    .dataframe thead th {\n",
       "        text-align: right;\n",
       "    }\n",
       "</style>\n",
       "<table border=\"1\" class=\"dataframe\">\n",
       "  <thead>\n",
       "    <tr style=\"text-align: right;\">\n",
       "      <th></th>\n",
       "      <th>_id</th>\n",
       "      <th>answers.familydiseasehistory</th>\n",
       "    </tr>\n",
       "  </thead>\n",
       "  <tbody>\n",
       "    <tr>\n",
       "      <th>0</th>\n",
       "      <td>DexsDsw39ss5NyhqQPUP</td>\n",
       "      <td>[Head Cancer, Stomach Cancer]</td>\n",
       "    </tr>\n",
       "    <tr>\n",
       "      <th>1</th>\n",
       "      <td>aQMjmsDcwMbPs5NyhqQPUZ</td>\n",
       "      <td>[Respiratory ,disease, Respiratory ,disease, B...</td>\n",
       "    </tr>\n",
       "  </tbody>\n",
       "</table>\n",
       "</div>"
      ],
      "text/plain": [
       "                      _id                       answers.familydiseasehistory\n",
       "0    DexsDsw39ss5NyhqQPUP                      [Head Cancer, Stomach Cancer]\n",
       "1  aQMjmsDcwMbPs5NyhqQPUZ  [Respiratory ,disease, Respiratory ,disease, B..."
      ]
     },
     "execution_count": 8,
     "metadata": {},
     "output_type": "execute_result"
    }
   ],
   "source": [
    "fdh_df = fdh_df.drop(['_index_map'], axis=1)\n",
    "fdh_df"
   ]
  },
  {
   "cell_type": "code",
   "execution_count": 9,
   "metadata": {},
   "outputs": [
    {
     "data": {
      "text/html": [
       "<div>\n",
       "<style scoped>\n",
       "    .dataframe tbody tr th:only-of-type {\n",
       "        vertical-align: middle;\n",
       "    }\n",
       "\n",
       "    .dataframe tbody tr th {\n",
       "        vertical-align: top;\n",
       "    }\n",
       "\n",
       "    .dataframe thead th {\n",
       "        text-align: right;\n",
       "    }\n",
       "</style>\n",
       "<table border=\"1\" class=\"dataframe\">\n",
       "  <thead>\n",
       "    <tr style=\"text-align: right;\">\n",
       "      <th></th>\n",
       "      <th>formid</th>\n",
       "      <th>answers.height</th>\n",
       "      <th>answers.bloodtype</th>\n",
       "      <th>answers.identification.number.code</th>\n",
       "      <th>answers.identification.type</th>\n",
       "      <th>answers.identification.number.pin</th>\n",
       "      <th>answers.income</th>\n",
       "      <th>answers.bp1_systolic</th>\n",
       "      <th>answers.familydiseasehistory</th>\n",
       "    </tr>\n",
       "  </thead>\n",
       "  <tbody>\n",
       "    <tr>\n",
       "      <th>0</th>\n",
       "      <td>aQMjmsDcwMbPs5NyhqQPUZ</td>\n",
       "      <td>16</td>\n",
       "      <td>A</td>\n",
       "      <td>1033.2</td>\n",
       "      <td>SSS</td>\n",
       "      <td>201</td>\n",
       "      <td>60.0</td>\n",
       "      <td>120</td>\n",
       "      <td>[Respiratory ,disease, Respiratory ,disease, B...</td>\n",
       "    </tr>\n",
       "    <tr>\n",
       "      <th>1</th>\n",
       "      <td>DexsDsw39ss5NyhqQPUP</td>\n",
       "      <td>23</td>\n",
       "      <td>B</td>\n",
       "      <td>2033.2</td>\n",
       "      <td>SSS</td>\n",
       "      <td>333</td>\n",
       "      <td>80.0</td>\n",
       "      <td>201</td>\n",
       "      <td>[Head Cancer, Stomach Cancer]</td>\n",
       "    </tr>\n",
       "    <tr>\n",
       "      <th>2</th>\n",
       "      <td>aQMjmsDcwMbPs5NyhqQPUZ</td>\n",
       "      <td>16</td>\n",
       "      <td>A</td>\n",
       "      <td>1033.2</td>\n",
       "      <td>SSS</td>\n",
       "      <td>201</td>\n",
       "      <td>60.0</td>\n",
       "      <td>120</td>\n",
       "      <td>[Respiratory ,disease, Respiratory ,disease, B...</td>\n",
       "    </tr>\n",
       "  </tbody>\n",
       "</table>\n",
       "</div>"
      ],
      "text/plain": [
       "                   formid  answers.height answers.bloodtype  \\\n",
       "0  aQMjmsDcwMbPs5NyhqQPUZ              16                 A   \n",
       "1    DexsDsw39ss5NyhqQPUP              23                 B   \n",
       "2  aQMjmsDcwMbPs5NyhqQPUZ              16                 A   \n",
       "\n",
       "   answers.identification.number.code answers.identification.type  \\\n",
       "0                              1033.2                         SSS   \n",
       "1                              2033.2                         SSS   \n",
       "2                              1033.2                         SSS   \n",
       "\n",
       "   answers.identification.number.pin  answers.income  answers.bp1_systolic  \\\n",
       "0                                201            60.0                   120   \n",
       "1                                333            80.0                   201   \n",
       "2                                201            60.0                   120   \n",
       "\n",
       "                        answers.familydiseasehistory  \n",
       "0  [Respiratory ,disease, Respiratory ,disease, B...  \n",
       "1                      [Head Cancer, Stomach Cancer]  \n",
       "2  [Respiratory ,disease, Respiratory ,disease, B...  "
      ]
     },
     "execution_count": 9,
     "metadata": {},
     "output_type": "execute_result"
    }
   ],
   "source": [
    "merge_join = pd.merge(hi_df,fdh_df, left_on='_id', right_on='_id', how='left')\n",
    "merge_join = merge_join.drop(['_id'], axis=1).drop(['_index_map'], axis=1).replace(np.nan,'')\n",
    "merge_join\n"
   ]
  },
  {
   "cell_type": "code",
   "execution_count": null,
   "metadata": {},
   "outputs": [],
   "source": []
  },
  {
   "cell_type": "markdown",
   "metadata": {},
   "source": [
    "## JOIN SHOULD BE IN THE PERSISTENT DATABASE ALREADY"
   ]
  },
  {
   "cell_type": "code",
   "execution_count": 10,
   "metadata": {},
   "outputs": [
    {
     "data": {
      "text/html": [
       "<div>\n",
       "<style scoped>\n",
       "    .dataframe tbody tr th:only-of-type {\n",
       "        vertical-align: middle;\n",
       "    }\n",
       "\n",
       "    .dataframe tbody tr th {\n",
       "        vertical-align: top;\n",
       "    }\n",
       "\n",
       "    .dataframe thead th {\n",
       "        text-align: right;\n",
       "    }\n",
       "</style>\n",
       "<table border=\"1\" class=\"dataframe\">\n",
       "  <thead>\n",
       "    <tr style=\"text-align: right;\">\n",
       "      <th></th>\n",
       "      <th>_id</th>\n",
       "      <th>_index_map</th>\n",
       "      <th>answers.contactnumber.type</th>\n",
       "    </tr>\n",
       "  </thead>\n",
       "  <tbody>\n",
       "    <tr>\n",
       "      <th>0</th>\n",
       "      <td>aQMjmsDcwMbPs5NyhqQPUZ</td>\n",
       "      <td>0</td>\n",
       "      <td>Landline</td>\n",
       "    </tr>\n",
       "    <tr>\n",
       "      <th>1</th>\n",
       "      <td>aQMjmsDcwMbPs5NyhqQPUZ</td>\n",
       "      <td>1</td>\n",
       "      <td>Mobile</td>\n",
       "    </tr>\n",
       "    <tr>\n",
       "      <th>2</th>\n",
       "      <td>DexsDsw39ss5NyhqQPUP</td>\n",
       "      <td>0</td>\n",
       "      <td>Landline</td>\n",
       "    </tr>\n",
       "    <tr>\n",
       "      <th>3</th>\n",
       "      <td>DexsDsw39ss5NyhqQPUP</td>\n",
       "      <td>1</td>\n",
       "      <td>Mobile</td>\n",
       "    </tr>\n",
       "    <tr>\n",
       "      <th>4</th>\n",
       "      <td>aQMjmsDcwMbPs5NyhqQPUZ</td>\n",
       "      <td>0</td>\n",
       "      <td>Landline</td>\n",
       "    </tr>\n",
       "    <tr>\n",
       "      <th>5</th>\n",
       "      <td>aQMjmsDcwMbPs5NyhqQPUZ</td>\n",
       "      <td>1</td>\n",
       "      <td>Mobile</td>\n",
       "    </tr>\n",
       "  </tbody>\n",
       "</table>\n",
       "</div>"
      ],
      "text/plain": [
       "                      _id  _index_map answers.contactnumber.type\n",
       "0  aQMjmsDcwMbPs5NyhqQPUZ           0                   Landline\n",
       "1  aQMjmsDcwMbPs5NyhqQPUZ           1                     Mobile\n",
       "2    DexsDsw39ss5NyhqQPUP           0                   Landline\n",
       "3    DexsDsw39ss5NyhqQPUP           1                     Mobile\n",
       "4  aQMjmsDcwMbPs5NyhqQPUZ           0                   Landline\n",
       "5  aQMjmsDcwMbPs5NyhqQPUZ           1                     Mobile"
      ]
     },
     "execution_count": 10,
     "metadata": {},
     "output_type": "execute_result"
    }
   ],
   "source": [
    "add_df  = pd.DataFrame()\n",
    "add_df  = pd.read_csv( 'file/sample_output/answers.contactnumber.csv') \n",
    "#add_df = add_df.sort_values(['_id','_index_map'])\n",
    "add_df"
   ]
  },
  {
   "cell_type": "code",
   "execution_count": 11,
   "metadata": {},
   "outputs": [
    {
     "data": {
      "text/html": [
       "<div>\n",
       "<style scoped>\n",
       "    .dataframe tbody tr th:only-of-type {\n",
       "        vertical-align: middle;\n",
       "    }\n",
       "\n",
       "    .dataframe tbody tr th {\n",
       "        vertical-align: top;\n",
       "    }\n",
       "\n",
       "    .dataframe thead th {\n",
       "        text-align: right;\n",
       "    }\n",
       "</style>\n",
       "<table border=\"1\" class=\"dataframe\">\n",
       "  <thead>\n",
       "    <tr style=\"text-align: right;\">\n",
       "      <th></th>\n",
       "      <th>_id</th>\n",
       "      <th>_index_map</th>\n",
       "      <th>answers.contactnumber.ext.number</th>\n",
       "      <th>answers.contactnumber.ext.trunkline</th>\n",
       "    </tr>\n",
       "  </thead>\n",
       "  <tbody>\n",
       "    <tr>\n",
       "      <th>3</th>\n",
       "      <td>DexsDsw39ss5NyhqQPUP</td>\n",
       "      <td>0.0</td>\n",
       "      <td>9</td>\n",
       "      <td>Reception</td>\n",
       "    </tr>\n",
       "    <tr>\n",
       "      <th>4</th>\n",
       "      <td>DexsDsw39ss5NyhqQPUP</td>\n",
       "      <td>0.1</td>\n",
       "      <td>5</td>\n",
       "      <td>Operator</td>\n",
       "    </tr>\n",
       "    <tr>\n",
       "      <th>5</th>\n",
       "      <td>DexsDsw39ss5NyhqQPUP</td>\n",
       "      <td>1.0</td>\n",
       "      <td>23</td>\n",
       "      <td>Mobile Trunkline</td>\n",
       "    </tr>\n",
       "    <tr>\n",
       "      <th>0</th>\n",
       "      <td>aQMjmsDcwMbPs5NyhqQPUZ</td>\n",
       "      <td>0.0</td>\n",
       "      <td>2</td>\n",
       "      <td>Reception</td>\n",
       "    </tr>\n",
       "    <tr>\n",
       "      <th>6</th>\n",
       "      <td>aQMjmsDcwMbPs5NyhqQPUZ</td>\n",
       "      <td>0.0</td>\n",
       "      <td>2</td>\n",
       "      <td>Reception</td>\n",
       "    </tr>\n",
       "    <tr>\n",
       "      <th>1</th>\n",
       "      <td>aQMjmsDcwMbPs5NyhqQPUZ</td>\n",
       "      <td>1.0</td>\n",
       "      <td>2</td>\n",
       "      <td>Mobile Trunkline</td>\n",
       "    </tr>\n",
       "    <tr>\n",
       "      <th>7</th>\n",
       "      <td>aQMjmsDcwMbPs5NyhqQPUZ</td>\n",
       "      <td>1.0</td>\n",
       "      <td>2</td>\n",
       "      <td>Mobile Trunkline</td>\n",
       "    </tr>\n",
       "    <tr>\n",
       "      <th>2</th>\n",
       "      <td>aQMjmsDcwMbPs5NyhqQPUZ</td>\n",
       "      <td>1.1</td>\n",
       "      <td>3</td>\n",
       "      <td>Operator</td>\n",
       "    </tr>\n",
       "    <tr>\n",
       "      <th>8</th>\n",
       "      <td>aQMjmsDcwMbPs5NyhqQPUZ</td>\n",
       "      <td>1.1</td>\n",
       "      <td>3</td>\n",
       "      <td>Operator</td>\n",
       "    </tr>\n",
       "  </tbody>\n",
       "</table>\n",
       "</div>"
      ],
      "text/plain": [
       "                      _id  _index_map  answers.contactnumber.ext.number  \\\n",
       "3    DexsDsw39ss5NyhqQPUP         0.0                                 9   \n",
       "4    DexsDsw39ss5NyhqQPUP         0.1                                 5   \n",
       "5    DexsDsw39ss5NyhqQPUP         1.0                                23   \n",
       "0  aQMjmsDcwMbPs5NyhqQPUZ         0.0                                 2   \n",
       "6  aQMjmsDcwMbPs5NyhqQPUZ         0.0                                 2   \n",
       "1  aQMjmsDcwMbPs5NyhqQPUZ         1.0                                 2   \n",
       "7  aQMjmsDcwMbPs5NyhqQPUZ         1.0                                 2   \n",
       "2  aQMjmsDcwMbPs5NyhqQPUZ         1.1                                 3   \n",
       "8  aQMjmsDcwMbPs5NyhqQPUZ         1.1                                 3   \n",
       "\n",
       "  answers.contactnumber.ext.trunkline  \n",
       "3                           Reception  \n",
       "4                            Operator  \n",
       "5                    Mobile Trunkline  \n",
       "0                           Reception  \n",
       "6                           Reception  \n",
       "1                    Mobile Trunkline  \n",
       "7                    Mobile Trunkline  \n",
       "2                            Operator  \n",
       "8                            Operator  "
      ]
     },
     "execution_count": 11,
     "metadata": {},
     "output_type": "execute_result"
    }
   ],
   "source": [
    "add_street_df  = pd.DataFrame()\n",
    "add_street_df = pd.read_csv( 'file/sample_output/answers.contactnumber.ext.csv') \n",
    "add_street_df = add_street_df.sort_values(['_id','_index_map'])\n",
    "#add_street_df = add_street_df.drop(['_id'], axis=1).drop(['_index_map'], axis=1).replace(np.nan,'')\n",
    "#add_street_df = add_street_df.drop(['_index_map'], axis=1).replace(np.nan,'')\n",
    "add_street_df "
   ]
  },
  {
   "cell_type": "markdown",
   "metadata": {},
   "source": [
    "## Convert object into array of object"
   ]
  },
  {
   "cell_type": "code",
   "execution_count": 12,
   "metadata": {},
   "outputs": [
    {
     "data": {
      "text/plain": [
       "[{'_id': 'DexsDsw39ss5NyhqQPUP',\n",
       "  '_index_map': 0.0,\n",
       "  'answers': {'contactnumber': {'ext': {'number': 9,\n",
       "     'trunkline': 'Reception'}}}},\n",
       " {'_id': 'DexsDsw39ss5NyhqQPUP',\n",
       "  '_index_map': 0.1,\n",
       "  'answers': {'contactnumber': {'ext': {'number': 5,\n",
       "     'trunkline': 'Operator'}}}},\n",
       " {'_id': 'DexsDsw39ss5NyhqQPUP',\n",
       "  '_index_map': 1.0,\n",
       "  'answers': {'contactnumber': {'ext': {'number': 23,\n",
       "     'trunkline': 'Mobile Trunkline'}}}},\n",
       " {'_id': 'aQMjmsDcwMbPs5NyhqQPUZ',\n",
       "  '_index_map': 0.0,\n",
       "  'answers': {'contactnumber': {'ext': {'number': 2,\n",
       "     'trunkline': 'Reception'}}}},\n",
       " {'_id': 'aQMjmsDcwMbPs5NyhqQPUZ',\n",
       "  '_index_map': 0.0,\n",
       "  'answers': {'contactnumber': {'ext': {'number': 2,\n",
       "     'trunkline': 'Reception'}}}},\n",
       " {'_id': 'aQMjmsDcwMbPs5NyhqQPUZ',\n",
       "  '_index_map': 1.0,\n",
       "  'answers': {'contactnumber': {'ext': {'number': 2,\n",
       "     'trunkline': 'Mobile Trunkline'}}}},\n",
       " {'_id': 'aQMjmsDcwMbPs5NyhqQPUZ',\n",
       "  '_index_map': 1.0,\n",
       "  'answers': {'contactnumber': {'ext': {'number': 2,\n",
       "     'trunkline': 'Mobile Trunkline'}}}},\n",
       " {'_id': 'aQMjmsDcwMbPs5NyhqQPUZ',\n",
       "  '_index_map': 1.1,\n",
       "  'answers': {'contactnumber': {'ext': {'number': 3,\n",
       "     'trunkline': 'Operator'}}}},\n",
       " {'_id': 'aQMjmsDcwMbPs5NyhqQPUZ',\n",
       "  '_index_map': 1.1,\n",
       "  'answers': {'contactnumber': {'ext': {'number': 3,\n",
       "     'trunkline': 'Operator'}}}}]"
      ]
     },
     "execution_count": 12,
     "metadata": {},
     "output_type": "execute_result"
    }
   ],
   "source": [
    "format_json = to_formatted_json(add_street_df, sep=\".\")\n",
    "format_json"
   ]
  },
  {
   "cell_type": "code",
   "execution_count": 13,
   "metadata": {},
   "outputs": [],
   "source": [
    "result = [\n",
    "    {\n",
    "        \"standard\": \"119\",\n",
    "        \"score\": \"0\",\n",
    "        \"type\": \"assignment\",\n",
    "        \"student\": \"4\"\n",
    "    },\n",
    "    {\n",
    "        \"standard\": \"119\",\n",
    "        \"score\": \"0\",\n",
    "        \"type\": \"assignment\",\n",
    "        \"student\": \"5\"\n",
    "    },\n",
    "    {\n",
    "        \"standard\": \"118\",\n",
    "        \"score\": \"0\",\n",
    "        \"type\": \"assessment\",\n",
    "        \"student\": \"4\"\n",
    "    }\n",
    "]"
   ]
  },
  {
   "cell_type": "code",
   "execution_count": 14,
   "metadata": {},
   "outputs": [],
   "source": [
    "def conf_to_nested_dict(keys, result):\n",
    "    R = {}\n",
    "    for record in result: \n",
    "        node = R\n",
    "        for key in keys[:-1]:\n",
    "            kv = record[key]\n",
    "            next_node = node.get(kv, {})\n",
    "            node[kv] = next_node\n",
    "            node = next_node\n",
    "        last_node = node.get(record[keys[-1]], [])\n",
    "        last_node.append(record)\n",
    "        node[record[keys[-1]]] = last_node\n",
    "\n",
    "\n",
    "    return R"
   ]
  },
  {
   "cell_type": "code",
   "execution_count": 15,
   "metadata": {},
   "outputs": [
    {
     "data": {
      "text/plain": [
       "{'119': {'assignment': [{'standard': '119',\n",
       "    'score': '0',\n",
       "    'type': 'assignment',\n",
       "    'student': '4'},\n",
       "   {'standard': '119', 'score': '0', 'type': 'assignment', 'student': '5'}]},\n",
       " '118': {'assessment': [{'standard': '118',\n",
       "    'score': '0',\n",
       "    'type': 'assessment',\n",
       "    'student': '4'}]}}"
      ]
     },
     "execution_count": 15,
     "metadata": {},
     "output_type": "execute_result"
    }
   ],
   "source": [
    "shit = conf_to_nested_dict(['standard','type'],result)\n",
    "shit"
   ]
  },
  {
   "cell_type": "code",
   "execution_count": 16,
   "metadata": {},
   "outputs": [
    {
     "data": {
      "text/html": [
       "<div>\n",
       "<style scoped>\n",
       "    .dataframe tbody tr th:only-of-type {\n",
       "        vertical-align: middle;\n",
       "    }\n",
       "\n",
       "    .dataframe tbody tr th {\n",
       "        vertical-align: top;\n",
       "    }\n",
       "\n",
       "    .dataframe thead th {\n",
       "        text-align: right;\n",
       "    }\n",
       "</style>\n",
       "<table border=\"1\" class=\"dataframe\">\n",
       "  <thead>\n",
       "    <tr style=\"text-align: right;\">\n",
       "      <th></th>\n",
       "      <th>_id</th>\n",
       "      <th>_index_map</th>\n",
       "      <th>answers.contactnumber.ext.number</th>\n",
       "      <th>answers.contactnumber.ext.trunkline</th>\n",
       "    </tr>\n",
       "  </thead>\n",
       "  <tbody>\n",
       "    <tr>\n",
       "      <th>0</th>\n",
       "      <td>DexsDsw39ss5NyhqQPUP</td>\n",
       "      <td>0.0</td>\n",
       "      <td>9</td>\n",
       "      <td>Reception</td>\n",
       "    </tr>\n",
       "    <tr>\n",
       "      <th>1</th>\n",
       "      <td>DexsDsw39ss5NyhqQPUP</td>\n",
       "      <td>0.1</td>\n",
       "      <td>5</td>\n",
       "      <td>Operator</td>\n",
       "    </tr>\n",
       "    <tr>\n",
       "      <th>2</th>\n",
       "      <td>DexsDsw39ss5NyhqQPUP</td>\n",
       "      <td>1.0</td>\n",
       "      <td>23</td>\n",
       "      <td>Mobile Trunkline</td>\n",
       "    </tr>\n",
       "    <tr>\n",
       "      <th>3</th>\n",
       "      <td>aQMjmsDcwMbPs5NyhqQPUZ</td>\n",
       "      <td>0.0</td>\n",
       "      <td>2</td>\n",
       "      <td>Reception</td>\n",
       "    </tr>\n",
       "    <tr>\n",
       "      <th>4</th>\n",
       "      <td>aQMjmsDcwMbPs5NyhqQPUZ</td>\n",
       "      <td>0.0</td>\n",
       "      <td>2</td>\n",
       "      <td>Reception</td>\n",
       "    </tr>\n",
       "    <tr>\n",
       "      <th>5</th>\n",
       "      <td>aQMjmsDcwMbPs5NyhqQPUZ</td>\n",
       "      <td>1.0</td>\n",
       "      <td>2</td>\n",
       "      <td>Mobile Trunkline</td>\n",
       "    </tr>\n",
       "    <tr>\n",
       "      <th>6</th>\n",
       "      <td>aQMjmsDcwMbPs5NyhqQPUZ</td>\n",
       "      <td>1.0</td>\n",
       "      <td>2</td>\n",
       "      <td>Mobile Trunkline</td>\n",
       "    </tr>\n",
       "    <tr>\n",
       "      <th>7</th>\n",
       "      <td>aQMjmsDcwMbPs5NyhqQPUZ</td>\n",
       "      <td>1.1</td>\n",
       "      <td>3</td>\n",
       "      <td>Operator</td>\n",
       "    </tr>\n",
       "    <tr>\n",
       "      <th>8</th>\n",
       "      <td>aQMjmsDcwMbPs5NyhqQPUZ</td>\n",
       "      <td>1.1</td>\n",
       "      <td>3</td>\n",
       "      <td>Operator</td>\n",
       "    </tr>\n",
       "  </tbody>\n",
       "</table>\n",
       "</div>"
      ],
      "text/plain": [
       "                      _id  _index_map  answers.contactnumber.ext.number  \\\n",
       "0    DexsDsw39ss5NyhqQPUP         0.0                                 9   \n",
       "1    DexsDsw39ss5NyhqQPUP         0.1                                 5   \n",
       "2    DexsDsw39ss5NyhqQPUP         1.0                                23   \n",
       "3  aQMjmsDcwMbPs5NyhqQPUZ         0.0                                 2   \n",
       "4  aQMjmsDcwMbPs5NyhqQPUZ         0.0                                 2   \n",
       "5  aQMjmsDcwMbPs5NyhqQPUZ         1.0                                 2   \n",
       "6  aQMjmsDcwMbPs5NyhqQPUZ         1.0                                 2   \n",
       "7  aQMjmsDcwMbPs5NyhqQPUZ         1.1                                 3   \n",
       "8  aQMjmsDcwMbPs5NyhqQPUZ         1.1                                 3   \n",
       "\n",
       "  answers.contactnumber.ext.trunkline  \n",
       "0                           Reception  \n",
       "1                            Operator  \n",
       "2                    Mobile Trunkline  \n",
       "3                           Reception  \n",
       "4                           Reception  \n",
       "5                    Mobile Trunkline  \n",
       "6                    Mobile Trunkline  \n",
       "7                            Operator  \n",
       "8                            Operator  "
      ]
     },
     "execution_count": 16,
     "metadata": {},
     "output_type": "execute_result"
    }
   ],
   "source": [
    "add_street_df  = pd.DataFrame()\n",
    "add_street_df = pd.read_csv( 'file/sample_output/answers.contactnumber.ext.csv') \n",
    "add_street_df = add_street_df.sort_values(['_id','_index_map']).reset_index(drop=True)\n",
    "add_street_df"
   ]
  },
  {
   "cell_type": "code",
   "execution_count": 17,
   "metadata": {},
   "outputs": [],
   "source": [
    "src = \"answers.contactnumber/0.ext/0.number:1\""
   ]
  },
  {
   "cell_type": "code",
   "execution_count": 18,
   "metadata": {},
   "outputs": [
    {
     "data": {
      "text/plain": [
       "{'number': 1, 'trunkline': 'Operation'}"
      ]
     },
     "execution_count": 18,
     "metadata": {},
     "output_type": "execute_result"
    }
   ],
   "source": [
    "w = {}\n",
    "w['number'] = 1\n",
    "w['trunkline'] = 'Operation'\n",
    "w"
   ]
  },
  {
   "cell_type": "code",
   "execution_count": 19,
   "metadata": {},
   "outputs": [
    {
     "data": {
      "text/plain": [
       "{'number': 2, 'trunkline': 'Mobile'}"
      ]
     },
     "execution_count": 19,
     "metadata": {},
     "output_type": "execute_result"
    }
   ],
   "source": [
    "z = {}\n",
    "z['number'] = 2\n",
    "z['trunkline'] = 'Mobile'\n",
    "z"
   ]
  },
  {
   "cell_type": "code",
   "execution_count": 20,
   "metadata": {},
   "outputs": [
    {
     "data": {
      "text/plain": [
       "{'ext': [{'number': 1, 'trunkline': 'Operation'},\n",
       "  {'number': 1, 'trunkline': 'Operation'}]}"
      ]
     },
     "execution_count": 20,
     "metadata": {},
     "output_type": "execute_result"
    }
   ],
   "source": [
    "d = {}\n",
    "\n",
    "d.setdefault('ext', [None]*2)\n",
    "\n",
    "d['ext'][0] = {}\n",
    "d['ext'][0].update(w)\n",
    "\n",
    "#d['ext'][0].update(y)\n",
    "d['ext'][1] = {}\n",
    "d['ext'][1].update(w)\n",
    "\n",
    "d"
   ]
  },
  {
   "cell_type": "code",
   "execution_count": null,
   "metadata": {},
   "outputs": [],
   "source": []
  },
  {
   "cell_type": "code",
   "execution_count": 21,
   "metadata": {},
   "outputs": [
    {
     "data": {
      "text/plain": [
       "{'ext': [{'number': 1, 'trunkline': 'Operation'},\n",
       "  {'number': 2, 'trunkline': 'Mobile'}]}"
      ]
     },
     "execution_count": 21,
     "metadata": {},
     "output_type": "execute_result"
    }
   ],
   "source": [
    "dz = {}\n",
    "dz.setdefault('ext', [])\n",
    "\n",
    "dz\n",
    "dz['ext'].append({})\n",
    "dz['ext'][0].update(w)\n",
    "\n",
    "dz['ext'].append({})\n",
    "dz['ext'][1].update(z)\n",
    "dz"
   ]
  },
  {
   "cell_type": "code",
   "execution_count": 22,
   "metadata": {},
   "outputs": [
    {
     "name": "stdout",
     "output_type": "stream",
     "text": [
      "answers\n",
      "0\n",
      "contactnumber/0\n",
      "1\n",
      "ext/0\n",
      "2\n",
      "number:1\n",
      "3\n"
     ]
    },
    {
     "data": {
      "text/plain": [
       "['number:1']"
      ]
     },
     "execution_count": 22,
     "metadata": {},
     "output_type": "execute_result"
    }
   ],
   "source": [
    "test = 'answers.contactnumber/0.ext/0.number:1'\n",
    "\n",
    "index = 0\n",
    "for keys in test.split('.'):\n",
    "    print(keys)\n",
    "    print(index)\n",
    "    index += 1\n",
    "\n",
    "test.split('.')[-1:]"
   ]
  },
  {
   "cell_type": "code",
   "execution_count": 23,
   "metadata": {},
   "outputs": [
    {
     "name": "stdout",
     "output_type": "stream",
     "text": [
      "INDEX::: 0\n",
      "---LIST-----\n",
      "{'contactnumber': [{'answers': {}}]}\n",
      "INDEX::: 0\n"
     ]
    },
    {
     "ename": "IndexError",
     "evalue": "list assignment index out of range",
     "output_type": "error",
     "traceback": [
      "\u001b[0;31m---------------------------------------------------------------------------\u001b[0m",
      "\u001b[0;31mIndexError\u001b[0m                                Traceback (most recent call last)",
      "\u001b[0;32m<ipython-input-23-6cb7241faa50>\u001b[0m in \u001b[0;36m<module>\u001b[0;34m()\u001b[0m\n\u001b[1;32m     33\u001b[0m \u001b[0;34m\u001b[0m\u001b[0m\n\u001b[1;32m     34\u001b[0m         \u001b[0mdz\u001b[0m\u001b[0;34m[\u001b[0m\u001b[0mnew_keyz\u001b[0m\u001b[0;34m]\u001b[0m\u001b[0;34m[\u001b[0m\u001b[0mint\u001b[0m\u001b[0;34m(\u001b[0m\u001b[0mindexz\u001b[0m\u001b[0;34m)\u001b[0m\u001b[0;34m]\u001b[0m\u001b[0;34m.\u001b[0m\u001b[0mupdate\u001b[0m\u001b[0;34m(\u001b[0m\u001b[0mtesting\u001b[0m\u001b[0;34m[\u001b[0m\u001b[0mindexes\u001b[0m\u001b[0;34m-\u001b[0m\u001b[0;36m1\u001b[0m\u001b[0;34m]\u001b[0m\u001b[0;34m)\u001b[0m\u001b[0;34m\u001b[0m\u001b[0m\n\u001b[0;32m---> 35\u001b[0;31m         \u001b[0;32mdel\u001b[0m \u001b[0mtesting\u001b[0m\u001b[0;34m[\u001b[0m\u001b[0mindexes\u001b[0m\u001b[0;34m]\u001b[0m\u001b[0;34m\u001b[0m\u001b[0m\n\u001b[0m\u001b[1;32m     36\u001b[0m         \u001b[0;31m#print(dt)\u001b[0m\u001b[0;34m\u001b[0m\u001b[0;34m\u001b[0m\u001b[0m\n\u001b[1;32m     37\u001b[0m         \u001b[0mprint\u001b[0m\u001b[0;34m(\u001b[0m\u001b[0;34m'---LIST-----'\u001b[0m\u001b[0;34m)\u001b[0m\u001b[0;34m\u001b[0m\u001b[0m\n",
      "\u001b[0;31mIndexError\u001b[0m: list assignment index out of range"
     ]
    }
   ],
   "source": [
    "\n",
    "dt = {}\n",
    "testing = []\n",
    "indexes = 0\n",
    "dz = {}\n",
    "for keys in test.split('.'):\n",
    "    #dz = {}\n",
    "    actual_value = {}\n",
    "    #dz.setdefault('ext', [])\n",
    "    \n",
    "    #this is final item\n",
    "    if ':' in keys: \n",
    "        print('KEYS: ', keys)\n",
    "        #dt.setdefault(keys, {})\n",
    "        value = (keys.split(sep=':')[-1:])\n",
    "        new_key = (keys.split(sep=':')[0])\n",
    "        actual_value[new_key] = value[0]\n",
    "        testing.append(actual_value)\n",
    "        \n",
    "    elif '/' in keys: #this is list\"\n",
    "        #pass\n",
    "        \n",
    "        new_keyz = (keys.split(sep='/')[0])\n",
    "        \n",
    "        indexz = list((keys.split(sep='/')[-1:]))[0]\n",
    "        dz.setdefault(new_keyz, [])\n",
    "\n",
    "        dz[new_keyz].append({})\n",
    "        \n",
    "        testing.append(dz)\n",
    "        #if bool(dt):\n",
    "        print('INDEX:::', indexz)\n",
    "        \n",
    "        dz[new_keyz][int(indexz)].update(testing[indexes-1])\n",
    "        del testing[indexes]\n",
    "        #print(dt)\n",
    "        print('---LIST-----')\n",
    "        \n",
    "        print(dz)\n",
    "        #dt['contactnumber'][0].update({'ext': [{}]})\n",
    "    else:\n",
    "        foo = {}\n",
    "        foo.setdefault(keys, {})\n",
    "        testing.append(foo)\n",
    "        \n",
    "    indexes += 1\n",
    "    #print('shit', testing[indexes-1])\n",
    "    \n",
    "\n",
    "print('-----_TEST_----')\n",
    "#print(dz)\n",
    "    \n"
   ]
  },
  {
   "cell_type": "code",
   "execution_count": null,
   "metadata": {},
   "outputs": [],
   "source": [
    "print('--ACTUAL VALUE-------')\n",
    "print(actual_value)"
   ]
  },
  {
   "cell_type": "code",
   "execution_count": null,
   "metadata": {},
   "outputs": [],
   "source": [
    "testing"
   ]
  },
  {
   "cell_type": "markdown",
   "metadata": {},
   "source": [
    "## ROOT COPY"
   ]
  },
  {
   "cell_type": "code",
   "execution_count": null,
   "metadata": {},
   "outputs": [],
   "source": [
    "testing[0]['answers'] = testing[1]"
   ]
  },
  {
   "cell_type": "code",
   "execution_count": null,
   "metadata": {},
   "outputs": [],
   "source": [
    "testing[2]"
   ]
  },
  {
   "cell_type": "markdown",
   "metadata": {},
   "source": [
    "## Non-root copy"
   ]
  },
  {
   "cell_type": "code",
   "execution_count": null,
   "metadata": {},
   "outputs": [],
   "source": [
    "testing[1]['contactnumber'][0] = testing[2]\n",
    "testing"
   ]
  },
  {
   "cell_type": "code",
   "execution_count": null,
   "metadata": {},
   "outputs": [],
   "source": [
    "testing"
   ]
  },
  {
   "cell_type": "markdown",
   "metadata": {},
   "source": [
    "## TEST ARRAY TESTING"
   ]
  },
  {
   "cell_type": "code",
   "execution_count": null,
   "metadata": {},
   "outputs": [],
   "source": [
    "ixd = 1\n",
    "testing_key = list(testing[len(testing)-(ixd+1)].keys())[0]\n",
    "value_type = type(list(testing[len(testing)-(ixd+1)].values())[0])\n",
    "\n",
    "testing[len(testing)-(ixd+1)][testing_key][0] = testing[len(testing)-ixd]\n",
    "\n",
    "#testing[0][testing_key] = testing[len(testing)-ixd]\n",
    "\n",
    "del testing[len(testing)-1]\n",
    "testing"
   ]
  },
  {
   "cell_type": "code",
   "execution_count": null,
   "metadata": {},
   "outputs": [],
   "source": [
    "ixd = 1\n",
    "testing_key = list(testing[len(testing)-(ixd+1)].keys())[0]\n",
    "value_type = type(list(testing[len(testing)-(ixd+1)].values())[0])\n",
    "\n",
    "if type(list(testing[len(testing)-(ixd+1)].values())[0]) is list:\n",
    "    testing[len(testing)-(ixd+1)][testing_key][0] = testing[len(testing)-ixd]\n",
    "else:\n",
    "    testing[0][testing_key] = testing[len(testing)-ixd]\n",
    "\n",
    "del testing[len(testing)-1]\n",
    "testing"
   ]
  },
  {
   "cell_type": "code",
   "execution_count": null,
   "metadata": {},
   "outputs": [],
   "source": [
    "type(list(testing[0].values())[0])"
   ]
  },
  {
   "cell_type": "code",
   "execution_count": null,
   "metadata": {},
   "outputs": [],
   "source": [
    "type(list(testing[len(testing)-2].values())[0])\n"
   ]
  },
  {
   "cell_type": "code",
   "execution_count": null,
   "metadata": {},
   "outputs": [],
   "source": [
    "\n",
    "for item in testing:\n",
    "    ixd = 1\n",
    "    testing_key = list(testing[len(testing)-(ixd+1)].keys())[0]\n",
    "    value_type = type(list(testing[len(testing)-(ixd+1)].values())[0])\n",
    "\n",
    "    if type(list(testing[len(testing)-(ixd+1)].values())[0]) is list:\n",
    "        testing[len(testing)-(ixd+1)][testing_key][0] = testing[len(testing)-ixd]\n",
    "    else:\n",
    "        testing[0][testing_key] = testing[len(testing)-ixd]\n",
    "    #del testing[len(testing)-1]\n",
    "    ixd += 1\n"
   ]
  },
  {
   "cell_type": "code",
   "execution_count": null,
   "metadata": {},
   "outputs": [],
   "source": [
    "testing"
   ]
  },
  {
   "cell_type": "code",
   "execution_count": null,
   "metadata": {},
   "outputs": [],
   "source": []
  },
  {
   "cell_type": "code",
   "execution_count": null,
   "metadata": {},
   "outputs": [],
   "source": []
  },
  {
   "cell_type": "code",
   "execution_count": null,
   "metadata": {},
   "outputs": [],
   "source": []
  },
  {
   "cell_type": "code",
   "execution_count": null,
   "metadata": {},
   "outputs": [],
   "source": [
    "a = {}\n",
    "a.setdefault('contactnumber', [None])\n",
    "\n",
    "a['contactnumber'][0] = {}\n",
    "a['contactnumber'][0].update(d)\n",
    "\n",
    "a"
   ]
  },
  {
   "cell_type": "code",
   "execution_count": null,
   "metadata": {},
   "outputs": [],
   "source": [
    "q = {}\n",
    "q.setdefault('type', '')\n",
    "q['type'] = 'Landline'\n",
    "\n",
    "a['contactnumber'][0].update(q)\n",
    "a"
   ]
  },
  {
   "cell_type": "code",
   "execution_count": null,
   "metadata": {},
   "outputs": [],
   "source": [
    "json.dumps(a)"
   ]
  },
  {
   "cell_type": "code",
   "execution_count": null,
   "metadata": {},
   "outputs": [],
   "source": [
    "xy = defaultdict(dict)\n",
    "\n",
    "xy['contactnumber']['ext'] = 'foo'\n",
    "#xy['contactnumber']['ext'] = 'bar'\n",
    "xy"
   ]
  },
  {
   "cell_type": "code",
   "execution_count": null,
   "metadata": {},
   "outputs": [],
   "source": []
  }
 ],
 "metadata": {
  "kernelspec": {
   "display_name": "Python 3",
   "language": "python",
   "name": "python3"
  },
  "language_info": {
   "codemirror_mode": {
    "name": "ipython",
    "version": 3
   },
   "file_extension": ".py",
   "mimetype": "text/x-python",
   "name": "python",
   "nbconvert_exporter": "python",
   "pygments_lexer": "ipython3",
   "version": "3.6.2"
  }
 },
 "nbformat": 4,
 "nbformat_minor": 2
}
