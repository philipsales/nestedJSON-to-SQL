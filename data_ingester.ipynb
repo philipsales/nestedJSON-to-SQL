{
 "cells": [
  {
   "cell_type": "code",
   "execution_count": 345,
   "metadata": {},
   "outputs": [],
   "source": [
    "import numpy as np\n",
    "import pandas as pd\n",
    "import json\n",
    "from pandas.io.json import json_normalize \n",
    "from pandas import read_csv\n",
    "import logging\n",
    "from functools import reduce\n",
    "import csv"
   ]
  },
  {
   "cell_type": "code",
   "execution_count": 346,
   "metadata": {},
   "outputs": [],
   "source": [
    "## Configuration "
   ]
  },
  {
   "cell_type": "code",
   "execution_count": 347,
   "metadata": {},
   "outputs": [],
   "source": [
    "#etl = 'kobo2elastic'\n",
    "#etl = 'curis2elastic'\n",
    "etl = 'oldCuris2newAQM'\n",
    "#etl = 'oldcuris2newcuris'\n",
    "\n",
    "input_schema_file = ''\n",
    "input_data_file = ''\n",
    "mapping_file = ''\n",
    "\n",
    "#root_object = 'resident'\n",
    "root_object = 'healthinformation'\n",
    "\n",
    "if etl == 'oldCuris2newAQM':\n",
    "    input_schema_file = 'schema/output/healthinfo.schema.json'\n",
    "    input_data_file = 'data/healthinfo.1-item.json'\n",
    "    mapping_file = 'schema/map/oldCuris2newAQM.map.csv'\n",
    "    output_dir = 'file/sample_output/'\n",
    "\n",
    "elif etl == 'curis2elastic':\n",
    "    #old curis to elasticsearch\n",
    "    input_schema_file = 'schema/input/curisSchema.1-item.json'\n",
    "    input_data_file = 'data/curisData.1-items.json'\n",
    "    mapping_file = 'schema/map/couchbase2elastic.map.csv'\n",
    "    output_dir = 'file/curisSchema/'\n",
    "    \n",
    "elif etl == 'kobo2elastic':\n",
    "    #kobo to elasticsearch\n",
    "    input_schema_file = 'schema/input/koboSchema.1-item.json'\n",
    "    input_data_file = 'data/koboData.2-items.json'\n",
    "    mapping_file = 'schema/map/kobo2elastic.map.csv'\n",
    "    output_dir = 'file/koboSchema/'\n",
    "elif etl == 'oldcuris2newcuris':\n",
    "    #kobo to elasticsearch\n",
    "    input_schema_file = 'schema/input/curisData.1-Schema.avro.json'\n",
    "    input_data_file = 'data/curisData.1-items.json'\n",
    "    mapping_file = 'schema/map/kobo2elastic.map.csv'"
   ]
  },
  {
   "cell_type": "code",
   "execution_count": 348,
   "metadata": {},
   "outputs": [],
   "source": [
    "## Flatten json"
   ]
  },
  {
   "cell_type": "code",
   "execution_count": 349,
   "metadata": {},
   "outputs": [],
   "source": [
    "def _flatten_json(nested_json):\n",
    "    out = {}\n",
    "\n",
    "    def flatten(x, name=''):\n",
    "        if type(x) is dict:\n",
    "            for a in x:\n",
    "                flatten(x[a], name + a + '.')\n",
    "        elif type(x) is list:\n",
    "            i = 0\n",
    "            for a in x:\n",
    "                flatten(a, name + '' + str(i) + '.')\n",
    "                i += 1\n",
    "        else:\n",
    "            out[name[:-1]] = x\n",
    "\n",
    "    flatten(nested_json)\n",
    "    return out"
   ]
  },
  {
   "cell_type": "code",
   "execution_count": 350,
   "metadata": {},
   "outputs": [],
   "source": [
    "## header filters"
   ]
  },
  {
   "cell_type": "code",
   "execution_count": 351,
   "metadata": {},
   "outputs": [],
   "source": [
    "## OPTIMIZE TO ACCEPT LIST NOT DATAFRAME\n",
    "def filter_key(x):\n",
    "    lists = format_key(x)\n",
    "    lists = exclude_digit(lists)\n",
    "    lists = list2string(lists)\n",
    "    return lists\n",
    "\n",
    "def filter_index_map(x):\n",
    "    lists = format_key(x)\n",
    "    lists = include_digit(lists)\n",
    "    lists = list2string(lists)\n",
    "    return lists\n",
    "\n",
    "def format_key(items):\n",
    "    #return list(map(lambda x:x.lower().split(sep='.'), items ))\n",
    "    return items.lower().split(sep='.')\n",
    "\n",
    "def include_digit(items):\n",
    "    return [item for item in items if item.isdigit()]\n",
    "\n",
    "def exclude_digit(items):\n",
    "    return [item for item in items if not item.isdigit()]\n",
    "\n",
    "def list2string(lists):\n",
    "    return '.'.join(lists)"
   ]
  },
  {
   "cell_type": "code",
   "execution_count": 352,
   "metadata": {},
   "outputs": [],
   "source": [
    "## File loader"
   ]
  },
  {
   "cell_type": "code",
   "execution_count": 353,
   "metadata": {},
   "outputs": [],
   "source": [
    "def _open_file():\n",
    "    with open(input_data_file) as f:\n",
    "        return json.load(f)\n",
    "    \n",
    "def _dict_to_dataframe(dict_object):\n",
    "    return pd.DataFrame.from_dict({'value': dict_object})\n",
    "\n",
    "def _add_custom_colums(dataframe_object):\n",
    "    dataframe_object['key'] = list(dataframe_object.index)\n",
    "    dataframe_object['key'] = dataframe_object['key'].apply(filter_key)\n",
    "\n",
    "    dataframe_object['_index_map'] = list(dataframe_object.index)\n",
    "    dataframe_object['_index_map'] = dataframe_object['_index_map'].apply(filter_index_map)\n",
    "    #TODO: musbe adjusted dynamically\n",
    "    \n",
    "    #CHECK if single object or array of objects\n",
    "    dataframe_object['_id'] = dataframe_object[dataframe_object['key'] == 'formid' ]['value'].values[0]\n",
    "\n",
    "    dataframe_object = dataframe_object.reset_index(drop=True)\n",
    "\n",
    "    return dataframe_object"
   ]
  },
  {
   "cell_type": "code",
   "execution_count": 354,
   "metadata": {},
   "outputs": [],
   "source": [
    "def _get_csv_headers(filename):\n",
    "    return pd.read_csv( output_dir + filename + '.csv',nrows=0) #get header only"
   ]
  },
  {
   "cell_type": "code",
   "execution_count": 355,
   "metadata": {},
   "outputs": [],
   "source": [
    "def _get_required_data(input_data_df,csv_header_df):\n",
    "    required_header_list = [] \n",
    "\n",
    "    for data in input_data_df['key']:\n",
    "        if data in csv_header_df.columns:\n",
    "            required_header_list.append(data)\n",
    "    \n",
    "    #print(required_header_list)\n",
    "    return input_data_df[input_data_df['key'].isin(required_header_list)]\n",
    "\n",
    "def _rename_index(data_df):\n",
    "    if 'key' in data_df.columns:\n",
    "        data_df.index = list(data_df['key'])\n",
    "        data_df = data_df.drop('key', axis=1)\n",
    "    return data_df \n",
    "\n",
    "def _columnar_to_row(input_data_df,csv_header_df):\n",
    "    \n",
    "    for header in list(input_data_df.index):\n",
    "        if header:\n",
    "            csv_header_df.at['',header] = input_data_df.loc[header]['value'] \n",
    "    \n",
    "\n",
    "        csv_header_df.at['','_id'] = input_data_df['_id'][header] \n",
    "        csv_header_df.at['','_index_map'] = input_data_df['_index_map'][header] \n",
    "    return csv_header_df\n",
    "    \n",
    "def _write_to_csv(data_csv_df, filename):\n",
    "    return data_csv_df.to_csv(output_dir + filename + '.csv', encoding='utf-8', mode='a', header=False,index=False)"
   ]
  },
  {
   "cell_type": "code",
   "execution_count": 356,
   "metadata": {},
   "outputs": [],
   "source": [
    "## Load Data"
   ]
  },
  {
   "cell_type": "code",
   "execution_count": null,
   "metadata": {},
   "outputs": [],
   "source": []
  },
  {
   "cell_type": "code",
   "execution_count": 357,
   "metadata": {},
   "outputs": [],
   "source": [
    "## Filter index_map"
   ]
  },
  {
   "cell_type": "code",
   "execution_count": 358,
   "metadata": {},
   "outputs": [],
   "source": [
    "def _get_index_map(data_df):\n",
    "    return list(data_df['_index_map'].unique())\n",
    "\n",
    "def _get_filenames():\n",
    "    schema_csv = pd.read_csv(output_dir + 'schema.csv', skiprows=0)\n",
    "    return schema_csv['file_name'].values[0].split(sep=\",\")\n",
    "\n",
    "def _filter_by_indexmap(data_df, index):\n",
    "    return data_df[data_df['_index_map'] == index ]"
   ]
  },
  {
   "cell_type": "code",
   "execution_count": 359,
   "metadata": {},
   "outputs": [],
   "source": [
    "def clean_value(x):\n",
    "    return x.lower().replace(\"/\", \".\").replace(\"the\", \"\").replace(\"schema\", \"\").strip()"
   ]
  },
  {
   "cell_type": "code",
   "execution_count": 360,
   "metadata": {},
   "outputs": [],
   "source": [
    "def _main(data_flat_df):\n",
    "    index_map_list = []\n",
    "    headers_list = []\n",
    "    \n",
    "    index_map_list = _get_index_map(data_flat_df)\n",
    "    headers_list = _get_filenames()\n",
    "\n",
    "    #TODO: remove filter by index\n",
    "    #print(index_map_list)\n",
    "    #print(headers_list)\n",
    "    for index in index_map_list:\n",
    "        for header in headers_list:\n",
    "            #print(header)\n",
    "            source_data_df = pd.DataFrame()\n",
    "            source_data_df = _filter_by_indexmap(data_flat_df, index)\n",
    "            source_data_df['key']  =  source_data_df['key'].apply(clean_value)\n",
    "\n",
    "            csv_header_df = pd.DataFrame()\n",
    "            csv_header_df = _get_csv_headers(header)\n",
    "        \n",
    "            new_data_df = pd.DataFrame()\n",
    "            new_data_df = _get_required_data(source_data_df, csv_header_df)\n",
    "            new_data_df = _rename_index(new_data_df)\n",
    "            new_data_df = _columnar_to_row(new_data_df, csv_header_df)\n",
    "            new_data_df = _write_to_csv(new_data_df, header)\n",
    "    '''\n",
    "    for header in headers_list:\n",
    "        source_data_df = pd.DataFrame()\n",
    "        source_data_df = _filter_by_indexmap(data_flat_df, '0')\n",
    "        #source_data_df = data_flat_df\n",
    "        source_data_df['key']  =  source_data_df['key'].apply(clean_value)\n",
    "        #print(source_data_df)\n",
    "        \n",
    "        csv_header_df = pd.DataFrame()\n",
    "        csv_header_df = _get_csv_headers(header)\n",
    "\n",
    "        new_data_df = pd.DataFrame()\n",
    "        new_data_df = _get_required_data(source_data_df, csv_header_df)\n",
    "        new_data_df = _rename_index(new_data_df)\n",
    "        new_data_df = _columnar_to_row(new_data_df, csv_header_df)\n",
    "        new_data_df = _write_to_csv(new_data_df, header)\n",
    "    '''\n",
    "    return new_data_df"
   ]
  },
  {
   "cell_type": "code",
   "execution_count": 361,
   "metadata": {},
   "outputs": [],
   "source": [
    "def init(data_list):\n",
    "    index = 0\n",
    "    print('total item: ', len(data_list))\n",
    "    for datum in data_list:\n",
    "        index += 1\n",
    "        print('index: ',index)\n",
    "\n",
    "        data_flat_dict = {}\n",
    "        data_flat_df = pd.DataFrame()\n",
    "        \n",
    "        data_flat_dict = _flatten_json(datum)\n",
    "        \n",
    "        data_flat_df = _dict_to_dataframe(data_flat_dict)\n",
    "        data_flat_df = _add_custom_colums(data_flat_df)\n",
    "        _main(data_flat_df)\n",
    "    return"
   ]
  },
  {
   "cell_type": "code",
   "execution_count": 362,
   "metadata": {},
   "outputs": [
    {
     "name": "stdout",
     "output_type": "stream",
     "text": [
      "total item:  1\n",
      "index:  1\n"
     ]
    },
    {
     "name": "stderr",
     "output_type": "stream",
     "text": [
      "/Users/ghost/src/virtual_env/jupyther3.6/lib/python3.6/site-packages/ipykernel_launcher.py:16: SettingWithCopyWarning: \n",
      "A value is trying to be set on a copy of a slice from a DataFrame.\n",
      "Try using .loc[row_indexer,col_indexer] = value instead\n",
      "\n",
      "See the caveats in the documentation: http://pandas.pydata.org/pandas-docs/stable/indexing.html#indexing-view-versus-copy\n",
      "  app.launch_new_instance()\n"
     ]
    }
   ],
   "source": [
    "data_list = []\n",
    "data_list = _open_file()\n",
    "#data_list\n",
    "init(data_list)"
   ]
  },
  {
   "cell_type": "code",
   "execution_count": 363,
   "metadata": {},
   "outputs": [],
   "source": [
    "## ================================================="
   ]
  },
  {
   "cell_type": "code",
   "execution_count": 364,
   "metadata": {},
   "outputs": [],
   "source": [
    "## Get Index_map unique values"
   ]
  },
  {
   "cell_type": "code",
   "execution_count": 365,
   "metadata": {},
   "outputs": [
    {
     "data": {
      "text/plain": [
       "'\\n    \"answers\": {\\n        \"Address\": [{\\n            \"Location\": {\\n                \"Street\": [\"12312\", \"234234\"],\\n                \"City\": \"City\"\\n            }\\n        }],\\n'"
      ]
     },
     "execution_count": 365,
     "metadata": {},
     "output_type": "execute_result"
    }
   ],
   "source": [
    "## BUG: IF ADDRESS IS \n",
    "'''\n",
    "    \"answers\": {\n",
    "        \"Address\": [{\n",
    "            \"Location\": {\n",
    "                \"Street\": [\"12312\", \"234234\"],\n",
    "                \"City\": \"City\"\n",
    "            }\n",
    "        }],\n",
    "'''"
   ]
  },
  {
   "cell_type": "code",
   "execution_count": 366,
   "metadata": {},
   "outputs": [
    {
     "data": {
      "text/plain": [
       "3"
      ]
     },
     "execution_count": 366,
     "metadata": {},
     "output_type": "execute_result"
    }
   ],
   "source": [
    "3"
   ]
  },
  {
   "cell_type": "code",
   "execution_count": null,
   "metadata": {},
   "outputs": [],
   "source": []
  },
  {
   "cell_type": "code",
   "execution_count": null,
   "metadata": {},
   "outputs": [],
   "source": []
  },
  {
   "cell_type": "code",
   "execution_count": null,
   "metadata": {},
   "outputs": [],
   "source": []
  },
  {
   "cell_type": "code",
   "execution_count": null,
   "metadata": {},
   "outputs": [],
   "source": []
  },
  {
   "cell_type": "code",
   "execution_count": null,
   "metadata": {},
   "outputs": [],
   "source": []
  },
  {
   "cell_type": "code",
   "execution_count": null,
   "metadata": {},
   "outputs": [],
   "source": []
  },
  {
   "cell_type": "code",
   "execution_count": null,
   "metadata": {},
   "outputs": [],
   "source": []
  },
  {
   "cell_type": "code",
   "execution_count": null,
   "metadata": {},
   "outputs": [],
   "source": []
  },
  {
   "cell_type": "code",
   "execution_count": null,
   "metadata": {},
   "outputs": [],
   "source": []
  },
  {
   "cell_type": "code",
   "execution_count": null,
   "metadata": {},
   "outputs": [],
   "source": []
  },
  {
   "cell_type": "code",
   "execution_count": null,
   "metadata": {},
   "outputs": [],
   "source": []
  },
  {
   "cell_type": "code",
   "execution_count": null,
   "metadata": {},
   "outputs": [],
   "source": []
  },
  {
   "cell_type": "code",
   "execution_count": null,
   "metadata": {},
   "outputs": [],
   "source": []
  },
  {
   "cell_type": "code",
   "execution_count": null,
   "metadata": {},
   "outputs": [],
   "source": []
  },
  {
   "cell_type": "code",
   "execution_count": null,
   "metadata": {},
   "outputs": [],
   "source": []
  },
  {
   "cell_type": "code",
   "execution_count": null,
   "metadata": {},
   "outputs": [],
   "source": []
  },
  {
   "cell_type": "code",
   "execution_count": null,
   "metadata": {},
   "outputs": [],
   "source": []
  },
  {
   "cell_type": "code",
   "execution_count": null,
   "metadata": {},
   "outputs": [],
   "source": []
  },
  {
   "cell_type": "code",
   "execution_count": null,
   "metadata": {},
   "outputs": [],
   "source": []
  },
  {
   "cell_type": "code",
   "execution_count": null,
   "metadata": {},
   "outputs": [],
   "source": []
  },
  {
   "cell_type": "code",
   "execution_count": null,
   "metadata": {},
   "outputs": [],
   "source": []
  },
  {
   "cell_type": "code",
   "execution_count": null,
   "metadata": {},
   "outputs": [],
   "source": []
  },
  {
   "cell_type": "code",
   "execution_count": null,
   "metadata": {},
   "outputs": [],
   "source": []
  },
  {
   "cell_type": "code",
   "execution_count": null,
   "metadata": {},
   "outputs": [],
   "source": []
  },
  {
   "cell_type": "code",
   "execution_count": null,
   "metadata": {},
   "outputs": [],
   "source": []
  },
  {
   "cell_type": "code",
   "execution_count": null,
   "metadata": {},
   "outputs": [],
   "source": []
  },
  {
   "cell_type": "code",
   "execution_count": null,
   "metadata": {},
   "outputs": [],
   "source": []
  },
  {
   "cell_type": "code",
   "execution_count": null,
   "metadata": {},
   "outputs": [],
   "source": []
  },
  {
   "cell_type": "code",
   "execution_count": null,
   "metadata": {},
   "outputs": [],
   "source": []
  },
  {
   "cell_type": "code",
   "execution_count": null,
   "metadata": {},
   "outputs": [],
   "source": []
  },
  {
   "cell_type": "code",
   "execution_count": null,
   "metadata": {},
   "outputs": [],
   "source": []
  },
  {
   "cell_type": "code",
   "execution_count": null,
   "metadata": {},
   "outputs": [],
   "source": []
  },
  {
   "cell_type": "code",
   "execution_count": null,
   "metadata": {},
   "outputs": [],
   "source": []
  },
  {
   "cell_type": "code",
   "execution_count": null,
   "metadata": {},
   "outputs": [],
   "source": []
  },
  {
   "cell_type": "code",
   "execution_count": null,
   "metadata": {},
   "outputs": [],
   "source": []
  },
  {
   "cell_type": "code",
   "execution_count": null,
   "metadata": {},
   "outputs": [],
   "source": []
  },
  {
   "cell_type": "code",
   "execution_count": null,
   "metadata": {},
   "outputs": [],
   "source": []
  },
  {
   "cell_type": "code",
   "execution_count": null,
   "metadata": {},
   "outputs": [],
   "source": []
  },
  {
   "cell_type": "code",
   "execution_count": null,
   "metadata": {},
   "outputs": [],
   "source": []
  },
  {
   "cell_type": "code",
   "execution_count": null,
   "metadata": {},
   "outputs": [],
   "source": []
  },
  {
   "cell_type": "code",
   "execution_count": null,
   "metadata": {},
   "outputs": [],
   "source": []
  },
  {
   "cell_type": "code",
   "execution_count": null,
   "metadata": {},
   "outputs": [],
   "source": []
  },
  {
   "cell_type": "code",
   "execution_count": null,
   "metadata": {},
   "outputs": [],
   "source": []
  },
  {
   "cell_type": "code",
   "execution_count": null,
   "metadata": {},
   "outputs": [],
   "source": []
  },
  {
   "cell_type": "code",
   "execution_count": null,
   "metadata": {},
   "outputs": [],
   "source": []
  },
  {
   "cell_type": "code",
   "execution_count": null,
   "metadata": {},
   "outputs": [],
   "source": []
  },
  {
   "cell_type": "code",
   "execution_count": null,
   "metadata": {},
   "outputs": [],
   "source": []
  },
  {
   "cell_type": "code",
   "execution_count": null,
   "metadata": {},
   "outputs": [],
   "source": []
  },
  {
   "cell_type": "code",
   "execution_count": null,
   "metadata": {},
   "outputs": [],
   "source": []
  },
  {
   "cell_type": "code",
   "execution_count": null,
   "metadata": {},
   "outputs": [],
   "source": []
  }
 ],
 "metadata": {
  "kernelspec": {
   "display_name": "Python 3",
   "language": "python",
   "name": "python3"
  },
  "language_info": {
   "codemirror_mode": {
    "name": "ipython",
    "version": 3
   },
   "file_extension": ".py",
   "mimetype": "text/x-python",
   "name": "python",
   "nbconvert_exporter": "python",
   "pygments_lexer": "ipython3",
   "version": "3.6.2"
  }
 },
 "nbformat": 4,
 "nbformat_minor": 2
}
